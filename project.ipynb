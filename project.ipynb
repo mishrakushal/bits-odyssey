{
 "cells": [
  {
   "cell_type": "markdown",
   "metadata": {},
   "source": [
    "# BITSAT Odyssey: Navigating Students' Success in College\n"
   ]
  },
  {
   "cell_type": "markdown",
   "metadata": {},
   "source": [
    "### Importing the necessary libraries\n"
   ]
  },
  {
   "cell_type": "code",
   "execution_count": 1,
   "metadata": {},
   "outputs": [],
   "source": [
    "import pandas as pd\n",
    "import numpy as np\n",
    "import plotly.express as px\n",
    "import plotly.figure_factory as ff\n",
    "from collections import defaultdict\n",
    "from pandas import isna"
   ]
  },
  {
   "cell_type": "markdown",
   "metadata": {},
   "source": [
    "### Getting the data\n"
   ]
  },
  {
   "cell_type": "code",
   "execution_count": 2,
   "metadata": {},
   "outputs": [],
   "source": [
    "df = pd.read_csv(\"final-dataset.csv\")"
   ]
  },
  {
   "cell_type": "code",
   "execution_count": 3,
   "metadata": {},
   "outputs": [
    {
     "data": {
      "text/html": [
       "<div>\n",
       "<style scoped>\n",
       "    .dataframe tbody tr th:only-of-type {\n",
       "        vertical-align: middle;\n",
       "    }\n",
       "\n",
       "    .dataframe tbody tr th {\n",
       "        vertical-align: top;\n",
       "    }\n",
       "\n",
       "    .dataframe thead th {\n",
       "        text-align: right;\n",
       "    }\n",
       "</style>\n",
       "<table border=\"1\" class=\"dataframe\">\n",
       "  <thead>\n",
       "    <tr style=\"text-align: right;\">\n",
       "      <th></th>\n",
       "      <th>Timestamp</th>\n",
       "      <th>Your BITSAT (or SAT) Score</th>\n",
       "      <th>Maximum BITSAT Score</th>\n",
       "      <th>Field of Study</th>\n",
       "      <th>Semester Wise Scores [9.51 - 10.00]</th>\n",
       "      <th>Semester Wise Scores [9.01 - 9.50]</th>\n",
       "      <th>Semester Wise Scores [8.51 - 9.00]</th>\n",
       "      <th>Semester Wise Scores [8.01 - 8.50]</th>\n",
       "      <th>Semester Wise Scores [7.51 - 8.00]</th>\n",
       "      <th>Semester Wise Scores [7.01 - 7.50]</th>\n",
       "      <th>...</th>\n",
       "      <th>Semester Wise Scores [5.51 - 6.00]</th>\n",
       "      <th>Semester Wise Scores [5.01 - 5.50]</th>\n",
       "      <th>Semester Wise Scores [4.50 - 5.00]</th>\n",
       "      <th>Current/Graduating CGPA</th>\n",
       "      <th>Current Semester</th>\n",
       "      <th>How many courses have you withdrawn from?</th>\n",
       "      <th>Your Pronouns (optional)</th>\n",
       "      <th>Semester Wise Scores [Less than 4.50]</th>\n",
       "      <th>Maximum SAT Score</th>\n",
       "      <th>Are you an international student?</th>\n",
       "    </tr>\n",
       "  </thead>\n",
       "  <tbody>\n",
       "    <tr>\n",
       "      <th>0</th>\n",
       "      <td>11/8/2023 19:03:18</td>\n",
       "      <td>282</td>\n",
       "      <td>450</td>\n",
       "      <td>A3</td>\n",
       "      <td>NaN</td>\n",
       "      <td>1-1 SGPA</td>\n",
       "      <td>2-2 SGPA</td>\n",
       "      <td>2-1 SGPA</td>\n",
       "      <td>1-2 SGPA</td>\n",
       "      <td>NaN</td>\n",
       "      <td>...</td>\n",
       "      <td>NaN</td>\n",
       "      <td>NaN</td>\n",
       "      <td>NaN</td>\n",
       "      <td>8.45</td>\n",
       "      <td>5</td>\n",
       "      <td>1</td>\n",
       "      <td>NaN</td>\n",
       "      <td>NaN</td>\n",
       "      <td>NaN</td>\n",
       "      <td>NaN</td>\n",
       "    </tr>\n",
       "    <tr>\n",
       "      <th>1</th>\n",
       "      <td>11/8/2023 19:07:00</td>\n",
       "      <td>335</td>\n",
       "      <td>390</td>\n",
       "      <td>A7</td>\n",
       "      <td>NaN</td>\n",
       "      <td>1-2 SGPA</td>\n",
       "      <td>1-1 SGPA</td>\n",
       "      <td>NaN</td>\n",
       "      <td>NaN</td>\n",
       "      <td>NaN</td>\n",
       "      <td>...</td>\n",
       "      <td>NaN</td>\n",
       "      <td>NaN</td>\n",
       "      <td>NaN</td>\n",
       "      <td>8.88</td>\n",
       "      <td>3</td>\n",
       "      <td>1</td>\n",
       "      <td>he/him</td>\n",
       "      <td>NaN</td>\n",
       "      <td>NaN</td>\n",
       "      <td>NaN</td>\n",
       "    </tr>\n",
       "    <tr>\n",
       "      <th>2</th>\n",
       "      <td>11/8/2023 19:11:08</td>\n",
       "      <td>358</td>\n",
       "      <td>450</td>\n",
       "      <td>A7</td>\n",
       "      <td>NaN</td>\n",
       "      <td>NaN</td>\n",
       "      <td>2-1 SGPA</td>\n",
       "      <td>1-2 SGPA</td>\n",
       "      <td>2-2 SGPA</td>\n",
       "      <td>1-1 SGPA</td>\n",
       "      <td>...</td>\n",
       "      <td>NaN</td>\n",
       "      <td>NaN</td>\n",
       "      <td>NaN</td>\n",
       "      <td>8.28</td>\n",
       "      <td>5</td>\n",
       "      <td>1</td>\n",
       "      <td>He/Him</td>\n",
       "      <td>NaN</td>\n",
       "      <td>NaN</td>\n",
       "      <td>NaN</td>\n",
       "    </tr>\n",
       "    <tr>\n",
       "      <th>3</th>\n",
       "      <td>11/8/2023 19:28:09</td>\n",
       "      <td>281</td>\n",
       "      <td>450</td>\n",
       "      <td>B4, AA</td>\n",
       "      <td>NaN</td>\n",
       "      <td>NaN</td>\n",
       "      <td>1-1 SGPA</td>\n",
       "      <td>NaN</td>\n",
       "      <td>1-2 SGPA</td>\n",
       "      <td>2-1 SGPA, 3-1 SGPA, 3-2 SGPA</td>\n",
       "      <td>...</td>\n",
       "      <td>NaN</td>\n",
       "      <td>NaN</td>\n",
       "      <td>NaN</td>\n",
       "      <td>7.50</td>\n",
       "      <td>7</td>\n",
       "      <td>0</td>\n",
       "      <td>NaN</td>\n",
       "      <td>NaN</td>\n",
       "      <td>NaN</td>\n",
       "      <td>NaN</td>\n",
       "    </tr>\n",
       "    <tr>\n",
       "      <th>4</th>\n",
       "      <td>11/8/2023 19:33:39</td>\n",
       "      <td>281</td>\n",
       "      <td>450</td>\n",
       "      <td>A4</td>\n",
       "      <td>NaN</td>\n",
       "      <td>NaN</td>\n",
       "      <td>NaN</td>\n",
       "      <td>NaN</td>\n",
       "      <td>3-2 SGPA</td>\n",
       "      <td>1-1 SGPA, 1-2 SGPA, 3-1 SGPA</td>\n",
       "      <td>...</td>\n",
       "      <td>NaN</td>\n",
       "      <td>NaN</td>\n",
       "      <td>NaN</td>\n",
       "      <td>7.40</td>\n",
       "      <td>7</td>\n",
       "      <td>2</td>\n",
       "      <td>kezzy/uwu</td>\n",
       "      <td>NaN</td>\n",
       "      <td>NaN</td>\n",
       "      <td>NaN</td>\n",
       "    </tr>\n",
       "  </tbody>\n",
       "</table>\n",
       "<p>5 rows × 22 columns</p>\n",
       "</div>"
      ],
      "text/plain": [
       "            Timestamp  Your BITSAT (or SAT) Score Maximum BITSAT Score  \\\n",
       "0  11/8/2023 19:03:18                         282                  450   \n",
       "1  11/8/2023 19:07:00                         335                  390   \n",
       "2  11/8/2023 19:11:08                         358                  450   \n",
       "3  11/8/2023 19:28:09                         281                  450   \n",
       "4  11/8/2023 19:33:39                         281                  450   \n",
       "\n",
       "  Field of Study Semester Wise Scores [9.51 - 10.00]  \\\n",
       "0             A3                                 NaN   \n",
       "1             A7                                 NaN   \n",
       "2             A7                                 NaN   \n",
       "3         B4, AA                                 NaN   \n",
       "4             A4                                 NaN   \n",
       "\n",
       "  Semester Wise Scores [9.01 - 9.50] Semester Wise Scores [8.51 - 9.00]  \\\n",
       "0                           1-1 SGPA                           2-2 SGPA   \n",
       "1                           1-2 SGPA                           1-1 SGPA   \n",
       "2                                NaN                           2-1 SGPA   \n",
       "3                                NaN                           1-1 SGPA   \n",
       "4                                NaN                                NaN   \n",
       "\n",
       "  Semester Wise Scores [8.01 - 8.50] Semester Wise Scores [7.51 - 8.00]  \\\n",
       "0                           2-1 SGPA                           1-2 SGPA   \n",
       "1                                NaN                                NaN   \n",
       "2                           1-2 SGPA                           2-2 SGPA   \n",
       "3                                NaN                           1-2 SGPA   \n",
       "4                                NaN                           3-2 SGPA   \n",
       "\n",
       "  Semester Wise Scores [7.01 - 7.50]  ... Semester Wise Scores [5.51 - 6.00]  \\\n",
       "0                                NaN  ...                                NaN   \n",
       "1                                NaN  ...                                NaN   \n",
       "2                           1-1 SGPA  ...                                NaN   \n",
       "3       2-1 SGPA, 3-1 SGPA, 3-2 SGPA  ...                                NaN   \n",
       "4       1-1 SGPA, 1-2 SGPA, 3-1 SGPA  ...                                NaN   \n",
       "\n",
       "  Semester Wise Scores [5.01 - 5.50] Semester Wise Scores [4.50 - 5.00]  \\\n",
       "0                                NaN                                NaN   \n",
       "1                                NaN                                NaN   \n",
       "2                                NaN                                NaN   \n",
       "3                                NaN                                NaN   \n",
       "4                                NaN                                NaN   \n",
       "\n",
       "  Current/Graduating CGPA Current Semester  \\\n",
       "0                    8.45                5   \n",
       "1                    8.88                3   \n",
       "2                    8.28                5   \n",
       "3                    7.50                7   \n",
       "4                    7.40                7   \n",
       "\n",
       "   How many courses have you withdrawn from? Your Pronouns (optional)  \\\n",
       "0                                          1                      NaN   \n",
       "1                                          1                   he/him   \n",
       "2                                          1                   He/Him   \n",
       "3                                          0                      NaN   \n",
       "4                                          2                kezzy/uwu   \n",
       "\n",
       "   Semester Wise Scores [Less than 4.50] Maximum SAT Score  \\\n",
       "0                                    NaN               NaN   \n",
       "1                                    NaN               NaN   \n",
       "2                                    NaN               NaN   \n",
       "3                                    NaN               NaN   \n",
       "4                                    NaN               NaN   \n",
       "\n",
       "  Are you an international student?  \n",
       "0                               NaN  \n",
       "1                               NaN  \n",
       "2                               NaN  \n",
       "3                               NaN  \n",
       "4                               NaN  \n",
       "\n",
       "[5 rows x 22 columns]"
      ]
     },
     "execution_count": 3,
     "metadata": {},
     "output_type": "execute_result"
    }
   ],
   "source": [
    "df.head()"
   ]
  },
  {
   "cell_type": "markdown",
   "metadata": {},
   "source": [
    "### BITSAT Score v/s Latest CGPA Analysis\n",
    "\n",
    "For the analysis, we will use mainly 3 features of the data set, namely:\n",
    "\n",
    "- BITSAT Score\n",
    "- Current CGPA (Final CGPA, if already graduated)\n",
    "- Maximum possible BITSAT Score\n"
   ]
  },
  {
   "cell_type": "code",
   "execution_count": 4,
   "metadata": {},
   "outputs": [],
   "source": [
    "bitsat_current = pd.DataFrame(\n",
    "    df[\n",
    "        [\n",
    "            \"Your BITSAT (or SAT) Score\",\n",
    "            \"Current/Graduating CGPA\",\n",
    "            \"Maximum BITSAT Score\",\n",
    "        ]\n",
    "    ].values\n",
    ")"
   ]
  },
  {
   "cell_type": "code",
   "execution_count": 5,
   "metadata": {},
   "outputs": [],
   "source": [
    "bitsat_current.rename(\n",
    "    columns={0: \"bitsat_score\", 1: \"latest_cgpa\", 2: \"max_bitsat_score\"}, inplace=True\n",
    ")"
   ]
  },
  {
   "cell_type": "markdown",
   "metadata": {},
   "source": [
    "#### Removing data corresponding to students who gave the SAT\n",
    "\n",
    "We mark the rows that contain the records of the students who did not take the BITSAT\n"
   ]
  },
  {
   "cell_type": "code",
   "execution_count": 6,
   "metadata": {},
   "outputs": [],
   "source": [
    "\"\"\"Syntax:\n",
    "df2 = df.applymap(lambda x: 1 if x >=25 else 0)\n",
    "\"\"\"\n",
    "\n",
    "bitsat_current[\"max_bitsat_score\"] = bitsat_current[\"max_bitsat_score\"].apply(\n",
    "    lambda x: x if x.isdigit() else \"NaN\"\n",
    ")"
   ]
  },
  {
   "cell_type": "markdown",
   "metadata": {},
   "source": [
    "We keep only those rows that contain data of students who took the BITSAT\n"
   ]
  },
  {
   "cell_type": "code",
   "execution_count": 7,
   "metadata": {},
   "outputs": [],
   "source": [
    "bitsat_current = bitsat_current.loc[bitsat_current[\"max_bitsat_score\"] != \"NaN\"]"
   ]
  },
  {
   "cell_type": "code",
   "execution_count": 8,
   "metadata": {},
   "outputs": [],
   "source": [
    "bitsat_current = bitsat_current.astype(\n",
    "    {\"bitsat_score\": int, \"latest_cgpa\": float, \"max_bitsat_score\": str}\n",
    ")"
   ]
  },
  {
   "cell_type": "code",
   "execution_count": 9,
   "metadata": {},
   "outputs": [],
   "source": [
    "bitsat_current = bitsat_current.loc[bitsat_current[\"bitsat_score\"] < 500]\n",
    "bitsat_current.reset_index(inplace=True, drop=True)"
   ]
  },
  {
   "cell_type": "code",
   "execution_count": 10,
   "metadata": {},
   "outputs": [
    {
     "data": {
      "text/html": [
       "<div>\n",
       "<style scoped>\n",
       "    .dataframe tbody tr th:only-of-type {\n",
       "        vertical-align: middle;\n",
       "    }\n",
       "\n",
       "    .dataframe tbody tr th {\n",
       "        vertical-align: top;\n",
       "    }\n",
       "\n",
       "    .dataframe thead th {\n",
       "        text-align: right;\n",
       "    }\n",
       "</style>\n",
       "<table border=\"1\" class=\"dataframe\">\n",
       "  <thead>\n",
       "    <tr style=\"text-align: right;\">\n",
       "      <th></th>\n",
       "      <th>bitsat_score</th>\n",
       "      <th>latest_cgpa</th>\n",
       "      <th>max_bitsat_score</th>\n",
       "    </tr>\n",
       "  </thead>\n",
       "  <tbody>\n",
       "    <tr>\n",
       "      <th>25</th>\n",
       "      <td>264</td>\n",
       "      <td>5.54</td>\n",
       "      <td>450</td>\n",
       "    </tr>\n",
       "    <tr>\n",
       "      <th>86</th>\n",
       "      <td>192</td>\n",
       "      <td>5.78</td>\n",
       "      <td>390</td>\n",
       "    </tr>\n",
       "    <tr>\n",
       "      <th>21</th>\n",
       "      <td>208</td>\n",
       "      <td>6.07</td>\n",
       "      <td>450</td>\n",
       "    </tr>\n",
       "    <tr>\n",
       "      <th>19</th>\n",
       "      <td>249</td>\n",
       "      <td>6.16</td>\n",
       "      <td>450</td>\n",
       "    </tr>\n",
       "    <tr>\n",
       "      <th>51</th>\n",
       "      <td>180</td>\n",
       "      <td>6.54</td>\n",
       "      <td>390</td>\n",
       "    </tr>\n",
       "  </tbody>\n",
       "</table>\n",
       "</div>"
      ],
      "text/plain": [
       "    bitsat_score  latest_cgpa max_bitsat_score\n",
       "25           264         5.54              450\n",
       "86           192         5.78              390\n",
       "21           208         6.07              450\n",
       "19           249         6.16              450\n",
       "51           180         6.54              390"
      ]
     },
     "execution_count": 10,
     "metadata": {},
     "output_type": "execute_result"
    }
   ],
   "source": [
    "bitsat_current.sort_values(\"latest_cgpa\").head()"
   ]
  },
  {
   "cell_type": "code",
   "execution_count": 11,
   "metadata": {},
   "outputs": [
    {
     "name": "stdout",
     "output_type": "stream",
     "text": [
      "<class 'pandas.core.frame.DataFrame'>\n",
      "RangeIndex: 99 entries, 0 to 98\n",
      "Data columns (total 3 columns):\n",
      " #   Column            Non-Null Count  Dtype  \n",
      "---  ------            --------------  -----  \n",
      " 0   bitsat_score      99 non-null     int32  \n",
      " 1   latest_cgpa       99 non-null     float64\n",
      " 2   max_bitsat_score  99 non-null     object \n",
      "dtypes: float64(1), int32(1), object(1)\n",
      "memory usage: 2.1+ KB\n"
     ]
    }
   ],
   "source": [
    "bitsat_current.info()"
   ]
  },
  {
   "cell_type": "code",
   "execution_count": 12,
   "metadata": {},
   "outputs": [
    {
     "data": {
      "application/vnd.plotly.v1+json": {
       "config": {
        "plotlyServerURL": "https://plot.ly"
       },
       "data": [
        {
         "hovertemplate": "Max BITSAT Score=450<br>latest_cgpa=%{x}<br>bitsat_score=%{y}<extra></extra>",
         "legendgroup": "450",
         "marker": {
          "color": "rgb(247, 127, 0)",
          "symbol": "circle"
         },
         "mode": "markers",
         "name": "450",
         "orientation": "v",
         "showlegend": true,
         "type": "scatter",
         "x": [
          8.45,
          8.28,
          7.5,
          7.4,
          8.63,
          8.2,
          9.41,
          7.79,
          9.71,
          7.83,
          8.82,
          8.27,
          8.43,
          8.86,
          9.07,
          7.12,
          8.78,
          6.16,
          6.73,
          6.07,
          6.7,
          7.76,
          5.54,
          9.8,
          9.05,
          7.21,
          7.55,
          8.03,
          7.78,
          7.5,
          8.57,
          7.92,
          8.16,
          8.05,
          7.28,
          7.4,
          9.22,
          8.72,
          7.94,
          9.21,
          7.5,
          8.1,
          8.31,
          8.33,
          8.1,
          7.95,
          8.88,
          8.34,
          7.63,
          7.2,
          8.2,
          8.15,
          8.42,
          8.84,
          7.7,
          8.21,
          8.19,
          8.4,
          8.63,
          7.41,
          9,
          8.45,
          9.38,
          8.81,
          7.93,
          7.53,
          7.4,
          8.3,
          7.8,
          7.95,
          8.1,
          8.79
         ],
         "xaxis": "x",
         "y": [
          282,
          358,
          281,
          281,
          355,
          250,
          350,
          346,
          349,
          348,
          298,
          298,
          280,
          283,
          343,
          319,
          267,
          249,
          253,
          208,
          340,
          354,
          264,
          334,
          305,
          326,
          349,
          310,
          330,
          261,
          330,
          292,
          342,
          348,
          336,
          281,
          340,
          290,
          330,
          312,
          370,
          344,
          332,
          261,
          255,
          280,
          288,
          253,
          273,
          350,
          284,
          260,
          323,
          266,
          337,
          275,
          314,
          258,
          222,
          225,
          321,
          282,
          273,
          277,
          293,
          338,
          347,
          301,
          300,
          268,
          293,
          322
         ],
         "yaxis": "y"
        },
        {
         "hovertemplate": "Max BITSAT Score=390<br>latest_cgpa=%{x}<br>bitsat_score=%{y}<extra></extra>",
         "legendgroup": "390",
         "marker": {
          "color": "rgb(0, 48, 73)",
          "symbol": "circle"
         },
         "mode": "markers",
         "name": "390",
         "orientation": "v",
         "showlegend": true,
         "type": "scatter",
         "x": [
          8.88,
          9.81,
          7.25,
          8.22,
          7.38,
          7.75,
          8.189,
          7.7,
          6.54,
          8.11,
          7.16,
          7.28,
          9.73,
          8.6,
          9.24,
          8.46,
          7.89,
          7.76,
          9.5,
          8.03,
          5.78,
          7.92,
          7.24,
          8.08,
          8.32,
          7.97,
          8.1
         ],
         "xaxis": "x",
         "y": [
          335,
          358,
          299,
          291,
          230,
          244,
          278,
          232,
          180,
          221,
          193,
          217,
          315,
          287,
          262,
          222,
          280,
          201,
          256,
          266,
          192,
          292,
          276,
          274,
          246,
          241,
          220
         ],
         "yaxis": "y"
        }
       ],
       "layout": {
        "legend": {
         "title": {
          "text": "Max BITSAT Score"
         },
         "tracegroupgap": 0
        },
        "template": {
         "data": {
          "bar": [
           {
            "error_x": {
             "color": "#2a3f5f"
            },
            "error_y": {
             "color": "#2a3f5f"
            },
            "marker": {
             "line": {
              "color": "#E5ECF6",
              "width": 0.5
             },
             "pattern": {
              "fillmode": "overlay",
              "size": 10,
              "solidity": 0.2
             }
            },
            "type": "bar"
           }
          ],
          "barpolar": [
           {
            "marker": {
             "line": {
              "color": "#E5ECF6",
              "width": 0.5
             },
             "pattern": {
              "fillmode": "overlay",
              "size": 10,
              "solidity": 0.2
             }
            },
            "type": "barpolar"
           }
          ],
          "carpet": [
           {
            "aaxis": {
             "endlinecolor": "#2a3f5f",
             "gridcolor": "white",
             "linecolor": "white",
             "minorgridcolor": "white",
             "startlinecolor": "#2a3f5f"
            },
            "baxis": {
             "endlinecolor": "#2a3f5f",
             "gridcolor": "white",
             "linecolor": "white",
             "minorgridcolor": "white",
             "startlinecolor": "#2a3f5f"
            },
            "type": "carpet"
           }
          ],
          "choropleth": [
           {
            "colorbar": {
             "outlinewidth": 0,
             "ticks": ""
            },
            "type": "choropleth"
           }
          ],
          "contour": [
           {
            "colorbar": {
             "outlinewidth": 0,
             "ticks": ""
            },
            "colorscale": [
             [
              0,
              "#0d0887"
             ],
             [
              0.1111111111111111,
              "#46039f"
             ],
             [
              0.2222222222222222,
              "#7201a8"
             ],
             [
              0.3333333333333333,
              "#9c179e"
             ],
             [
              0.4444444444444444,
              "#bd3786"
             ],
             [
              0.5555555555555556,
              "#d8576b"
             ],
             [
              0.6666666666666666,
              "#ed7953"
             ],
             [
              0.7777777777777778,
              "#fb9f3a"
             ],
             [
              0.8888888888888888,
              "#fdca26"
             ],
             [
              1,
              "#f0f921"
             ]
            ],
            "type": "contour"
           }
          ],
          "contourcarpet": [
           {
            "colorbar": {
             "outlinewidth": 0,
             "ticks": ""
            },
            "type": "contourcarpet"
           }
          ],
          "heatmap": [
           {
            "colorbar": {
             "outlinewidth": 0,
             "ticks": ""
            },
            "colorscale": [
             [
              0,
              "#0d0887"
             ],
             [
              0.1111111111111111,
              "#46039f"
             ],
             [
              0.2222222222222222,
              "#7201a8"
             ],
             [
              0.3333333333333333,
              "#9c179e"
             ],
             [
              0.4444444444444444,
              "#bd3786"
             ],
             [
              0.5555555555555556,
              "#d8576b"
             ],
             [
              0.6666666666666666,
              "#ed7953"
             ],
             [
              0.7777777777777778,
              "#fb9f3a"
             ],
             [
              0.8888888888888888,
              "#fdca26"
             ],
             [
              1,
              "#f0f921"
             ]
            ],
            "type": "heatmap"
           }
          ],
          "heatmapgl": [
           {
            "colorbar": {
             "outlinewidth": 0,
             "ticks": ""
            },
            "colorscale": [
             [
              0,
              "#0d0887"
             ],
             [
              0.1111111111111111,
              "#46039f"
             ],
             [
              0.2222222222222222,
              "#7201a8"
             ],
             [
              0.3333333333333333,
              "#9c179e"
             ],
             [
              0.4444444444444444,
              "#bd3786"
             ],
             [
              0.5555555555555556,
              "#d8576b"
             ],
             [
              0.6666666666666666,
              "#ed7953"
             ],
             [
              0.7777777777777778,
              "#fb9f3a"
             ],
             [
              0.8888888888888888,
              "#fdca26"
             ],
             [
              1,
              "#f0f921"
             ]
            ],
            "type": "heatmapgl"
           }
          ],
          "histogram": [
           {
            "marker": {
             "pattern": {
              "fillmode": "overlay",
              "size": 10,
              "solidity": 0.2
             }
            },
            "type": "histogram"
           }
          ],
          "histogram2d": [
           {
            "colorbar": {
             "outlinewidth": 0,
             "ticks": ""
            },
            "colorscale": [
             [
              0,
              "#0d0887"
             ],
             [
              0.1111111111111111,
              "#46039f"
             ],
             [
              0.2222222222222222,
              "#7201a8"
             ],
             [
              0.3333333333333333,
              "#9c179e"
             ],
             [
              0.4444444444444444,
              "#bd3786"
             ],
             [
              0.5555555555555556,
              "#d8576b"
             ],
             [
              0.6666666666666666,
              "#ed7953"
             ],
             [
              0.7777777777777778,
              "#fb9f3a"
             ],
             [
              0.8888888888888888,
              "#fdca26"
             ],
             [
              1,
              "#f0f921"
             ]
            ],
            "type": "histogram2d"
           }
          ],
          "histogram2dcontour": [
           {
            "colorbar": {
             "outlinewidth": 0,
             "ticks": ""
            },
            "colorscale": [
             [
              0,
              "#0d0887"
             ],
             [
              0.1111111111111111,
              "#46039f"
             ],
             [
              0.2222222222222222,
              "#7201a8"
             ],
             [
              0.3333333333333333,
              "#9c179e"
             ],
             [
              0.4444444444444444,
              "#bd3786"
             ],
             [
              0.5555555555555556,
              "#d8576b"
             ],
             [
              0.6666666666666666,
              "#ed7953"
             ],
             [
              0.7777777777777778,
              "#fb9f3a"
             ],
             [
              0.8888888888888888,
              "#fdca26"
             ],
             [
              1,
              "#f0f921"
             ]
            ],
            "type": "histogram2dcontour"
           }
          ],
          "mesh3d": [
           {
            "colorbar": {
             "outlinewidth": 0,
             "ticks": ""
            },
            "type": "mesh3d"
           }
          ],
          "parcoords": [
           {
            "line": {
             "colorbar": {
              "outlinewidth": 0,
              "ticks": ""
             }
            },
            "type": "parcoords"
           }
          ],
          "pie": [
           {
            "automargin": true,
            "type": "pie"
           }
          ],
          "scatter": [
           {
            "fillpattern": {
             "fillmode": "overlay",
             "size": 10,
             "solidity": 0.2
            },
            "type": "scatter"
           }
          ],
          "scatter3d": [
           {
            "line": {
             "colorbar": {
              "outlinewidth": 0,
              "ticks": ""
             }
            },
            "marker": {
             "colorbar": {
              "outlinewidth": 0,
              "ticks": ""
             }
            },
            "type": "scatter3d"
           }
          ],
          "scattercarpet": [
           {
            "marker": {
             "colorbar": {
              "outlinewidth": 0,
              "ticks": ""
             }
            },
            "type": "scattercarpet"
           }
          ],
          "scattergeo": [
           {
            "marker": {
             "colorbar": {
              "outlinewidth": 0,
              "ticks": ""
             }
            },
            "type": "scattergeo"
           }
          ],
          "scattergl": [
           {
            "marker": {
             "colorbar": {
              "outlinewidth": 0,
              "ticks": ""
             }
            },
            "type": "scattergl"
           }
          ],
          "scattermapbox": [
           {
            "marker": {
             "colorbar": {
              "outlinewidth": 0,
              "ticks": ""
             }
            },
            "type": "scattermapbox"
           }
          ],
          "scatterpolar": [
           {
            "marker": {
             "colorbar": {
              "outlinewidth": 0,
              "ticks": ""
             }
            },
            "type": "scatterpolar"
           }
          ],
          "scatterpolargl": [
           {
            "marker": {
             "colorbar": {
              "outlinewidth": 0,
              "ticks": ""
             }
            },
            "type": "scatterpolargl"
           }
          ],
          "scatterternary": [
           {
            "marker": {
             "colorbar": {
              "outlinewidth": 0,
              "ticks": ""
             }
            },
            "type": "scatterternary"
           }
          ],
          "surface": [
           {
            "colorbar": {
             "outlinewidth": 0,
             "ticks": ""
            },
            "colorscale": [
             [
              0,
              "#0d0887"
             ],
             [
              0.1111111111111111,
              "#46039f"
             ],
             [
              0.2222222222222222,
              "#7201a8"
             ],
             [
              0.3333333333333333,
              "#9c179e"
             ],
             [
              0.4444444444444444,
              "#bd3786"
             ],
             [
              0.5555555555555556,
              "#d8576b"
             ],
             [
              0.6666666666666666,
              "#ed7953"
             ],
             [
              0.7777777777777778,
              "#fb9f3a"
             ],
             [
              0.8888888888888888,
              "#fdca26"
             ],
             [
              1,
              "#f0f921"
             ]
            ],
            "type": "surface"
           }
          ],
          "table": [
           {
            "cells": {
             "fill": {
              "color": "#EBF0F8"
             },
             "line": {
              "color": "white"
             }
            },
            "header": {
             "fill": {
              "color": "#C8D4E3"
             },
             "line": {
              "color": "white"
             }
            },
            "type": "table"
           }
          ]
         },
         "layout": {
          "annotationdefaults": {
           "arrowcolor": "#2a3f5f",
           "arrowhead": 0,
           "arrowwidth": 1
          },
          "autotypenumbers": "strict",
          "coloraxis": {
           "colorbar": {
            "outlinewidth": 0,
            "ticks": ""
           }
          },
          "colorscale": {
           "diverging": [
            [
             0,
             "#8e0152"
            ],
            [
             0.1,
             "#c51b7d"
            ],
            [
             0.2,
             "#de77ae"
            ],
            [
             0.3,
             "#f1b6da"
            ],
            [
             0.4,
             "#fde0ef"
            ],
            [
             0.5,
             "#f7f7f7"
            ],
            [
             0.6,
             "#e6f5d0"
            ],
            [
             0.7,
             "#b8e186"
            ],
            [
             0.8,
             "#7fbc41"
            ],
            [
             0.9,
             "#4d9221"
            ],
            [
             1,
             "#276419"
            ]
           ],
           "sequential": [
            [
             0,
             "#0d0887"
            ],
            [
             0.1111111111111111,
             "#46039f"
            ],
            [
             0.2222222222222222,
             "#7201a8"
            ],
            [
             0.3333333333333333,
             "#9c179e"
            ],
            [
             0.4444444444444444,
             "#bd3786"
            ],
            [
             0.5555555555555556,
             "#d8576b"
            ],
            [
             0.6666666666666666,
             "#ed7953"
            ],
            [
             0.7777777777777778,
             "#fb9f3a"
            ],
            [
             0.8888888888888888,
             "#fdca26"
            ],
            [
             1,
             "#f0f921"
            ]
           ],
           "sequentialminus": [
            [
             0,
             "#0d0887"
            ],
            [
             0.1111111111111111,
             "#46039f"
            ],
            [
             0.2222222222222222,
             "#7201a8"
            ],
            [
             0.3333333333333333,
             "#9c179e"
            ],
            [
             0.4444444444444444,
             "#bd3786"
            ],
            [
             0.5555555555555556,
             "#d8576b"
            ],
            [
             0.6666666666666666,
             "#ed7953"
            ],
            [
             0.7777777777777778,
             "#fb9f3a"
            ],
            [
             0.8888888888888888,
             "#fdca26"
            ],
            [
             1,
             "#f0f921"
            ]
           ]
          },
          "colorway": [
           "#636efa",
           "#EF553B",
           "#00cc96",
           "#ab63fa",
           "#FFA15A",
           "#19d3f3",
           "#FF6692",
           "#B6E880",
           "#FF97FF",
           "#FECB52"
          ],
          "font": {
           "color": "#2a3f5f"
          },
          "geo": {
           "bgcolor": "white",
           "lakecolor": "white",
           "landcolor": "#E5ECF6",
           "showlakes": true,
           "showland": true,
           "subunitcolor": "white"
          },
          "hoverlabel": {
           "align": "left"
          },
          "hovermode": "closest",
          "mapbox": {
           "style": "light"
          },
          "paper_bgcolor": "white",
          "plot_bgcolor": "#E5ECF6",
          "polar": {
           "angularaxis": {
            "gridcolor": "white",
            "linecolor": "white",
            "ticks": ""
           },
           "bgcolor": "#E5ECF6",
           "radialaxis": {
            "gridcolor": "white",
            "linecolor": "white",
            "ticks": ""
           }
          },
          "scene": {
           "xaxis": {
            "backgroundcolor": "#E5ECF6",
            "gridcolor": "white",
            "gridwidth": 2,
            "linecolor": "white",
            "showbackground": true,
            "ticks": "",
            "zerolinecolor": "white"
           },
           "yaxis": {
            "backgroundcolor": "#E5ECF6",
            "gridcolor": "white",
            "gridwidth": 2,
            "linecolor": "white",
            "showbackground": true,
            "ticks": "",
            "zerolinecolor": "white"
           },
           "zaxis": {
            "backgroundcolor": "#E5ECF6",
            "gridcolor": "white",
            "gridwidth": 2,
            "linecolor": "white",
            "showbackground": true,
            "ticks": "",
            "zerolinecolor": "white"
           }
          },
          "shapedefaults": {
           "line": {
            "color": "#2a3f5f"
           }
          },
          "ternary": {
           "aaxis": {
            "gridcolor": "white",
            "linecolor": "white",
            "ticks": ""
           },
           "baxis": {
            "gridcolor": "white",
            "linecolor": "white",
            "ticks": ""
           },
           "bgcolor": "#E5ECF6",
           "caxis": {
            "gridcolor": "white",
            "linecolor": "white",
            "ticks": ""
           }
          },
          "title": {
           "x": 0.05
          },
          "xaxis": {
           "automargin": true,
           "gridcolor": "white",
           "linecolor": "white",
           "ticks": "",
           "title": {
            "standoff": 15
           },
           "zerolinecolor": "white",
           "zerolinewidth": 2
          },
          "yaxis": {
           "automargin": true,
           "gridcolor": "white",
           "linecolor": "white",
           "ticks": "",
           "title": {
            "standoff": 15
           },
           "zerolinecolor": "white",
           "zerolinewidth": 2
          }
         }
        },
        "title": {
         "text": "BITSAT v/s Current CGPA"
        },
        "xaxis": {
         "anchor": "y",
         "domain": [
          0,
          1
         ],
         "title": {
          "text": "Latest CGPA"
         }
        },
        "yaxis": {
         "anchor": "x",
         "domain": [
          0,
          1
         ],
         "title": {
          "text": "BITSAT Score"
         }
        }
       }
      }
     },
     "metadata": {},
     "output_type": "display_data"
    }
   ],
   "source": [
    "bitsat_current_cgpa_plot = px.scatter(\n",
    "    bitsat_current,\n",
    "    x=\"latest_cgpa\",\n",
    "    y=\"bitsat_score\",\n",
    "    color=bitsat_current[\"max_bitsat_score\"],\n",
    "    color_discrete_map={\n",
    "        \"390\": \"rgb(0, 48, 73)\",\n",
    "        \"450\": \"rgb(247, 127, 0)\",\n",
    "    },\n",
    "    title=\"BITSAT v/s Current CGPA\",\n",
    "    labels={\"max_bitsat_score\": \"Max BITSAT Score\"},\n",
    ")\n",
    "\n",
    "bitsat_current_cgpa_plot.update_layout(\n",
    "    xaxis_title=\"Latest CGPA\",\n",
    "    yaxis_title=\"BITSAT Score\",\n",
    ")\n",
    "\n",
    "bitsat_current_cgpa_plot.show()"
   ]
  },
  {
   "cell_type": "markdown",
   "metadata": {},
   "source": [
    "---\n"
   ]
  },
  {
   "cell_type": "markdown",
   "metadata": {},
   "source": [
    "### Correlations\n",
    "\n",
    "Given the BITSAT score, we will try to find some insights between latest CGPA and the number of courses dropped. We consider the following features of the data set for this analysis:\n",
    "\n",
    "- BITSAT Score\n",
    "- Latest CGPA\n",
    "- Number of courses dropped/withdrawn from\n",
    "- Maximum BITSAT Score\n"
   ]
  },
  {
   "cell_type": "code",
   "execution_count": 13,
   "metadata": {},
   "outputs": [],
   "source": [
    "bitsat_cg_dropped = pd.DataFrame(\n",
    "    df[\n",
    "        [\n",
    "            \"Your BITSAT (or SAT) Score\",\n",
    "            \"Current/Graduating CGPA\",\n",
    "            \"How many courses have you withdrawn from?\",\n",
    "            \"Maximum BITSAT Score\",\n",
    "        ]\n",
    "    ].values\n",
    ")"
   ]
  },
  {
   "cell_type": "code",
   "execution_count": 14,
   "metadata": {},
   "outputs": [
    {
     "data": {
      "text/html": [
       "<div>\n",
       "<style scoped>\n",
       "    .dataframe tbody tr th:only-of-type {\n",
       "        vertical-align: middle;\n",
       "    }\n",
       "\n",
       "    .dataframe tbody tr th {\n",
       "        vertical-align: top;\n",
       "    }\n",
       "\n",
       "    .dataframe thead th {\n",
       "        text-align: right;\n",
       "    }\n",
       "</style>\n",
       "<table border=\"1\" class=\"dataframe\">\n",
       "  <thead>\n",
       "    <tr style=\"text-align: right;\">\n",
       "      <th></th>\n",
       "      <th>0</th>\n",
       "      <th>1</th>\n",
       "      <th>2</th>\n",
       "      <th>3</th>\n",
       "    </tr>\n",
       "  </thead>\n",
       "  <tbody>\n",
       "    <tr>\n",
       "      <th>0</th>\n",
       "      <td>282</td>\n",
       "      <td>8.45</td>\n",
       "      <td>1</td>\n",
       "      <td>450</td>\n",
       "    </tr>\n",
       "    <tr>\n",
       "      <th>1</th>\n",
       "      <td>335</td>\n",
       "      <td>8.88</td>\n",
       "      <td>1</td>\n",
       "      <td>390</td>\n",
       "    </tr>\n",
       "    <tr>\n",
       "      <th>2</th>\n",
       "      <td>358</td>\n",
       "      <td>8.28</td>\n",
       "      <td>1</td>\n",
       "      <td>450</td>\n",
       "    </tr>\n",
       "  </tbody>\n",
       "</table>\n",
       "</div>"
      ],
      "text/plain": [
       "     0     1  2    3\n",
       "0  282  8.45  1  450\n",
       "1  335  8.88  1  390\n",
       "2  358  8.28  1  450"
      ]
     },
     "execution_count": 14,
     "metadata": {},
     "output_type": "execute_result"
    }
   ],
   "source": [
    "bitsat_cg_dropped.head(3)"
   ]
  },
  {
   "cell_type": "markdown",
   "metadata": {},
   "source": [
    "#### Renaming the columns\n"
   ]
  },
  {
   "cell_type": "code",
   "execution_count": 15,
   "metadata": {},
   "outputs": [],
   "source": [
    "bitsat_cg_dropped.rename(\n",
    "    columns={0: \"bitsat_score\", 1: \"cgpa\", 2: \"dropped_courses\", 3: \"max_bitsat_score\"},\n",
    "    inplace=True,\n",
    ")"
   ]
  },
  {
   "cell_type": "markdown",
   "metadata": {},
   "source": [
    "#### Removing data corresponding to students who gave the SAT\n"
   ]
  },
  {
   "cell_type": "code",
   "execution_count": 16,
   "metadata": {},
   "outputs": [],
   "source": [
    "bitsat_cg_dropped[\"max_bitsat_score\"] = bitsat_cg_dropped[\"max_bitsat_score\"].apply(\n",
    "    lambda x: x if x.isdigit() else -1\n",
    ")"
   ]
  },
  {
   "cell_type": "code",
   "execution_count": 17,
   "metadata": {},
   "outputs": [],
   "source": [
    "bitsat_cg_dropped = bitsat_cg_dropped.loc[\n",
    "    (bitsat_cg_dropped[\"bitsat_score\"] < 500)\n",
    "    & (bitsat_cg_dropped[\"max_bitsat_score\"] != -1)\n",
    "]\n",
    "bitsat_cg_dropped.reset_index(drop=True, inplace=True)"
   ]
  },
  {
   "cell_type": "code",
   "execution_count": 18,
   "metadata": {},
   "outputs": [
    {
     "data": {
      "text/html": [
       "<div>\n",
       "<style scoped>\n",
       "    .dataframe tbody tr th:only-of-type {\n",
       "        vertical-align: middle;\n",
       "    }\n",
       "\n",
       "    .dataframe tbody tr th {\n",
       "        vertical-align: top;\n",
       "    }\n",
       "\n",
       "    .dataframe thead th {\n",
       "        text-align: right;\n",
       "    }\n",
       "</style>\n",
       "<table border=\"1\" class=\"dataframe\">\n",
       "  <thead>\n",
       "    <tr style=\"text-align: right;\">\n",
       "      <th></th>\n",
       "      <th>bitsat_score</th>\n",
       "      <th>cgpa</th>\n",
       "      <th>dropped_courses</th>\n",
       "      <th>max_bitsat_score</th>\n",
       "    </tr>\n",
       "  </thead>\n",
       "  <tbody>\n",
       "    <tr>\n",
       "      <th>0</th>\n",
       "      <td>282</td>\n",
       "      <td>8.45</td>\n",
       "      <td>1</td>\n",
       "      <td>450</td>\n",
       "    </tr>\n",
       "    <tr>\n",
       "      <th>1</th>\n",
       "      <td>335</td>\n",
       "      <td>8.88</td>\n",
       "      <td>1</td>\n",
       "      <td>390</td>\n",
       "    </tr>\n",
       "    <tr>\n",
       "      <th>2</th>\n",
       "      <td>358</td>\n",
       "      <td>8.28</td>\n",
       "      <td>1</td>\n",
       "      <td>450</td>\n",
       "    </tr>\n",
       "  </tbody>\n",
       "</table>\n",
       "</div>"
      ],
      "text/plain": [
       "  bitsat_score  cgpa dropped_courses max_bitsat_score\n",
       "0          282  8.45               1              450\n",
       "1          335  8.88               1              390\n",
       "2          358  8.28               1              450"
      ]
     },
     "execution_count": 18,
     "metadata": {},
     "output_type": "execute_result"
    }
   ],
   "source": [
    "bitsat_cg_dropped.head(3)"
   ]
  },
  {
   "cell_type": "markdown",
   "metadata": {},
   "source": [
    "#### Setting explicit data types for the columns for ease of operation\n"
   ]
  },
  {
   "cell_type": "code",
   "execution_count": 19,
   "metadata": {},
   "outputs": [],
   "source": [
    "bitsat_cg_dropped = bitsat_cg_dropped.astype(\n",
    "    {\n",
    "        \"bitsat_score\": int,\n",
    "        \"cgpa\": float,\n",
    "        \"dropped_courses\": int,\n",
    "        \"max_bitsat_score\": int,\n",
    "    },\n",
    ")"
   ]
  },
  {
   "cell_type": "code",
   "execution_count": 20,
   "metadata": {},
   "outputs": [
    {
     "data": {
      "text/html": [
       "<div>\n",
       "<style scoped>\n",
       "    .dataframe tbody tr th:only-of-type {\n",
       "        vertical-align: middle;\n",
       "    }\n",
       "\n",
       "    .dataframe tbody tr th {\n",
       "        vertical-align: top;\n",
       "    }\n",
       "\n",
       "    .dataframe thead th {\n",
       "        text-align: right;\n",
       "    }\n",
       "</style>\n",
       "<table border=\"1\" class=\"dataframe\">\n",
       "  <thead>\n",
       "    <tr style=\"text-align: right;\">\n",
       "      <th></th>\n",
       "      <th>bitsat_score</th>\n",
       "      <th>cgpa</th>\n",
       "      <th>dropped_courses</th>\n",
       "      <th>max_bitsat_score</th>\n",
       "    </tr>\n",
       "  </thead>\n",
       "  <tbody>\n",
       "    <tr>\n",
       "      <th>count</th>\n",
       "      <td>99.000000</td>\n",
       "      <td>99.00000</td>\n",
       "      <td>99.000000</td>\n",
       "      <td>99.000000</td>\n",
       "    </tr>\n",
       "    <tr>\n",
       "      <th>mean</th>\n",
       "      <td>289.545455</td>\n",
       "      <td>8.07797</td>\n",
       "      <td>0.696970</td>\n",
       "      <td>433.636364</td>\n",
       "    </tr>\n",
       "    <tr>\n",
       "      <th>std</th>\n",
       "      <td>44.651776</td>\n",
       "      <td>0.83022</td>\n",
       "      <td>0.919789</td>\n",
       "      <td>26.857695</td>\n",
       "    </tr>\n",
       "    <tr>\n",
       "      <th>min</th>\n",
       "      <td>180.000000</td>\n",
       "      <td>5.54000</td>\n",
       "      <td>0.000000</td>\n",
       "      <td>390.000000</td>\n",
       "    </tr>\n",
       "    <tr>\n",
       "      <th>25%</th>\n",
       "      <td>261.000000</td>\n",
       "      <td>7.59000</td>\n",
       "      <td>0.000000</td>\n",
       "      <td>390.000000</td>\n",
       "    </tr>\n",
       "    <tr>\n",
       "      <th>50%</th>\n",
       "      <td>287.000000</td>\n",
       "      <td>8.10000</td>\n",
       "      <td>0.000000</td>\n",
       "      <td>450.000000</td>\n",
       "    </tr>\n",
       "    <tr>\n",
       "      <th>75%</th>\n",
       "      <td>330.000000</td>\n",
       "      <td>8.58500</td>\n",
       "      <td>1.000000</td>\n",
       "      <td>450.000000</td>\n",
       "    </tr>\n",
       "    <tr>\n",
       "      <th>max</th>\n",
       "      <td>370.000000</td>\n",
       "      <td>9.81000</td>\n",
       "      <td>4.000000</td>\n",
       "      <td>450.000000</td>\n",
       "    </tr>\n",
       "  </tbody>\n",
       "</table>\n",
       "</div>"
      ],
      "text/plain": [
       "       bitsat_score      cgpa  dropped_courses  max_bitsat_score\n",
       "count     99.000000  99.00000        99.000000         99.000000\n",
       "mean     289.545455   8.07797         0.696970        433.636364\n",
       "std       44.651776   0.83022         0.919789         26.857695\n",
       "min      180.000000   5.54000         0.000000        390.000000\n",
       "25%      261.000000   7.59000         0.000000        390.000000\n",
       "50%      287.000000   8.10000         0.000000        450.000000\n",
       "75%      330.000000   8.58500         1.000000        450.000000\n",
       "max      370.000000   9.81000         4.000000        450.000000"
      ]
     },
     "execution_count": 20,
     "metadata": {},
     "output_type": "execute_result"
    }
   ],
   "source": [
    "bitsat_cg_dropped.describe()"
   ]
  },
  {
   "cell_type": "markdown",
   "metadata": {},
   "source": [
    "#### Creating Intervals for the BITSAT Score\n"
   ]
  },
  {
   "cell_type": "code",
   "execution_count": 21,
   "metadata": {},
   "outputs": [],
   "source": [
    "bin_intervals = [180, 210, 240, 270, 300, 330, 360, 390, 420, np.inf]\n",
    "bin_labels = [\n",
    "    \"180-209\",\n",
    "    \"210-239\",\n",
    "    \"240-269\",\n",
    "    \"270-299\",\n",
    "    \"300-329\",\n",
    "    \"330-359\",\n",
    "    \"360-389\",\n",
    "    \"390-419\",\n",
    "    \"420+\",\n",
    "]\n",
    "bitsat_cg_dropped[\"score_intervals\"] = pd.cut(\n",
    "    bitsat_cg_dropped[\"bitsat_score\"],\n",
    "    bins=bin_intervals,\n",
    "    labels=bin_labels,\n",
    "    right=True,\n",
    "    precision=0,\n",
    "    ordered=True,\n",
    ")"
   ]
  },
  {
   "cell_type": "code",
   "execution_count": 22,
   "metadata": {},
   "outputs": [
    {
     "data": {
      "text/html": [
       "<div>\n",
       "<style scoped>\n",
       "    .dataframe tbody tr th:only-of-type {\n",
       "        vertical-align: middle;\n",
       "    }\n",
       "\n",
       "    .dataframe tbody tr th {\n",
       "        vertical-align: top;\n",
       "    }\n",
       "\n",
       "    .dataframe thead th {\n",
       "        text-align: right;\n",
       "    }\n",
       "</style>\n",
       "<table border=\"1\" class=\"dataframe\">\n",
       "  <thead>\n",
       "    <tr style=\"text-align: right;\">\n",
       "      <th></th>\n",
       "      <th>bitsat_score</th>\n",
       "      <th>cgpa</th>\n",
       "      <th>dropped_courses</th>\n",
       "      <th>max_bitsat_score</th>\n",
       "      <th>score_intervals</th>\n",
       "    </tr>\n",
       "  </thead>\n",
       "  <tbody>\n",
       "    <tr>\n",
       "      <th>0</th>\n",
       "      <td>282</td>\n",
       "      <td>8.45</td>\n",
       "      <td>1</td>\n",
       "      <td>450</td>\n",
       "      <td>270-299</td>\n",
       "    </tr>\n",
       "    <tr>\n",
       "      <th>1</th>\n",
       "      <td>335</td>\n",
       "      <td>8.88</td>\n",
       "      <td>1</td>\n",
       "      <td>390</td>\n",
       "      <td>330-359</td>\n",
       "    </tr>\n",
       "    <tr>\n",
       "      <th>2</th>\n",
       "      <td>358</td>\n",
       "      <td>8.28</td>\n",
       "      <td>1</td>\n",
       "      <td>450</td>\n",
       "      <td>330-359</td>\n",
       "    </tr>\n",
       "    <tr>\n",
       "      <th>3</th>\n",
       "      <td>281</td>\n",
       "      <td>7.50</td>\n",
       "      <td>0</td>\n",
       "      <td>450</td>\n",
       "      <td>270-299</td>\n",
       "    </tr>\n",
       "    <tr>\n",
       "      <th>4</th>\n",
       "      <td>281</td>\n",
       "      <td>7.40</td>\n",
       "      <td>2</td>\n",
       "      <td>450</td>\n",
       "      <td>270-299</td>\n",
       "    </tr>\n",
       "  </tbody>\n",
       "</table>\n",
       "</div>"
      ],
      "text/plain": [
       "   bitsat_score  cgpa  dropped_courses  max_bitsat_score score_intervals\n",
       "0           282  8.45                1               450         270-299\n",
       "1           335  8.88                1               390         330-359\n",
       "2           358  8.28                1               450         330-359\n",
       "3           281  7.50                0               450         270-299\n",
       "4           281  7.40                2               450         270-299"
      ]
     },
     "execution_count": 22,
     "metadata": {},
     "output_type": "execute_result"
    }
   ],
   "source": [
    "bitsat_cg_dropped.head()"
   ]
  },
  {
   "cell_type": "code",
   "execution_count": 23,
   "metadata": {},
   "outputs": [],
   "source": [
    "bitsat_cg_dropped_plotting_data = bitsat_cg_dropped.copy()"
   ]
  },
  {
   "cell_type": "markdown",
   "metadata": {},
   "source": [
    "### BITSAT 450 and BITSAT 390\n",
    "\n",
    "- Up until 2022, the BITSAT was out of a maximum 450 marks\n",
    "- It was later changed to 390 marks\n",
    "- This is why we split our dataset into two –\n",
    "  - `BITSAT 390`: corresponding to the test out of 390\n",
    "  - `BITSAT 450`: corresponding to the test out of 450\n"
   ]
  },
  {
   "cell_type": "code",
   "execution_count": 24,
   "metadata": {},
   "outputs": [],
   "source": [
    "bitsat_cg_dropped_plotting_data_390 = bitsat_cg_dropped.copy()\n",
    "bitsat_cg_dropped_plotting_data_450 = bitsat_cg_dropped.copy()"
   ]
  },
  {
   "cell_type": "code",
   "execution_count": 25,
   "metadata": {},
   "outputs": [],
   "source": [
    "bitsat_cg_dropped_plotting_data_390 = bitsat_cg_dropped_plotting_data_390.loc[\n",
    "    bitsat_cg_dropped_plotting_data_390[\"max_bitsat_score\"] == 390\n",
    "]\n",
    "\n",
    "\n",
    "bitsat_cg_dropped_plotting_data_450 = bitsat_cg_dropped_plotting_data_450.loc[\n",
    "    bitsat_cg_dropped_plotting_data_450[\"max_bitsat_score\"] == 450\n",
    "]"
   ]
  },
  {
   "cell_type": "markdown",
   "metadata": {},
   "source": [
    "### Aggregation Functions\n",
    "\n",
    "We use the below functions while merging the rows\n",
    "\n",
    "- `CGPA`: mean\n",
    "- `BITSAT Score`: mean\n",
    "- `Dropped Courses`: mean\n"
   ]
  },
  {
   "cell_type": "code",
   "execution_count": 26,
   "metadata": {},
   "outputs": [],
   "source": [
    "aggregation_functions = {\n",
    "    \"cgpa\": \"mean\",\n",
    "    \"bitsat_score\": \"mean\",\n",
    "    \"dropped_courses\": \"mean\",\n",
    "}"
   ]
  },
  {
   "cell_type": "markdown",
   "metadata": {},
   "source": [
    "### BITSAT 390\n"
   ]
  },
  {
   "cell_type": "markdown",
   "metadata": {},
   "source": [
    "##### Merging rows\n",
    "\n",
    "- We merge the rows together based on the BITSAT score interval\n",
    "- The above aggregation functions are used to merge the rows\n"
   ]
  },
  {
   "cell_type": "code",
   "execution_count": 27,
   "metadata": {},
   "outputs": [],
   "source": [
    "bitsat_cg_dropped_plotting_data_390 = bitsat_cg_dropped_plotting_data_390.groupby(\n",
    "    bitsat_cg_dropped_plotting_data_390[\"score_intervals\"]\n",
    ").aggregate(aggregation_functions)"
   ]
  },
  {
   "cell_type": "code",
   "execution_count": 28,
   "metadata": {},
   "outputs": [
    {
     "data": {
      "text/html": [
       "<div>\n",
       "<style scoped>\n",
       "    .dataframe tbody tr th:only-of-type {\n",
       "        vertical-align: middle;\n",
       "    }\n",
       "\n",
       "    .dataframe tbody tr th {\n",
       "        vertical-align: top;\n",
       "    }\n",
       "\n",
       "    .dataframe thead th {\n",
       "        text-align: right;\n",
       "    }\n",
       "</style>\n",
       "<table border=\"1\" class=\"dataframe\">\n",
       "  <thead>\n",
       "    <tr style=\"text-align: right;\">\n",
       "      <th></th>\n",
       "      <th>cgpa</th>\n",
       "      <th>bitsat_score</th>\n",
       "      <th>dropped_courses</th>\n",
       "    </tr>\n",
       "    <tr>\n",
       "      <th>score_intervals</th>\n",
       "      <th></th>\n",
       "      <th></th>\n",
       "      <th></th>\n",
       "    </tr>\n",
       "  </thead>\n",
       "  <tbody>\n",
       "    <tr>\n",
       "      <th>180-209</th>\n",
       "      <td>6.900000</td>\n",
       "      <td>195.333333</td>\n",
       "      <td>0.333333</td>\n",
       "    </tr>\n",
       "    <tr>\n",
       "      <th>210-239</th>\n",
       "      <td>7.838333</td>\n",
       "      <td>223.666667</td>\n",
       "      <td>0.000000</td>\n",
       "    </tr>\n",
       "    <tr>\n",
       "      <th>240-269</th>\n",
       "      <td>8.468333</td>\n",
       "      <td>252.500000</td>\n",
       "      <td>0.000000</td>\n",
       "    </tr>\n",
       "    <tr>\n",
       "      <th>270-299</th>\n",
       "      <td>7.923625</td>\n",
       "      <td>284.625000</td>\n",
       "      <td>0.500000</td>\n",
       "    </tr>\n",
       "    <tr>\n",
       "      <th>300-329</th>\n",
       "      <td>9.730000</td>\n",
       "      <td>315.000000</td>\n",
       "      <td>0.000000</td>\n",
       "    </tr>\n",
       "    <tr>\n",
       "      <th>330-359</th>\n",
       "      <td>9.345000</td>\n",
       "      <td>346.500000</td>\n",
       "      <td>1.000000</td>\n",
       "    </tr>\n",
       "    <tr>\n",
       "      <th>360-389</th>\n",
       "      <td>NaN</td>\n",
       "      <td>NaN</td>\n",
       "      <td>NaN</td>\n",
       "    </tr>\n",
       "    <tr>\n",
       "      <th>390-419</th>\n",
       "      <td>NaN</td>\n",
       "      <td>NaN</td>\n",
       "      <td>NaN</td>\n",
       "    </tr>\n",
       "    <tr>\n",
       "      <th>420+</th>\n",
       "      <td>NaN</td>\n",
       "      <td>NaN</td>\n",
       "      <td>NaN</td>\n",
       "    </tr>\n",
       "  </tbody>\n",
       "</table>\n",
       "</div>"
      ],
      "text/plain": [
       "                     cgpa  bitsat_score  dropped_courses\n",
       "score_intervals                                         \n",
       "180-209          6.900000    195.333333         0.333333\n",
       "210-239          7.838333    223.666667         0.000000\n",
       "240-269          8.468333    252.500000         0.000000\n",
       "270-299          7.923625    284.625000         0.500000\n",
       "300-329          9.730000    315.000000         0.000000\n",
       "330-359          9.345000    346.500000         1.000000\n",
       "360-389               NaN           NaN              NaN\n",
       "390-419               NaN           NaN              NaN\n",
       "420+                  NaN           NaN              NaN"
      ]
     },
     "execution_count": 28,
     "metadata": {},
     "output_type": "execute_result"
    }
   ],
   "source": [
    "bitsat_cg_dropped_plotting_data_390"
   ]
  },
  {
   "cell_type": "markdown",
   "metadata": {},
   "source": [
    "We drop the rows corresponding to a score more than $390$ since those correspond to `BITSAT 450`\n"
   ]
  },
  {
   "cell_type": "code",
   "execution_count": 29,
   "metadata": {},
   "outputs": [],
   "source": [
    "\"\"\"Syntax:\n",
    "df.drop([0, 1])\n",
    "\"\"\"\n",
    "\n",
    "bitsat_cg_dropped_plotting_data_390.drop([\"390-419\", \"420+\"], inplace=True)"
   ]
  },
  {
   "cell_type": "code",
   "execution_count": 30,
   "metadata": {},
   "outputs": [],
   "source": [
    "\"\"\"Syntax:\n",
    "energy.rename(index={'Republic of Korea':'South Korea'},inplace=True)\n",
    "\"\"\"\n",
    "\n",
    "bitsat_cg_dropped_plotting_data_390.rename(index={\"330-359\": \"330-350+\"}, inplace=True)"
   ]
  },
  {
   "cell_type": "code",
   "execution_count": 31,
   "metadata": {},
   "outputs": [
    {
     "data": {
      "text/html": [
       "<div>\n",
       "<style scoped>\n",
       "    .dataframe tbody tr th:only-of-type {\n",
       "        vertical-align: middle;\n",
       "    }\n",
       "\n",
       "    .dataframe tbody tr th {\n",
       "        vertical-align: top;\n",
       "    }\n",
       "\n",
       "    .dataframe thead th {\n",
       "        text-align: right;\n",
       "    }\n",
       "</style>\n",
       "<table border=\"1\" class=\"dataframe\">\n",
       "  <thead>\n",
       "    <tr style=\"text-align: right;\">\n",
       "      <th></th>\n",
       "      <th>cgpa</th>\n",
       "      <th>bitsat_score</th>\n",
       "      <th>dropped_courses</th>\n",
       "    </tr>\n",
       "    <tr>\n",
       "      <th>score_intervals</th>\n",
       "      <th></th>\n",
       "      <th></th>\n",
       "      <th></th>\n",
       "    </tr>\n",
       "  </thead>\n",
       "  <tbody>\n",
       "    <tr>\n",
       "      <th>180-209</th>\n",
       "      <td>6.900000</td>\n",
       "      <td>195.333333</td>\n",
       "      <td>0.333333</td>\n",
       "    </tr>\n",
       "    <tr>\n",
       "      <th>210-239</th>\n",
       "      <td>7.838333</td>\n",
       "      <td>223.666667</td>\n",
       "      <td>0.000000</td>\n",
       "    </tr>\n",
       "    <tr>\n",
       "      <th>240-269</th>\n",
       "      <td>8.468333</td>\n",
       "      <td>252.500000</td>\n",
       "      <td>0.000000</td>\n",
       "    </tr>\n",
       "    <tr>\n",
       "      <th>270-299</th>\n",
       "      <td>7.923625</td>\n",
       "      <td>284.625000</td>\n",
       "      <td>0.500000</td>\n",
       "    </tr>\n",
       "    <tr>\n",
       "      <th>300-329</th>\n",
       "      <td>9.730000</td>\n",
       "      <td>315.000000</td>\n",
       "      <td>0.000000</td>\n",
       "    </tr>\n",
       "    <tr>\n",
       "      <th>330-350+</th>\n",
       "      <td>9.345000</td>\n",
       "      <td>346.500000</td>\n",
       "      <td>1.000000</td>\n",
       "    </tr>\n",
       "    <tr>\n",
       "      <th>360-389</th>\n",
       "      <td>NaN</td>\n",
       "      <td>NaN</td>\n",
       "      <td>NaN</td>\n",
       "    </tr>\n",
       "  </tbody>\n",
       "</table>\n",
       "</div>"
      ],
      "text/plain": [
       "                     cgpa  bitsat_score  dropped_courses\n",
       "score_intervals                                         \n",
       "180-209          6.900000    195.333333         0.333333\n",
       "210-239          7.838333    223.666667         0.000000\n",
       "240-269          8.468333    252.500000         0.000000\n",
       "270-299          7.923625    284.625000         0.500000\n",
       "300-329          9.730000    315.000000         0.000000\n",
       "330-350+         9.345000    346.500000         1.000000\n",
       "360-389               NaN           NaN              NaN"
      ]
     },
     "execution_count": 31,
     "metadata": {},
     "output_type": "execute_result"
    }
   ],
   "source": [
    "bitsat_cg_dropped_plotting_data_390"
   ]
  },
  {
   "cell_type": "code",
   "execution_count": 32,
   "metadata": {},
   "outputs": [],
   "source": [
    "bitsat_cg_dropped_plotting_data_390.rename(\n",
    "    columns={\n",
    "        \"cgpa\": \"mean_cgpa\",\n",
    "        \"bitsat_score\": \"mean_bitsat_score\",\n",
    "        \"dropped_courses\": \"mean_dropped_courses\",\n",
    "    },\n",
    "    inplace=True,\n",
    ")"
   ]
  },
  {
   "cell_type": "code",
   "execution_count": 33,
   "metadata": {},
   "outputs": [
    {
     "data": {
      "text/html": [
       "<div>\n",
       "<style scoped>\n",
       "    .dataframe tbody tr th:only-of-type {\n",
       "        vertical-align: middle;\n",
       "    }\n",
       "\n",
       "    .dataframe tbody tr th {\n",
       "        vertical-align: top;\n",
       "    }\n",
       "\n",
       "    .dataframe thead th {\n",
       "        text-align: right;\n",
       "    }\n",
       "</style>\n",
       "<table border=\"1\" class=\"dataframe\">\n",
       "  <thead>\n",
       "    <tr style=\"text-align: right;\">\n",
       "      <th></th>\n",
       "      <th>mean_cgpa</th>\n",
       "      <th>mean_bitsat_score</th>\n",
       "      <th>mean_dropped_courses</th>\n",
       "    </tr>\n",
       "    <tr>\n",
       "      <th>score_intervals</th>\n",
       "      <th></th>\n",
       "      <th></th>\n",
       "      <th></th>\n",
       "    </tr>\n",
       "  </thead>\n",
       "  <tbody>\n",
       "    <tr>\n",
       "      <th>180-209</th>\n",
       "      <td>6.900000</td>\n",
       "      <td>195.333333</td>\n",
       "      <td>0.333333</td>\n",
       "    </tr>\n",
       "    <tr>\n",
       "      <th>210-239</th>\n",
       "      <td>7.838333</td>\n",
       "      <td>223.666667</td>\n",
       "      <td>0.000000</td>\n",
       "    </tr>\n",
       "    <tr>\n",
       "      <th>240-269</th>\n",
       "      <td>8.468333</td>\n",
       "      <td>252.500000</td>\n",
       "      <td>0.000000</td>\n",
       "    </tr>\n",
       "    <tr>\n",
       "      <th>270-299</th>\n",
       "      <td>7.923625</td>\n",
       "      <td>284.625000</td>\n",
       "      <td>0.500000</td>\n",
       "    </tr>\n",
       "    <tr>\n",
       "      <th>300-329</th>\n",
       "      <td>9.730000</td>\n",
       "      <td>315.000000</td>\n",
       "      <td>0.000000</td>\n",
       "    </tr>\n",
       "    <tr>\n",
       "      <th>330-350+</th>\n",
       "      <td>9.345000</td>\n",
       "      <td>346.500000</td>\n",
       "      <td>1.000000</td>\n",
       "    </tr>\n",
       "    <tr>\n",
       "      <th>360-389</th>\n",
       "      <td>NaN</td>\n",
       "      <td>NaN</td>\n",
       "      <td>NaN</td>\n",
       "    </tr>\n",
       "  </tbody>\n",
       "</table>\n",
       "</div>"
      ],
      "text/plain": [
       "                 mean_cgpa  mean_bitsat_score  mean_dropped_courses\n",
       "score_intervals                                                    \n",
       "180-209           6.900000         195.333333              0.333333\n",
       "210-239           7.838333         223.666667              0.000000\n",
       "240-269           8.468333         252.500000              0.000000\n",
       "270-299           7.923625         284.625000              0.500000\n",
       "300-329           9.730000         315.000000              0.000000\n",
       "330-350+          9.345000         346.500000              1.000000\n",
       "360-389                NaN                NaN                   NaN"
      ]
     },
     "execution_count": 33,
     "metadata": {},
     "output_type": "execute_result"
    }
   ],
   "source": [
    "bitsat_cg_dropped_plotting_data_390"
   ]
  },
  {
   "cell_type": "code",
   "execution_count": 34,
   "metadata": {},
   "outputs": [],
   "source": [
    "bitsat_cg_dropped_plotting_data.rename(\n",
    "    columns={\n",
    "        \"cgpa\": \"mean_cgpa\",\n",
    "        \"bitsat_score\": \"mean_bitsat_score\",\n",
    "        \"dropped_courses\": \"mean_dropped_courses\",\n",
    "    },\n",
    "    inplace=True,\n",
    ")"
   ]
  },
  {
   "cell_type": "markdown",
   "metadata": {},
   "source": [
    "#### Plotting 390\n"
   ]
  },
  {
   "cell_type": "code",
   "execution_count": 35,
   "metadata": {},
   "outputs": [
    {
     "data": {
      "application/vnd.plotly.v1+json": {
       "config": {
        "plotlyServerURL": "https://plot.ly"
       },
       "data": [
        {
         "alignmentgroup": "True",
         "hovertemplate": "score_intervals=%{x}<br>mean_bitsat_score=%{y}<extra></extra>",
         "legendgroup": "",
         "marker": {
          "color": "#636efa",
          "pattern": {
           "shape": ""
          }
         },
         "name": "",
         "offsetgroup": "",
         "orientation": "v",
         "showlegend": false,
         "textposition": "auto",
         "type": "bar",
         "x": [
          "180-209",
          "210-239",
          "240-269",
          "270-299",
          "300-329",
          "330-350+",
          "360-389"
         ],
         "xaxis": "x",
         "y": [
          195.33333333333334,
          223.66666666666666,
          252.5,
          284.625,
          315,
          346.5,
          null
         ],
         "yaxis": "y"
        }
       ],
       "layout": {
        "barmode": "relative",
        "legend": {
         "tracegroupgap": 0
        },
        "margin": {
         "t": 60
        },
        "template": {
         "data": {
          "bar": [
           {
            "error_x": {
             "color": "#2a3f5f"
            },
            "error_y": {
             "color": "#2a3f5f"
            },
            "marker": {
             "line": {
              "color": "#E5ECF6",
              "width": 0.5
             },
             "pattern": {
              "fillmode": "overlay",
              "size": 10,
              "solidity": 0.2
             }
            },
            "type": "bar"
           }
          ],
          "barpolar": [
           {
            "marker": {
             "line": {
              "color": "#E5ECF6",
              "width": 0.5
             },
             "pattern": {
              "fillmode": "overlay",
              "size": 10,
              "solidity": 0.2
             }
            },
            "type": "barpolar"
           }
          ],
          "carpet": [
           {
            "aaxis": {
             "endlinecolor": "#2a3f5f",
             "gridcolor": "white",
             "linecolor": "white",
             "minorgridcolor": "white",
             "startlinecolor": "#2a3f5f"
            },
            "baxis": {
             "endlinecolor": "#2a3f5f",
             "gridcolor": "white",
             "linecolor": "white",
             "minorgridcolor": "white",
             "startlinecolor": "#2a3f5f"
            },
            "type": "carpet"
           }
          ],
          "choropleth": [
           {
            "colorbar": {
             "outlinewidth": 0,
             "ticks": ""
            },
            "type": "choropleth"
           }
          ],
          "contour": [
           {
            "colorbar": {
             "outlinewidth": 0,
             "ticks": ""
            },
            "colorscale": [
             [
              0,
              "#0d0887"
             ],
             [
              0.1111111111111111,
              "#46039f"
             ],
             [
              0.2222222222222222,
              "#7201a8"
             ],
             [
              0.3333333333333333,
              "#9c179e"
             ],
             [
              0.4444444444444444,
              "#bd3786"
             ],
             [
              0.5555555555555556,
              "#d8576b"
             ],
             [
              0.6666666666666666,
              "#ed7953"
             ],
             [
              0.7777777777777778,
              "#fb9f3a"
             ],
             [
              0.8888888888888888,
              "#fdca26"
             ],
             [
              1,
              "#f0f921"
             ]
            ],
            "type": "contour"
           }
          ],
          "contourcarpet": [
           {
            "colorbar": {
             "outlinewidth": 0,
             "ticks": ""
            },
            "type": "contourcarpet"
           }
          ],
          "heatmap": [
           {
            "colorbar": {
             "outlinewidth": 0,
             "ticks": ""
            },
            "colorscale": [
             [
              0,
              "#0d0887"
             ],
             [
              0.1111111111111111,
              "#46039f"
             ],
             [
              0.2222222222222222,
              "#7201a8"
             ],
             [
              0.3333333333333333,
              "#9c179e"
             ],
             [
              0.4444444444444444,
              "#bd3786"
             ],
             [
              0.5555555555555556,
              "#d8576b"
             ],
             [
              0.6666666666666666,
              "#ed7953"
             ],
             [
              0.7777777777777778,
              "#fb9f3a"
             ],
             [
              0.8888888888888888,
              "#fdca26"
             ],
             [
              1,
              "#f0f921"
             ]
            ],
            "type": "heatmap"
           }
          ],
          "heatmapgl": [
           {
            "colorbar": {
             "outlinewidth": 0,
             "ticks": ""
            },
            "colorscale": [
             [
              0,
              "#0d0887"
             ],
             [
              0.1111111111111111,
              "#46039f"
             ],
             [
              0.2222222222222222,
              "#7201a8"
             ],
             [
              0.3333333333333333,
              "#9c179e"
             ],
             [
              0.4444444444444444,
              "#bd3786"
             ],
             [
              0.5555555555555556,
              "#d8576b"
             ],
             [
              0.6666666666666666,
              "#ed7953"
             ],
             [
              0.7777777777777778,
              "#fb9f3a"
             ],
             [
              0.8888888888888888,
              "#fdca26"
             ],
             [
              1,
              "#f0f921"
             ]
            ],
            "type": "heatmapgl"
           }
          ],
          "histogram": [
           {
            "marker": {
             "pattern": {
              "fillmode": "overlay",
              "size": 10,
              "solidity": 0.2
             }
            },
            "type": "histogram"
           }
          ],
          "histogram2d": [
           {
            "colorbar": {
             "outlinewidth": 0,
             "ticks": ""
            },
            "colorscale": [
             [
              0,
              "#0d0887"
             ],
             [
              0.1111111111111111,
              "#46039f"
             ],
             [
              0.2222222222222222,
              "#7201a8"
             ],
             [
              0.3333333333333333,
              "#9c179e"
             ],
             [
              0.4444444444444444,
              "#bd3786"
             ],
             [
              0.5555555555555556,
              "#d8576b"
             ],
             [
              0.6666666666666666,
              "#ed7953"
             ],
             [
              0.7777777777777778,
              "#fb9f3a"
             ],
             [
              0.8888888888888888,
              "#fdca26"
             ],
             [
              1,
              "#f0f921"
             ]
            ],
            "type": "histogram2d"
           }
          ],
          "histogram2dcontour": [
           {
            "colorbar": {
             "outlinewidth": 0,
             "ticks": ""
            },
            "colorscale": [
             [
              0,
              "#0d0887"
             ],
             [
              0.1111111111111111,
              "#46039f"
             ],
             [
              0.2222222222222222,
              "#7201a8"
             ],
             [
              0.3333333333333333,
              "#9c179e"
             ],
             [
              0.4444444444444444,
              "#bd3786"
             ],
             [
              0.5555555555555556,
              "#d8576b"
             ],
             [
              0.6666666666666666,
              "#ed7953"
             ],
             [
              0.7777777777777778,
              "#fb9f3a"
             ],
             [
              0.8888888888888888,
              "#fdca26"
             ],
             [
              1,
              "#f0f921"
             ]
            ],
            "type": "histogram2dcontour"
           }
          ],
          "mesh3d": [
           {
            "colorbar": {
             "outlinewidth": 0,
             "ticks": ""
            },
            "type": "mesh3d"
           }
          ],
          "parcoords": [
           {
            "line": {
             "colorbar": {
              "outlinewidth": 0,
              "ticks": ""
             }
            },
            "type": "parcoords"
           }
          ],
          "pie": [
           {
            "automargin": true,
            "type": "pie"
           }
          ],
          "scatter": [
           {
            "fillpattern": {
             "fillmode": "overlay",
             "size": 10,
             "solidity": 0.2
            },
            "type": "scatter"
           }
          ],
          "scatter3d": [
           {
            "line": {
             "colorbar": {
              "outlinewidth": 0,
              "ticks": ""
             }
            },
            "marker": {
             "colorbar": {
              "outlinewidth": 0,
              "ticks": ""
             }
            },
            "type": "scatter3d"
           }
          ],
          "scattercarpet": [
           {
            "marker": {
             "colorbar": {
              "outlinewidth": 0,
              "ticks": ""
             }
            },
            "type": "scattercarpet"
           }
          ],
          "scattergeo": [
           {
            "marker": {
             "colorbar": {
              "outlinewidth": 0,
              "ticks": ""
             }
            },
            "type": "scattergeo"
           }
          ],
          "scattergl": [
           {
            "marker": {
             "colorbar": {
              "outlinewidth": 0,
              "ticks": ""
             }
            },
            "type": "scattergl"
           }
          ],
          "scattermapbox": [
           {
            "marker": {
             "colorbar": {
              "outlinewidth": 0,
              "ticks": ""
             }
            },
            "type": "scattermapbox"
           }
          ],
          "scatterpolar": [
           {
            "marker": {
             "colorbar": {
              "outlinewidth": 0,
              "ticks": ""
             }
            },
            "type": "scatterpolar"
           }
          ],
          "scatterpolargl": [
           {
            "marker": {
             "colorbar": {
              "outlinewidth": 0,
              "ticks": ""
             }
            },
            "type": "scatterpolargl"
           }
          ],
          "scatterternary": [
           {
            "marker": {
             "colorbar": {
              "outlinewidth": 0,
              "ticks": ""
             }
            },
            "type": "scatterternary"
           }
          ],
          "surface": [
           {
            "colorbar": {
             "outlinewidth": 0,
             "ticks": ""
            },
            "colorscale": [
             [
              0,
              "#0d0887"
             ],
             [
              0.1111111111111111,
              "#46039f"
             ],
             [
              0.2222222222222222,
              "#7201a8"
             ],
             [
              0.3333333333333333,
              "#9c179e"
             ],
             [
              0.4444444444444444,
              "#bd3786"
             ],
             [
              0.5555555555555556,
              "#d8576b"
             ],
             [
              0.6666666666666666,
              "#ed7953"
             ],
             [
              0.7777777777777778,
              "#fb9f3a"
             ],
             [
              0.8888888888888888,
              "#fdca26"
             ],
             [
              1,
              "#f0f921"
             ]
            ],
            "type": "surface"
           }
          ],
          "table": [
           {
            "cells": {
             "fill": {
              "color": "#EBF0F8"
             },
             "line": {
              "color": "white"
             }
            },
            "header": {
             "fill": {
              "color": "#C8D4E3"
             },
             "line": {
              "color": "white"
             }
            },
            "type": "table"
           }
          ]
         },
         "layout": {
          "annotationdefaults": {
           "arrowcolor": "#2a3f5f",
           "arrowhead": 0,
           "arrowwidth": 1
          },
          "autotypenumbers": "strict",
          "coloraxis": {
           "colorbar": {
            "outlinewidth": 0,
            "ticks": ""
           }
          },
          "colorscale": {
           "diverging": [
            [
             0,
             "#8e0152"
            ],
            [
             0.1,
             "#c51b7d"
            ],
            [
             0.2,
             "#de77ae"
            ],
            [
             0.3,
             "#f1b6da"
            ],
            [
             0.4,
             "#fde0ef"
            ],
            [
             0.5,
             "#f7f7f7"
            ],
            [
             0.6,
             "#e6f5d0"
            ],
            [
             0.7,
             "#b8e186"
            ],
            [
             0.8,
             "#7fbc41"
            ],
            [
             0.9,
             "#4d9221"
            ],
            [
             1,
             "#276419"
            ]
           ],
           "sequential": [
            [
             0,
             "#0d0887"
            ],
            [
             0.1111111111111111,
             "#46039f"
            ],
            [
             0.2222222222222222,
             "#7201a8"
            ],
            [
             0.3333333333333333,
             "#9c179e"
            ],
            [
             0.4444444444444444,
             "#bd3786"
            ],
            [
             0.5555555555555556,
             "#d8576b"
            ],
            [
             0.6666666666666666,
             "#ed7953"
            ],
            [
             0.7777777777777778,
             "#fb9f3a"
            ],
            [
             0.8888888888888888,
             "#fdca26"
            ],
            [
             1,
             "#f0f921"
            ]
           ],
           "sequentialminus": [
            [
             0,
             "#0d0887"
            ],
            [
             0.1111111111111111,
             "#46039f"
            ],
            [
             0.2222222222222222,
             "#7201a8"
            ],
            [
             0.3333333333333333,
             "#9c179e"
            ],
            [
             0.4444444444444444,
             "#bd3786"
            ],
            [
             0.5555555555555556,
             "#d8576b"
            ],
            [
             0.6666666666666666,
             "#ed7953"
            ],
            [
             0.7777777777777778,
             "#fb9f3a"
            ],
            [
             0.8888888888888888,
             "#fdca26"
            ],
            [
             1,
             "#f0f921"
            ]
           ]
          },
          "colorway": [
           "#636efa",
           "#EF553B",
           "#00cc96",
           "#ab63fa",
           "#FFA15A",
           "#19d3f3",
           "#FF6692",
           "#B6E880",
           "#FF97FF",
           "#FECB52"
          ],
          "font": {
           "color": "#2a3f5f"
          },
          "geo": {
           "bgcolor": "white",
           "lakecolor": "white",
           "landcolor": "#E5ECF6",
           "showlakes": true,
           "showland": true,
           "subunitcolor": "white"
          },
          "hoverlabel": {
           "align": "left"
          },
          "hovermode": "closest",
          "mapbox": {
           "style": "light"
          },
          "paper_bgcolor": "white",
          "plot_bgcolor": "#E5ECF6",
          "polar": {
           "angularaxis": {
            "gridcolor": "white",
            "linecolor": "white",
            "ticks": ""
           },
           "bgcolor": "#E5ECF6",
           "radialaxis": {
            "gridcolor": "white",
            "linecolor": "white",
            "ticks": ""
           }
          },
          "scene": {
           "xaxis": {
            "backgroundcolor": "#E5ECF6",
            "gridcolor": "white",
            "gridwidth": 2,
            "linecolor": "white",
            "showbackground": true,
            "ticks": "",
            "zerolinecolor": "white"
           },
           "yaxis": {
            "backgroundcolor": "#E5ECF6",
            "gridcolor": "white",
            "gridwidth": 2,
            "linecolor": "white",
            "showbackground": true,
            "ticks": "",
            "zerolinecolor": "white"
           },
           "zaxis": {
            "backgroundcolor": "#E5ECF6",
            "gridcolor": "white",
            "gridwidth": 2,
            "linecolor": "white",
            "showbackground": true,
            "ticks": "",
            "zerolinecolor": "white"
           }
          },
          "shapedefaults": {
           "line": {
            "color": "#2a3f5f"
           }
          },
          "ternary": {
           "aaxis": {
            "gridcolor": "white",
            "linecolor": "white",
            "ticks": ""
           },
           "baxis": {
            "gridcolor": "white",
            "linecolor": "white",
            "ticks": ""
           },
           "bgcolor": "#E5ECF6",
           "caxis": {
            "gridcolor": "white",
            "linecolor": "white",
            "ticks": ""
           }
          },
          "title": {
           "x": 0.05
          },
          "xaxis": {
           "automargin": true,
           "gridcolor": "white",
           "linecolor": "white",
           "ticks": "",
           "title": {
            "standoff": 15
           },
           "zerolinecolor": "white",
           "zerolinewidth": 2
          },
          "yaxis": {
           "automargin": true,
           "gridcolor": "white",
           "linecolor": "white",
           "ticks": "",
           "title": {
            "standoff": 15
           },
           "zerolinecolor": "white",
           "zerolinewidth": 2
          }
         }
        },
        "title": {
         "text": "Average Interval Score v/s BITSAT 390"
        },
        "xaxis": {
         "anchor": "y",
         "domain": [
          0,
          1
         ],
         "title": {
          "text": "BITSAT Score Intervals"
         }
        },
        "yaxis": {
         "anchor": "x",
         "domain": [
          0,
          1
         ],
         "title": {
          "text": "Average BITSAT Interval Score"
         }
        }
       }
      }
     },
     "metadata": {},
     "output_type": "display_data"
    }
   ],
   "source": [
    "\"\"\"Syntax:\n",
    "fig = px.bar(data_canada, x='year', y='pop')\n",
    "\"\"\"\n",
    "\n",
    "score_interval_bitsat_390 = px.bar(\n",
    "    bitsat_cg_dropped_plotting_data_390,\n",
    "    x=bitsat_cg_dropped_plotting_data_390.index,\n",
    "    y=bitsat_cg_dropped_plotting_data_390[\"mean_bitsat_score\"],\n",
    ")\n",
    "\n",
    "score_interval_bitsat_390.update_layout(\n",
    "    xaxis_title=\"BITSAT Score Intervals\",\n",
    "    yaxis_title=\"Average BITSAT Interval Score\",\n",
    "    title=\"Average Interval Score v/s BITSAT 390\",\n",
    ")\n",
    "\n",
    "score_interval_bitsat_390.show()"
   ]
  },
  {
   "cell_type": "code",
   "execution_count": 36,
   "metadata": {},
   "outputs": [
    {
     "data": {
      "text/html": [
       "<div>\n",
       "<style scoped>\n",
       "    .dataframe tbody tr th:only-of-type {\n",
       "        vertical-align: middle;\n",
       "    }\n",
       "\n",
       "    .dataframe tbody tr th {\n",
       "        vertical-align: top;\n",
       "    }\n",
       "\n",
       "    .dataframe thead th {\n",
       "        text-align: right;\n",
       "    }\n",
       "</style>\n",
       "<table border=\"1\" class=\"dataframe\">\n",
       "  <thead>\n",
       "    <tr style=\"text-align: right;\">\n",
       "      <th></th>\n",
       "      <th>mean_cgpa</th>\n",
       "      <th>mean_bitsat_score</th>\n",
       "      <th>mean_dropped_courses</th>\n",
       "    </tr>\n",
       "    <tr>\n",
       "      <th>score_intervals</th>\n",
       "      <th></th>\n",
       "      <th></th>\n",
       "      <th></th>\n",
       "    </tr>\n",
       "  </thead>\n",
       "  <tbody>\n",
       "    <tr>\n",
       "      <th>180-209</th>\n",
       "      <td>6.900000</td>\n",
       "      <td>195.333333</td>\n",
       "      <td>0.333333</td>\n",
       "    </tr>\n",
       "    <tr>\n",
       "      <th>210-239</th>\n",
       "      <td>7.838333</td>\n",
       "      <td>223.666667</td>\n",
       "      <td>0.000000</td>\n",
       "    </tr>\n",
       "    <tr>\n",
       "      <th>240-269</th>\n",
       "      <td>8.468333</td>\n",
       "      <td>252.500000</td>\n",
       "      <td>0.000000</td>\n",
       "    </tr>\n",
       "    <tr>\n",
       "      <th>270-299</th>\n",
       "      <td>7.923625</td>\n",
       "      <td>284.625000</td>\n",
       "      <td>0.500000</td>\n",
       "    </tr>\n",
       "    <tr>\n",
       "      <th>300-329</th>\n",
       "      <td>9.730000</td>\n",
       "      <td>315.000000</td>\n",
       "      <td>0.000000</td>\n",
       "    </tr>\n",
       "    <tr>\n",
       "      <th>330-350+</th>\n",
       "      <td>9.345000</td>\n",
       "      <td>346.500000</td>\n",
       "      <td>1.000000</td>\n",
       "    </tr>\n",
       "    <tr>\n",
       "      <th>360-389</th>\n",
       "      <td>NaN</td>\n",
       "      <td>NaN</td>\n",
       "      <td>NaN</td>\n",
       "    </tr>\n",
       "  </tbody>\n",
       "</table>\n",
       "</div>"
      ],
      "text/plain": [
       "                 mean_cgpa  mean_bitsat_score  mean_dropped_courses\n",
       "score_intervals                                                    \n",
       "180-209           6.900000         195.333333              0.333333\n",
       "210-239           7.838333         223.666667              0.000000\n",
       "240-269           8.468333         252.500000              0.000000\n",
       "270-299           7.923625         284.625000              0.500000\n",
       "300-329           9.730000         315.000000              0.000000\n",
       "330-350+          9.345000         346.500000              1.000000\n",
       "360-389                NaN                NaN                   NaN"
      ]
     },
     "execution_count": 36,
     "metadata": {},
     "output_type": "execute_result"
    }
   ],
   "source": [
    "bitsat_cg_dropped_plotting_data_390"
   ]
  },
  {
   "cell_type": "code",
   "execution_count": 37,
   "metadata": {},
   "outputs": [
    {
     "data": {
      "application/vnd.plotly.v1+json": {
       "config": {
        "plotlyServerURL": "https://plot.ly"
       },
       "data": [
        {
         "alignmentgroup": "True",
         "hovertemplate": "score_intervals=%{x}<br>mean_cgpa=%{y}<extra></extra>",
         "legendgroup": "180-209",
         "marker": {
          "color": "rgb(113, 95, 171)",
          "pattern": {
           "shape": ""
          }
         },
         "name": "180-209",
         "offsetgroup": "180-209",
         "orientation": "v",
         "showlegend": true,
         "textposition": "auto",
         "type": "bar",
         "x": [
          "180-209"
         ],
         "xaxis": "x",
         "y": [
          6.8999999999999995
         ],
         "yaxis": "y"
        },
        {
         "alignmentgroup": "True",
         "hovertemplate": "score_intervals=%{x}<br>mean_cgpa=%{y}<extra></extra>",
         "legendgroup": "210-239",
         "marker": {
          "color": "rgb(96, 62, 154)",
          "pattern": {
           "shape": ""
          }
         },
         "name": "210-239",
         "offsetgroup": "210-239",
         "orientation": "v",
         "showlegend": true,
         "textposition": "auto",
         "type": "bar",
         "x": [
          "210-239"
         ],
         "xaxis": "x",
         "y": [
          7.838333333333334
         ],
         "yaxis": "y"
        },
        {
         "alignmentgroup": "True",
         "hovertemplate": "score_intervals=%{x}<br>mean_cgpa=%{y}<extra></extra>",
         "legendgroup": "240-269",
         "marker": {
          "color": "rgb(85, 41, 144)",
          "pattern": {
           "shape": ""
          }
         },
         "name": "240-269",
         "offsetgroup": "240-269",
         "orientation": "v",
         "showlegend": true,
         "textposition": "auto",
         "type": "bar",
         "x": [
          "240-269"
         ],
         "xaxis": "x",
         "y": [
          8.468333333333334
         ],
         "yaxis": "y"
        },
        {
         "alignmentgroup": "True",
         "hovertemplate": "score_intervals=%{x}<br>mean_cgpa=%{y}<extra></extra>",
         "legendgroup": "270-299",
         "marker": {
          "color": "rgb(95, 59, 153)",
          "pattern": {
           "shape": ""
          }
         },
         "name": "270-299",
         "offsetgroup": "270-299",
         "orientation": "v",
         "showlegend": true,
         "textposition": "auto",
         "type": "bar",
         "x": [
          "270-299"
         ],
         "xaxis": "x",
         "y": [
          7.9236249999999995
         ],
         "yaxis": "y"
        },
        {
         "alignmentgroup": "True",
         "hovertemplate": "score_intervals=%{x}<br>mean_cgpa=%{y}<extra></extra>",
         "legendgroup": "300-329",
         "marker": {
          "color": "rgb(63, 0, 125)",
          "pattern": {
           "shape": ""
          }
         },
         "name": "300-329",
         "offsetgroup": "300-329",
         "orientation": "v",
         "showlegend": true,
         "textposition": "auto",
         "type": "bar",
         "x": [
          "300-329"
         ],
         "xaxis": "x",
         "y": [
          9.73
         ],
         "yaxis": "y"
        },
        {
         "alignmentgroup": "True",
         "hovertemplate": "score_intervals=%{x}<br>mean_cgpa=%{y}<extra></extra>",
         "legendgroup": "330-350+",
         "marker": {
          "color": "rgb(70, 12, 131)",
          "pattern": {
           "shape": ""
          }
         },
         "name": "330-350+",
         "offsetgroup": "330-350+",
         "orientation": "v",
         "showlegend": true,
         "textposition": "auto",
         "type": "bar",
         "x": [
          "330-350+"
         ],
         "xaxis": "x",
         "y": [
          9.345
         ],
         "yaxis": "y"
        },
        {
         "alignmentgroup": "True",
         "hovertemplate": "score_intervals=%{x}<br>mean_cgpa=%{y}<extra></extra>",
         "legendgroup": "360-389",
         "marker": {
          "color": 0,
          "pattern": {
           "shape": ""
          }
         },
         "name": "360-389",
         "offsetgroup": "360-389",
         "orientation": "v",
         "showlegend": true,
         "textposition": "auto",
         "type": "bar",
         "x": [
          "360-389"
         ],
         "xaxis": "x",
         "y": [
          null
         ],
         "yaxis": "y"
        }
       ],
       "layout": {
        "barmode": "relative",
        "legend": {
         "title": {
          "text": "score_intervals"
         },
         "tracegroupgap": 0
        },
        "margin": {
         "t": 60
        },
        "template": {
         "data": {
          "bar": [
           {
            "error_x": {
             "color": "#2a3f5f"
            },
            "error_y": {
             "color": "#2a3f5f"
            },
            "marker": {
             "line": {
              "color": "#E5ECF6",
              "width": 0.5
             },
             "pattern": {
              "fillmode": "overlay",
              "size": 10,
              "solidity": 0.2
             }
            },
            "type": "bar"
           }
          ],
          "barpolar": [
           {
            "marker": {
             "line": {
              "color": "#E5ECF6",
              "width": 0.5
             },
             "pattern": {
              "fillmode": "overlay",
              "size": 10,
              "solidity": 0.2
             }
            },
            "type": "barpolar"
           }
          ],
          "carpet": [
           {
            "aaxis": {
             "endlinecolor": "#2a3f5f",
             "gridcolor": "white",
             "linecolor": "white",
             "minorgridcolor": "white",
             "startlinecolor": "#2a3f5f"
            },
            "baxis": {
             "endlinecolor": "#2a3f5f",
             "gridcolor": "white",
             "linecolor": "white",
             "minorgridcolor": "white",
             "startlinecolor": "#2a3f5f"
            },
            "type": "carpet"
           }
          ],
          "choropleth": [
           {
            "colorbar": {
             "outlinewidth": 0,
             "ticks": ""
            },
            "type": "choropleth"
           }
          ],
          "contour": [
           {
            "colorbar": {
             "outlinewidth": 0,
             "ticks": ""
            },
            "colorscale": [
             [
              0,
              "#0d0887"
             ],
             [
              0.1111111111111111,
              "#46039f"
             ],
             [
              0.2222222222222222,
              "#7201a8"
             ],
             [
              0.3333333333333333,
              "#9c179e"
             ],
             [
              0.4444444444444444,
              "#bd3786"
             ],
             [
              0.5555555555555556,
              "#d8576b"
             ],
             [
              0.6666666666666666,
              "#ed7953"
             ],
             [
              0.7777777777777778,
              "#fb9f3a"
             ],
             [
              0.8888888888888888,
              "#fdca26"
             ],
             [
              1,
              "#f0f921"
             ]
            ],
            "type": "contour"
           }
          ],
          "contourcarpet": [
           {
            "colorbar": {
             "outlinewidth": 0,
             "ticks": ""
            },
            "type": "contourcarpet"
           }
          ],
          "heatmap": [
           {
            "colorbar": {
             "outlinewidth": 0,
             "ticks": ""
            },
            "colorscale": [
             [
              0,
              "#0d0887"
             ],
             [
              0.1111111111111111,
              "#46039f"
             ],
             [
              0.2222222222222222,
              "#7201a8"
             ],
             [
              0.3333333333333333,
              "#9c179e"
             ],
             [
              0.4444444444444444,
              "#bd3786"
             ],
             [
              0.5555555555555556,
              "#d8576b"
             ],
             [
              0.6666666666666666,
              "#ed7953"
             ],
             [
              0.7777777777777778,
              "#fb9f3a"
             ],
             [
              0.8888888888888888,
              "#fdca26"
             ],
             [
              1,
              "#f0f921"
             ]
            ],
            "type": "heatmap"
           }
          ],
          "heatmapgl": [
           {
            "colorbar": {
             "outlinewidth": 0,
             "ticks": ""
            },
            "colorscale": [
             [
              0,
              "#0d0887"
             ],
             [
              0.1111111111111111,
              "#46039f"
             ],
             [
              0.2222222222222222,
              "#7201a8"
             ],
             [
              0.3333333333333333,
              "#9c179e"
             ],
             [
              0.4444444444444444,
              "#bd3786"
             ],
             [
              0.5555555555555556,
              "#d8576b"
             ],
             [
              0.6666666666666666,
              "#ed7953"
             ],
             [
              0.7777777777777778,
              "#fb9f3a"
             ],
             [
              0.8888888888888888,
              "#fdca26"
             ],
             [
              1,
              "#f0f921"
             ]
            ],
            "type": "heatmapgl"
           }
          ],
          "histogram": [
           {
            "marker": {
             "pattern": {
              "fillmode": "overlay",
              "size": 10,
              "solidity": 0.2
             }
            },
            "type": "histogram"
           }
          ],
          "histogram2d": [
           {
            "colorbar": {
             "outlinewidth": 0,
             "ticks": ""
            },
            "colorscale": [
             [
              0,
              "#0d0887"
             ],
             [
              0.1111111111111111,
              "#46039f"
             ],
             [
              0.2222222222222222,
              "#7201a8"
             ],
             [
              0.3333333333333333,
              "#9c179e"
             ],
             [
              0.4444444444444444,
              "#bd3786"
             ],
             [
              0.5555555555555556,
              "#d8576b"
             ],
             [
              0.6666666666666666,
              "#ed7953"
             ],
             [
              0.7777777777777778,
              "#fb9f3a"
             ],
             [
              0.8888888888888888,
              "#fdca26"
             ],
             [
              1,
              "#f0f921"
             ]
            ],
            "type": "histogram2d"
           }
          ],
          "histogram2dcontour": [
           {
            "colorbar": {
             "outlinewidth": 0,
             "ticks": ""
            },
            "colorscale": [
             [
              0,
              "#0d0887"
             ],
             [
              0.1111111111111111,
              "#46039f"
             ],
             [
              0.2222222222222222,
              "#7201a8"
             ],
             [
              0.3333333333333333,
              "#9c179e"
             ],
             [
              0.4444444444444444,
              "#bd3786"
             ],
             [
              0.5555555555555556,
              "#d8576b"
             ],
             [
              0.6666666666666666,
              "#ed7953"
             ],
             [
              0.7777777777777778,
              "#fb9f3a"
             ],
             [
              0.8888888888888888,
              "#fdca26"
             ],
             [
              1,
              "#f0f921"
             ]
            ],
            "type": "histogram2dcontour"
           }
          ],
          "mesh3d": [
           {
            "colorbar": {
             "outlinewidth": 0,
             "ticks": ""
            },
            "type": "mesh3d"
           }
          ],
          "parcoords": [
           {
            "line": {
             "colorbar": {
              "outlinewidth": 0,
              "ticks": ""
             }
            },
            "type": "parcoords"
           }
          ],
          "pie": [
           {
            "automargin": true,
            "type": "pie"
           }
          ],
          "scatter": [
           {
            "fillpattern": {
             "fillmode": "overlay",
             "size": 10,
             "solidity": 0.2
            },
            "type": "scatter"
           }
          ],
          "scatter3d": [
           {
            "line": {
             "colorbar": {
              "outlinewidth": 0,
              "ticks": ""
             }
            },
            "marker": {
             "colorbar": {
              "outlinewidth": 0,
              "ticks": ""
             }
            },
            "type": "scatter3d"
           }
          ],
          "scattercarpet": [
           {
            "marker": {
             "colorbar": {
              "outlinewidth": 0,
              "ticks": ""
             }
            },
            "type": "scattercarpet"
           }
          ],
          "scattergeo": [
           {
            "marker": {
             "colorbar": {
              "outlinewidth": 0,
              "ticks": ""
             }
            },
            "type": "scattergeo"
           }
          ],
          "scattergl": [
           {
            "marker": {
             "colorbar": {
              "outlinewidth": 0,
              "ticks": ""
             }
            },
            "type": "scattergl"
           }
          ],
          "scattermapbox": [
           {
            "marker": {
             "colorbar": {
              "outlinewidth": 0,
              "ticks": ""
             }
            },
            "type": "scattermapbox"
           }
          ],
          "scatterpolar": [
           {
            "marker": {
             "colorbar": {
              "outlinewidth": 0,
              "ticks": ""
             }
            },
            "type": "scatterpolar"
           }
          ],
          "scatterpolargl": [
           {
            "marker": {
             "colorbar": {
              "outlinewidth": 0,
              "ticks": ""
             }
            },
            "type": "scatterpolargl"
           }
          ],
          "scatterternary": [
           {
            "marker": {
             "colorbar": {
              "outlinewidth": 0,
              "ticks": ""
             }
            },
            "type": "scatterternary"
           }
          ],
          "surface": [
           {
            "colorbar": {
             "outlinewidth": 0,
             "ticks": ""
            },
            "colorscale": [
             [
              0,
              "#0d0887"
             ],
             [
              0.1111111111111111,
              "#46039f"
             ],
             [
              0.2222222222222222,
              "#7201a8"
             ],
             [
              0.3333333333333333,
              "#9c179e"
             ],
             [
              0.4444444444444444,
              "#bd3786"
             ],
             [
              0.5555555555555556,
              "#d8576b"
             ],
             [
              0.6666666666666666,
              "#ed7953"
             ],
             [
              0.7777777777777778,
              "#fb9f3a"
             ],
             [
              0.8888888888888888,
              "#fdca26"
             ],
             [
              1,
              "#f0f921"
             ]
            ],
            "type": "surface"
           }
          ],
          "table": [
           {
            "cells": {
             "fill": {
              "color": "#EBF0F8"
             },
             "line": {
              "color": "white"
             }
            },
            "header": {
             "fill": {
              "color": "#C8D4E3"
             },
             "line": {
              "color": "white"
             }
            },
            "type": "table"
           }
          ]
         },
         "layout": {
          "annotationdefaults": {
           "arrowcolor": "#2a3f5f",
           "arrowhead": 0,
           "arrowwidth": 1
          },
          "autotypenumbers": "strict",
          "coloraxis": {
           "colorbar": {
            "outlinewidth": 0,
            "ticks": ""
           }
          },
          "colorscale": {
           "diverging": [
            [
             0,
             "#8e0152"
            ],
            [
             0.1,
             "#c51b7d"
            ],
            [
             0.2,
             "#de77ae"
            ],
            [
             0.3,
             "#f1b6da"
            ],
            [
             0.4,
             "#fde0ef"
            ],
            [
             0.5,
             "#f7f7f7"
            ],
            [
             0.6,
             "#e6f5d0"
            ],
            [
             0.7,
             "#b8e186"
            ],
            [
             0.8,
             "#7fbc41"
            ],
            [
             0.9,
             "#4d9221"
            ],
            [
             1,
             "#276419"
            ]
           ],
           "sequential": [
            [
             0,
             "#0d0887"
            ],
            [
             0.1111111111111111,
             "#46039f"
            ],
            [
             0.2222222222222222,
             "#7201a8"
            ],
            [
             0.3333333333333333,
             "#9c179e"
            ],
            [
             0.4444444444444444,
             "#bd3786"
            ],
            [
             0.5555555555555556,
             "#d8576b"
            ],
            [
             0.6666666666666666,
             "#ed7953"
            ],
            [
             0.7777777777777778,
             "#fb9f3a"
            ],
            [
             0.8888888888888888,
             "#fdca26"
            ],
            [
             1,
             "#f0f921"
            ]
           ],
           "sequentialminus": [
            [
             0,
             "#0d0887"
            ],
            [
             0.1111111111111111,
             "#46039f"
            ],
            [
             0.2222222222222222,
             "#7201a8"
            ],
            [
             0.3333333333333333,
             "#9c179e"
            ],
            [
             0.4444444444444444,
             "#bd3786"
            ],
            [
             0.5555555555555556,
             "#d8576b"
            ],
            [
             0.6666666666666666,
             "#ed7953"
            ],
            [
             0.7777777777777778,
             "#fb9f3a"
            ],
            [
             0.8888888888888888,
             "#fdca26"
            ],
            [
             1,
             "#f0f921"
            ]
           ]
          },
          "colorway": [
           "#636efa",
           "#EF553B",
           "#00cc96",
           "#ab63fa",
           "#FFA15A",
           "#19d3f3",
           "#FF6692",
           "#B6E880",
           "#FF97FF",
           "#FECB52"
          ],
          "font": {
           "color": "#2a3f5f"
          },
          "geo": {
           "bgcolor": "white",
           "lakecolor": "white",
           "landcolor": "#E5ECF6",
           "showlakes": true,
           "showland": true,
           "subunitcolor": "white"
          },
          "hoverlabel": {
           "align": "left"
          },
          "hovermode": "closest",
          "mapbox": {
           "style": "light"
          },
          "paper_bgcolor": "white",
          "plot_bgcolor": "#E5ECF6",
          "polar": {
           "angularaxis": {
            "gridcolor": "white",
            "linecolor": "white",
            "ticks": ""
           },
           "bgcolor": "#E5ECF6",
           "radialaxis": {
            "gridcolor": "white",
            "linecolor": "white",
            "ticks": ""
           }
          },
          "scene": {
           "xaxis": {
            "backgroundcolor": "#E5ECF6",
            "gridcolor": "white",
            "gridwidth": 2,
            "linecolor": "white",
            "showbackground": true,
            "ticks": "",
            "zerolinecolor": "white"
           },
           "yaxis": {
            "backgroundcolor": "#E5ECF6",
            "gridcolor": "white",
            "gridwidth": 2,
            "linecolor": "white",
            "showbackground": true,
            "ticks": "",
            "zerolinecolor": "white"
           },
           "zaxis": {
            "backgroundcolor": "#E5ECF6",
            "gridcolor": "white",
            "gridwidth": 2,
            "linecolor": "white",
            "showbackground": true,
            "ticks": "",
            "zerolinecolor": "white"
           }
          },
          "shapedefaults": {
           "line": {
            "color": "#2a3f5f"
           }
          },
          "ternary": {
           "aaxis": {
            "gridcolor": "white",
            "linecolor": "white",
            "ticks": ""
           },
           "baxis": {
            "gridcolor": "white",
            "linecolor": "white",
            "ticks": ""
           },
           "bgcolor": "#E5ECF6",
           "caxis": {
            "gridcolor": "white",
            "linecolor": "white",
            "ticks": ""
           }
          },
          "title": {
           "x": 0.05
          },
          "xaxis": {
           "automargin": true,
           "gridcolor": "white",
           "linecolor": "white",
           "ticks": "",
           "title": {
            "standoff": 15
           },
           "zerolinecolor": "white",
           "zerolinewidth": 2
          },
          "yaxis": {
           "automargin": true,
           "gridcolor": "white",
           "linecolor": "white",
           "ticks": "",
           "title": {
            "standoff": 15
           },
           "zerolinecolor": "white",
           "zerolinewidth": 2
          }
         }
        },
        "title": {
         "text": "Average Latest CGPA v/s BITSAT 390"
        },
        "xaxis": {
         "anchor": "y",
         "categoryarray": [
          "180-209",
          "210-239",
          "240-269",
          "270-299",
          "300-329",
          "330-350+",
          "360-389"
         ],
         "categoryorder": "array",
         "domain": [
          0,
          1
         ],
         "title": {
          "text": "BITSAT Score Intervals"
         }
        },
        "yaxis": {
         "anchor": "x",
         "domain": [
          0,
          1
         ],
         "title": {
          "text": "Average Latest CGPA"
         }
        }
       }
      }
     },
     "metadata": {},
     "output_type": "display_data"
    }
   ],
   "source": [
    "score_interval_cgpa_390 = px.bar(\n",
    "    bitsat_cg_dropped_plotting_data_390,\n",
    "    x=bitsat_cg_dropped_plotting_data_390.index,\n",
    "    y=bitsat_cg_dropped_plotting_data_390[\"mean_cgpa\"],\n",
    "    color=bitsat_cg_dropped_plotting_data_390.index,\n",
    "    color_discrete_sequence=[\n",
    "        px.colors.sample_colorscale(\"purples\", v)[0]\n",
    "        if not isna(v) else 0\n",
    "        for v in (\n",
    "            bitsat_cg_dropped_plotting_data_390[\"mean_cgpa\"]\n",
    "            / bitsat_cg_dropped_plotting_data_390[\"mean_cgpa\"].max()\n",
    "        ).tolist()\n",
    "    ],\n",
    ")\n",
    "\n",
    "score_interval_cgpa_390.update_layout(\n",
    "    xaxis_title=\"BITSAT Score Intervals\",\n",
    "    yaxis_title=\"Average Latest CGPA\",\n",
    "    title=\"Average Latest CGPA v/s BITSAT 390\",\n",
    ")\n",
    "\n",
    "score_interval_cgpa_390.show()"
   ]
  },
  {
   "cell_type": "code",
   "execution_count": 38,
   "metadata": {},
   "outputs": [
    {
     "data": {
      "application/vnd.plotly.v1+json": {
       "config": {
        "plotlyServerURL": "https://plot.ly"
       },
       "data": [
        {
         "alignmentgroup": "True",
         "hovertemplate": "score_intervals=%{x}<br>mean_dropped_courses=%{y}<extra></extra>",
         "legendgroup": "",
         "marker": {
          "color": "#636efa",
          "pattern": {
           "shape": ""
          }
         },
         "name": "",
         "offsetgroup": "",
         "orientation": "v",
         "showlegend": false,
         "textposition": "auto",
         "type": "bar",
         "x": [
          "180-209",
          "210-239",
          "240-269",
          "270-299",
          "300-329",
          "330-350+",
          "360-389"
         ],
         "xaxis": "x",
         "y": [
          0.3333333333333333,
          0,
          0,
          0.5,
          0,
          1,
          null
         ],
         "yaxis": "y"
        }
       ],
       "layout": {
        "barmode": "relative",
        "legend": {
         "tracegroupgap": 0
        },
        "margin": {
         "t": 60
        },
        "template": {
         "data": {
          "bar": [
           {
            "error_x": {
             "color": "#2a3f5f"
            },
            "error_y": {
             "color": "#2a3f5f"
            },
            "marker": {
             "line": {
              "color": "#E5ECF6",
              "width": 0.5
             },
             "pattern": {
              "fillmode": "overlay",
              "size": 10,
              "solidity": 0.2
             }
            },
            "type": "bar"
           }
          ],
          "barpolar": [
           {
            "marker": {
             "line": {
              "color": "#E5ECF6",
              "width": 0.5
             },
             "pattern": {
              "fillmode": "overlay",
              "size": 10,
              "solidity": 0.2
             }
            },
            "type": "barpolar"
           }
          ],
          "carpet": [
           {
            "aaxis": {
             "endlinecolor": "#2a3f5f",
             "gridcolor": "white",
             "linecolor": "white",
             "minorgridcolor": "white",
             "startlinecolor": "#2a3f5f"
            },
            "baxis": {
             "endlinecolor": "#2a3f5f",
             "gridcolor": "white",
             "linecolor": "white",
             "minorgridcolor": "white",
             "startlinecolor": "#2a3f5f"
            },
            "type": "carpet"
           }
          ],
          "choropleth": [
           {
            "colorbar": {
             "outlinewidth": 0,
             "ticks": ""
            },
            "type": "choropleth"
           }
          ],
          "contour": [
           {
            "colorbar": {
             "outlinewidth": 0,
             "ticks": ""
            },
            "colorscale": [
             [
              0,
              "#0d0887"
             ],
             [
              0.1111111111111111,
              "#46039f"
             ],
             [
              0.2222222222222222,
              "#7201a8"
             ],
             [
              0.3333333333333333,
              "#9c179e"
             ],
             [
              0.4444444444444444,
              "#bd3786"
             ],
             [
              0.5555555555555556,
              "#d8576b"
             ],
             [
              0.6666666666666666,
              "#ed7953"
             ],
             [
              0.7777777777777778,
              "#fb9f3a"
             ],
             [
              0.8888888888888888,
              "#fdca26"
             ],
             [
              1,
              "#f0f921"
             ]
            ],
            "type": "contour"
           }
          ],
          "contourcarpet": [
           {
            "colorbar": {
             "outlinewidth": 0,
             "ticks": ""
            },
            "type": "contourcarpet"
           }
          ],
          "heatmap": [
           {
            "colorbar": {
             "outlinewidth": 0,
             "ticks": ""
            },
            "colorscale": [
             [
              0,
              "#0d0887"
             ],
             [
              0.1111111111111111,
              "#46039f"
             ],
             [
              0.2222222222222222,
              "#7201a8"
             ],
             [
              0.3333333333333333,
              "#9c179e"
             ],
             [
              0.4444444444444444,
              "#bd3786"
             ],
             [
              0.5555555555555556,
              "#d8576b"
             ],
             [
              0.6666666666666666,
              "#ed7953"
             ],
             [
              0.7777777777777778,
              "#fb9f3a"
             ],
             [
              0.8888888888888888,
              "#fdca26"
             ],
             [
              1,
              "#f0f921"
             ]
            ],
            "type": "heatmap"
           }
          ],
          "heatmapgl": [
           {
            "colorbar": {
             "outlinewidth": 0,
             "ticks": ""
            },
            "colorscale": [
             [
              0,
              "#0d0887"
             ],
             [
              0.1111111111111111,
              "#46039f"
             ],
             [
              0.2222222222222222,
              "#7201a8"
             ],
             [
              0.3333333333333333,
              "#9c179e"
             ],
             [
              0.4444444444444444,
              "#bd3786"
             ],
             [
              0.5555555555555556,
              "#d8576b"
             ],
             [
              0.6666666666666666,
              "#ed7953"
             ],
             [
              0.7777777777777778,
              "#fb9f3a"
             ],
             [
              0.8888888888888888,
              "#fdca26"
             ],
             [
              1,
              "#f0f921"
             ]
            ],
            "type": "heatmapgl"
           }
          ],
          "histogram": [
           {
            "marker": {
             "pattern": {
              "fillmode": "overlay",
              "size": 10,
              "solidity": 0.2
             }
            },
            "type": "histogram"
           }
          ],
          "histogram2d": [
           {
            "colorbar": {
             "outlinewidth": 0,
             "ticks": ""
            },
            "colorscale": [
             [
              0,
              "#0d0887"
             ],
             [
              0.1111111111111111,
              "#46039f"
             ],
             [
              0.2222222222222222,
              "#7201a8"
             ],
             [
              0.3333333333333333,
              "#9c179e"
             ],
             [
              0.4444444444444444,
              "#bd3786"
             ],
             [
              0.5555555555555556,
              "#d8576b"
             ],
             [
              0.6666666666666666,
              "#ed7953"
             ],
             [
              0.7777777777777778,
              "#fb9f3a"
             ],
             [
              0.8888888888888888,
              "#fdca26"
             ],
             [
              1,
              "#f0f921"
             ]
            ],
            "type": "histogram2d"
           }
          ],
          "histogram2dcontour": [
           {
            "colorbar": {
             "outlinewidth": 0,
             "ticks": ""
            },
            "colorscale": [
             [
              0,
              "#0d0887"
             ],
             [
              0.1111111111111111,
              "#46039f"
             ],
             [
              0.2222222222222222,
              "#7201a8"
             ],
             [
              0.3333333333333333,
              "#9c179e"
             ],
             [
              0.4444444444444444,
              "#bd3786"
             ],
             [
              0.5555555555555556,
              "#d8576b"
             ],
             [
              0.6666666666666666,
              "#ed7953"
             ],
             [
              0.7777777777777778,
              "#fb9f3a"
             ],
             [
              0.8888888888888888,
              "#fdca26"
             ],
             [
              1,
              "#f0f921"
             ]
            ],
            "type": "histogram2dcontour"
           }
          ],
          "mesh3d": [
           {
            "colorbar": {
             "outlinewidth": 0,
             "ticks": ""
            },
            "type": "mesh3d"
           }
          ],
          "parcoords": [
           {
            "line": {
             "colorbar": {
              "outlinewidth": 0,
              "ticks": ""
             }
            },
            "type": "parcoords"
           }
          ],
          "pie": [
           {
            "automargin": true,
            "type": "pie"
           }
          ],
          "scatter": [
           {
            "fillpattern": {
             "fillmode": "overlay",
             "size": 10,
             "solidity": 0.2
            },
            "type": "scatter"
           }
          ],
          "scatter3d": [
           {
            "line": {
             "colorbar": {
              "outlinewidth": 0,
              "ticks": ""
             }
            },
            "marker": {
             "colorbar": {
              "outlinewidth": 0,
              "ticks": ""
             }
            },
            "type": "scatter3d"
           }
          ],
          "scattercarpet": [
           {
            "marker": {
             "colorbar": {
              "outlinewidth": 0,
              "ticks": ""
             }
            },
            "type": "scattercarpet"
           }
          ],
          "scattergeo": [
           {
            "marker": {
             "colorbar": {
              "outlinewidth": 0,
              "ticks": ""
             }
            },
            "type": "scattergeo"
           }
          ],
          "scattergl": [
           {
            "marker": {
             "colorbar": {
              "outlinewidth": 0,
              "ticks": ""
             }
            },
            "type": "scattergl"
           }
          ],
          "scattermapbox": [
           {
            "marker": {
             "colorbar": {
              "outlinewidth": 0,
              "ticks": ""
             }
            },
            "type": "scattermapbox"
           }
          ],
          "scatterpolar": [
           {
            "marker": {
             "colorbar": {
              "outlinewidth": 0,
              "ticks": ""
             }
            },
            "type": "scatterpolar"
           }
          ],
          "scatterpolargl": [
           {
            "marker": {
             "colorbar": {
              "outlinewidth": 0,
              "ticks": ""
             }
            },
            "type": "scatterpolargl"
           }
          ],
          "scatterternary": [
           {
            "marker": {
             "colorbar": {
              "outlinewidth": 0,
              "ticks": ""
             }
            },
            "type": "scatterternary"
           }
          ],
          "surface": [
           {
            "colorbar": {
             "outlinewidth": 0,
             "ticks": ""
            },
            "colorscale": [
             [
              0,
              "#0d0887"
             ],
             [
              0.1111111111111111,
              "#46039f"
             ],
             [
              0.2222222222222222,
              "#7201a8"
             ],
             [
              0.3333333333333333,
              "#9c179e"
             ],
             [
              0.4444444444444444,
              "#bd3786"
             ],
             [
              0.5555555555555556,
              "#d8576b"
             ],
             [
              0.6666666666666666,
              "#ed7953"
             ],
             [
              0.7777777777777778,
              "#fb9f3a"
             ],
             [
              0.8888888888888888,
              "#fdca26"
             ],
             [
              1,
              "#f0f921"
             ]
            ],
            "type": "surface"
           }
          ],
          "table": [
           {
            "cells": {
             "fill": {
              "color": "#EBF0F8"
             },
             "line": {
              "color": "white"
             }
            },
            "header": {
             "fill": {
              "color": "#C8D4E3"
             },
             "line": {
              "color": "white"
             }
            },
            "type": "table"
           }
          ]
         },
         "layout": {
          "annotationdefaults": {
           "arrowcolor": "#2a3f5f",
           "arrowhead": 0,
           "arrowwidth": 1
          },
          "autotypenumbers": "strict",
          "coloraxis": {
           "colorbar": {
            "outlinewidth": 0,
            "ticks": ""
           }
          },
          "colorscale": {
           "diverging": [
            [
             0,
             "#8e0152"
            ],
            [
             0.1,
             "#c51b7d"
            ],
            [
             0.2,
             "#de77ae"
            ],
            [
             0.3,
             "#f1b6da"
            ],
            [
             0.4,
             "#fde0ef"
            ],
            [
             0.5,
             "#f7f7f7"
            ],
            [
             0.6,
             "#e6f5d0"
            ],
            [
             0.7,
             "#b8e186"
            ],
            [
             0.8,
             "#7fbc41"
            ],
            [
             0.9,
             "#4d9221"
            ],
            [
             1,
             "#276419"
            ]
           ],
           "sequential": [
            [
             0,
             "#0d0887"
            ],
            [
             0.1111111111111111,
             "#46039f"
            ],
            [
             0.2222222222222222,
             "#7201a8"
            ],
            [
             0.3333333333333333,
             "#9c179e"
            ],
            [
             0.4444444444444444,
             "#bd3786"
            ],
            [
             0.5555555555555556,
             "#d8576b"
            ],
            [
             0.6666666666666666,
             "#ed7953"
            ],
            [
             0.7777777777777778,
             "#fb9f3a"
            ],
            [
             0.8888888888888888,
             "#fdca26"
            ],
            [
             1,
             "#f0f921"
            ]
           ],
           "sequentialminus": [
            [
             0,
             "#0d0887"
            ],
            [
             0.1111111111111111,
             "#46039f"
            ],
            [
             0.2222222222222222,
             "#7201a8"
            ],
            [
             0.3333333333333333,
             "#9c179e"
            ],
            [
             0.4444444444444444,
             "#bd3786"
            ],
            [
             0.5555555555555556,
             "#d8576b"
            ],
            [
             0.6666666666666666,
             "#ed7953"
            ],
            [
             0.7777777777777778,
             "#fb9f3a"
            ],
            [
             0.8888888888888888,
             "#fdca26"
            ],
            [
             1,
             "#f0f921"
            ]
           ]
          },
          "colorway": [
           "#636efa",
           "#EF553B",
           "#00cc96",
           "#ab63fa",
           "#FFA15A",
           "#19d3f3",
           "#FF6692",
           "#B6E880",
           "#FF97FF",
           "#FECB52"
          ],
          "font": {
           "color": "#2a3f5f"
          },
          "geo": {
           "bgcolor": "white",
           "lakecolor": "white",
           "landcolor": "#E5ECF6",
           "showlakes": true,
           "showland": true,
           "subunitcolor": "white"
          },
          "hoverlabel": {
           "align": "left"
          },
          "hovermode": "closest",
          "mapbox": {
           "style": "light"
          },
          "paper_bgcolor": "white",
          "plot_bgcolor": "#E5ECF6",
          "polar": {
           "angularaxis": {
            "gridcolor": "white",
            "linecolor": "white",
            "ticks": ""
           },
           "bgcolor": "#E5ECF6",
           "radialaxis": {
            "gridcolor": "white",
            "linecolor": "white",
            "ticks": ""
           }
          },
          "scene": {
           "xaxis": {
            "backgroundcolor": "#E5ECF6",
            "gridcolor": "white",
            "gridwidth": 2,
            "linecolor": "white",
            "showbackground": true,
            "ticks": "",
            "zerolinecolor": "white"
           },
           "yaxis": {
            "backgroundcolor": "#E5ECF6",
            "gridcolor": "white",
            "gridwidth": 2,
            "linecolor": "white",
            "showbackground": true,
            "ticks": "",
            "zerolinecolor": "white"
           },
           "zaxis": {
            "backgroundcolor": "#E5ECF6",
            "gridcolor": "white",
            "gridwidth": 2,
            "linecolor": "white",
            "showbackground": true,
            "ticks": "",
            "zerolinecolor": "white"
           }
          },
          "shapedefaults": {
           "line": {
            "color": "#2a3f5f"
           }
          },
          "ternary": {
           "aaxis": {
            "gridcolor": "white",
            "linecolor": "white",
            "ticks": ""
           },
           "baxis": {
            "gridcolor": "white",
            "linecolor": "white",
            "ticks": ""
           },
           "bgcolor": "#E5ECF6",
           "caxis": {
            "gridcolor": "white",
            "linecolor": "white",
            "ticks": ""
           }
          },
          "title": {
           "x": 0.05
          },
          "xaxis": {
           "automargin": true,
           "gridcolor": "white",
           "linecolor": "white",
           "ticks": "",
           "title": {
            "standoff": 15
           },
           "zerolinecolor": "white",
           "zerolinewidth": 2
          },
          "yaxis": {
           "automargin": true,
           "gridcolor": "white",
           "linecolor": "white",
           "ticks": "",
           "title": {
            "standoff": 15
           },
           "zerolinecolor": "white",
           "zerolinewidth": 2
          }
         }
        },
        "title": {
         "text": "Average No. of Courses Dropped v/s BITSAT 390"
        },
        "xaxis": {
         "anchor": "y",
         "domain": [
          0,
          1
         ],
         "title": {
          "text": "BITSAT Score Intervals"
         }
        },
        "yaxis": {
         "anchor": "x",
         "domain": [
          0,
          1
         ],
         "title": {
          "text": "Average Courses Dropped"
         }
        }
       }
      }
     },
     "metadata": {},
     "output_type": "display_data"
    }
   ],
   "source": [
    "score_interval_dropped_390 = px.bar(\n",
    "    bitsat_cg_dropped_plotting_data_390,\n",
    "    x=bitsat_cg_dropped_plotting_data_390.index,\n",
    "    y=bitsat_cg_dropped_plotting_data_390[\"mean_dropped_courses\"],\n",
    ")\n",
    "\n",
    "score_interval_dropped_390.update_layout(\n",
    "    xaxis_title=\"BITSAT Score Intervals\",\n",
    "    yaxis_title=\"Average Courses Dropped\",\n",
    "    title=\"Average No. of Courses Dropped v/s BITSAT 390\",\n",
    ")\n",
    "\n",
    "score_interval_dropped_390.show()"
   ]
  },
  {
   "cell_type": "markdown",
   "metadata": {},
   "source": [
    "---\n"
   ]
  },
  {
   "cell_type": "markdown",
   "metadata": {},
   "source": [
    "### BITSAT 450\n"
   ]
  },
  {
   "cell_type": "code",
   "execution_count": 39,
   "metadata": {},
   "outputs": [],
   "source": [
    "bitsat_cg_dropped_plotting_data_450 = bitsat_cg_dropped_plotting_data_450.groupby(\n",
    "    bitsat_cg_dropped_plotting_data_450[\"score_intervals\"]\n",
    ").aggregate(aggregation_functions)"
   ]
  },
  {
   "cell_type": "code",
   "execution_count": 40,
   "metadata": {},
   "outputs": [
    {
     "data": {
      "text/html": [
       "<div>\n",
       "<style scoped>\n",
       "    .dataframe tbody tr th:only-of-type {\n",
       "        vertical-align: middle;\n",
       "    }\n",
       "\n",
       "    .dataframe tbody tr th {\n",
       "        vertical-align: top;\n",
       "    }\n",
       "\n",
       "    .dataframe thead th {\n",
       "        text-align: right;\n",
       "    }\n",
       "</style>\n",
       "<table border=\"1\" class=\"dataframe\">\n",
       "  <thead>\n",
       "    <tr style=\"text-align: right;\">\n",
       "      <th></th>\n",
       "      <th>cgpa</th>\n",
       "      <th>bitsat_score</th>\n",
       "      <th>dropped_courses</th>\n",
       "    </tr>\n",
       "    <tr>\n",
       "      <th>score_intervals</th>\n",
       "      <th></th>\n",
       "      <th></th>\n",
       "      <th></th>\n",
       "    </tr>\n",
       "  </thead>\n",
       "  <tbody>\n",
       "    <tr>\n",
       "      <th>180-209</th>\n",
       "      <td>6.070000</td>\n",
       "      <td>208.000000</td>\n",
       "      <td>1.000000</td>\n",
       "    </tr>\n",
       "    <tr>\n",
       "      <th>210-239</th>\n",
       "      <td>8.020000</td>\n",
       "      <td>223.500000</td>\n",
       "      <td>0.000000</td>\n",
       "    </tr>\n",
       "    <tr>\n",
       "      <th>240-269</th>\n",
       "      <td>7.770769</td>\n",
       "      <td>258.846154</td>\n",
       "      <td>0.384615</td>\n",
       "    </tr>\n",
       "    <tr>\n",
       "      <th>270-299</th>\n",
       "      <td>8.243333</td>\n",
       "      <td>284.952381</td>\n",
       "      <td>0.809524</td>\n",
       "    </tr>\n",
       "    <tr>\n",
       "      <th>300-329</th>\n",
       "      <td>8.277692</td>\n",
       "      <td>318.692308</td>\n",
       "      <td>1.000000</td>\n",
       "    </tr>\n",
       "    <tr>\n",
       "      <th>330-359</th>\n",
       "      <td>8.165714</td>\n",
       "      <td>344.761905</td>\n",
       "      <td>1.238095</td>\n",
       "    </tr>\n",
       "    <tr>\n",
       "      <th>360-389</th>\n",
       "      <td>7.500000</td>\n",
       "      <td>370.000000</td>\n",
       "      <td>0.000000</td>\n",
       "    </tr>\n",
       "    <tr>\n",
       "      <th>390-419</th>\n",
       "      <td>NaN</td>\n",
       "      <td>NaN</td>\n",
       "      <td>NaN</td>\n",
       "    </tr>\n",
       "    <tr>\n",
       "      <th>420+</th>\n",
       "      <td>NaN</td>\n",
       "      <td>NaN</td>\n",
       "      <td>NaN</td>\n",
       "    </tr>\n",
       "  </tbody>\n",
       "</table>\n",
       "</div>"
      ],
      "text/plain": [
       "                     cgpa  bitsat_score  dropped_courses\n",
       "score_intervals                                         \n",
       "180-209          6.070000    208.000000         1.000000\n",
       "210-239          8.020000    223.500000         0.000000\n",
       "240-269          7.770769    258.846154         0.384615\n",
       "270-299          8.243333    284.952381         0.809524\n",
       "300-329          8.277692    318.692308         1.000000\n",
       "330-359          8.165714    344.761905         1.238095\n",
       "360-389          7.500000    370.000000         0.000000\n",
       "390-419               NaN           NaN              NaN\n",
       "420+                  NaN           NaN              NaN"
      ]
     },
     "execution_count": 40,
     "metadata": {},
     "output_type": "execute_result"
    }
   ],
   "source": [
    "bitsat_cg_dropped_plotting_data_450"
   ]
  },
  {
   "cell_type": "code",
   "execution_count": 41,
   "metadata": {},
   "outputs": [],
   "source": [
    "bitsat_cg_dropped_plotting_data_450.rename(\n",
    "    columns={\n",
    "        \"cgpa\": \"mean_cgpa\",\n",
    "        \"bitsat_score\": \"mean_bitsat_score\",\n",
    "        \"dropped_courses\": \"mean_dropped_courses\",\n",
    "    },\n",
    "    inplace=True,\n",
    ")"
   ]
  },
  {
   "cell_type": "code",
   "execution_count": 42,
   "metadata": {},
   "outputs": [
    {
     "data": {
      "text/html": [
       "<div>\n",
       "<style scoped>\n",
       "    .dataframe tbody tr th:only-of-type {\n",
       "        vertical-align: middle;\n",
       "    }\n",
       "\n",
       "    .dataframe tbody tr th {\n",
       "        vertical-align: top;\n",
       "    }\n",
       "\n",
       "    .dataframe thead th {\n",
       "        text-align: right;\n",
       "    }\n",
       "</style>\n",
       "<table border=\"1\" class=\"dataframe\">\n",
       "  <thead>\n",
       "    <tr style=\"text-align: right;\">\n",
       "      <th></th>\n",
       "      <th>mean_cgpa</th>\n",
       "      <th>mean_bitsat_score</th>\n",
       "      <th>mean_dropped_courses</th>\n",
       "    </tr>\n",
       "    <tr>\n",
       "      <th>score_intervals</th>\n",
       "      <th></th>\n",
       "      <th></th>\n",
       "      <th></th>\n",
       "    </tr>\n",
       "  </thead>\n",
       "  <tbody>\n",
       "    <tr>\n",
       "      <th>180-209</th>\n",
       "      <td>6.070000</td>\n",
       "      <td>208.000000</td>\n",
       "      <td>1.000000</td>\n",
       "    </tr>\n",
       "    <tr>\n",
       "      <th>210-239</th>\n",
       "      <td>8.020000</td>\n",
       "      <td>223.500000</td>\n",
       "      <td>0.000000</td>\n",
       "    </tr>\n",
       "    <tr>\n",
       "      <th>240-269</th>\n",
       "      <td>7.770769</td>\n",
       "      <td>258.846154</td>\n",
       "      <td>0.384615</td>\n",
       "    </tr>\n",
       "    <tr>\n",
       "      <th>270-299</th>\n",
       "      <td>8.243333</td>\n",
       "      <td>284.952381</td>\n",
       "      <td>0.809524</td>\n",
       "    </tr>\n",
       "    <tr>\n",
       "      <th>300-329</th>\n",
       "      <td>8.277692</td>\n",
       "      <td>318.692308</td>\n",
       "      <td>1.000000</td>\n",
       "    </tr>\n",
       "    <tr>\n",
       "      <th>330-359</th>\n",
       "      <td>8.165714</td>\n",
       "      <td>344.761905</td>\n",
       "      <td>1.238095</td>\n",
       "    </tr>\n",
       "    <tr>\n",
       "      <th>360-389</th>\n",
       "      <td>7.500000</td>\n",
       "      <td>370.000000</td>\n",
       "      <td>0.000000</td>\n",
       "    </tr>\n",
       "    <tr>\n",
       "      <th>390-419</th>\n",
       "      <td>NaN</td>\n",
       "      <td>NaN</td>\n",
       "      <td>NaN</td>\n",
       "    </tr>\n",
       "    <tr>\n",
       "      <th>420+</th>\n",
       "      <td>NaN</td>\n",
       "      <td>NaN</td>\n",
       "      <td>NaN</td>\n",
       "    </tr>\n",
       "  </tbody>\n",
       "</table>\n",
       "</div>"
      ],
      "text/plain": [
       "                 mean_cgpa  mean_bitsat_score  mean_dropped_courses\n",
       "score_intervals                                                    \n",
       "180-209           6.070000         208.000000              1.000000\n",
       "210-239           8.020000         223.500000              0.000000\n",
       "240-269           7.770769         258.846154              0.384615\n",
       "270-299           8.243333         284.952381              0.809524\n",
       "300-329           8.277692         318.692308              1.000000\n",
       "330-359           8.165714         344.761905              1.238095\n",
       "360-389           7.500000         370.000000              0.000000\n",
       "390-419                NaN                NaN                   NaN\n",
       "420+                   NaN                NaN                   NaN"
      ]
     },
     "execution_count": 42,
     "metadata": {},
     "output_type": "execute_result"
    }
   ],
   "source": [
    "bitsat_cg_dropped_plotting_data_450"
   ]
  },
  {
   "cell_type": "markdown",
   "metadata": {},
   "source": [
    "#### Plotting BITSAT 450\n"
   ]
  },
  {
   "cell_type": "code",
   "execution_count": 43,
   "metadata": {},
   "outputs": [
    {
     "data": {
      "application/vnd.plotly.v1+json": {
       "config": {
        "plotlyServerURL": "https://plot.ly"
       },
       "data": [
        {
         "alignmentgroup": "True",
         "hovertemplate": "score_intervals=%{x}<br>mean_bitsat_score=%{y}<extra></extra>",
         "legendgroup": "",
         "marker": {
          "color": "#636efa",
          "pattern": {
           "shape": ""
          }
         },
         "name": "",
         "offsetgroup": "",
         "orientation": "v",
         "showlegend": false,
         "textposition": "auto",
         "type": "bar",
         "x": [
          "180-209",
          "210-239",
          "240-269",
          "270-299",
          "300-329",
          "330-359",
          "360-389",
          "390-419",
          "420+"
         ],
         "xaxis": "x",
         "y": [
          208,
          223.5,
          258.84615384615387,
          284.95238095238096,
          318.6923076923077,
          344.76190476190476,
          370,
          null,
          null
         ],
         "yaxis": "y"
        }
       ],
       "layout": {
        "barmode": "relative",
        "legend": {
         "tracegroupgap": 0
        },
        "margin": {
         "t": 60
        },
        "template": {
         "data": {
          "bar": [
           {
            "error_x": {
             "color": "#2a3f5f"
            },
            "error_y": {
             "color": "#2a3f5f"
            },
            "marker": {
             "line": {
              "color": "#E5ECF6",
              "width": 0.5
             },
             "pattern": {
              "fillmode": "overlay",
              "size": 10,
              "solidity": 0.2
             }
            },
            "type": "bar"
           }
          ],
          "barpolar": [
           {
            "marker": {
             "line": {
              "color": "#E5ECF6",
              "width": 0.5
             },
             "pattern": {
              "fillmode": "overlay",
              "size": 10,
              "solidity": 0.2
             }
            },
            "type": "barpolar"
           }
          ],
          "carpet": [
           {
            "aaxis": {
             "endlinecolor": "#2a3f5f",
             "gridcolor": "white",
             "linecolor": "white",
             "minorgridcolor": "white",
             "startlinecolor": "#2a3f5f"
            },
            "baxis": {
             "endlinecolor": "#2a3f5f",
             "gridcolor": "white",
             "linecolor": "white",
             "minorgridcolor": "white",
             "startlinecolor": "#2a3f5f"
            },
            "type": "carpet"
           }
          ],
          "choropleth": [
           {
            "colorbar": {
             "outlinewidth": 0,
             "ticks": ""
            },
            "type": "choropleth"
           }
          ],
          "contour": [
           {
            "colorbar": {
             "outlinewidth": 0,
             "ticks": ""
            },
            "colorscale": [
             [
              0,
              "#0d0887"
             ],
             [
              0.1111111111111111,
              "#46039f"
             ],
             [
              0.2222222222222222,
              "#7201a8"
             ],
             [
              0.3333333333333333,
              "#9c179e"
             ],
             [
              0.4444444444444444,
              "#bd3786"
             ],
             [
              0.5555555555555556,
              "#d8576b"
             ],
             [
              0.6666666666666666,
              "#ed7953"
             ],
             [
              0.7777777777777778,
              "#fb9f3a"
             ],
             [
              0.8888888888888888,
              "#fdca26"
             ],
             [
              1,
              "#f0f921"
             ]
            ],
            "type": "contour"
           }
          ],
          "contourcarpet": [
           {
            "colorbar": {
             "outlinewidth": 0,
             "ticks": ""
            },
            "type": "contourcarpet"
           }
          ],
          "heatmap": [
           {
            "colorbar": {
             "outlinewidth": 0,
             "ticks": ""
            },
            "colorscale": [
             [
              0,
              "#0d0887"
             ],
             [
              0.1111111111111111,
              "#46039f"
             ],
             [
              0.2222222222222222,
              "#7201a8"
             ],
             [
              0.3333333333333333,
              "#9c179e"
             ],
             [
              0.4444444444444444,
              "#bd3786"
             ],
             [
              0.5555555555555556,
              "#d8576b"
             ],
             [
              0.6666666666666666,
              "#ed7953"
             ],
             [
              0.7777777777777778,
              "#fb9f3a"
             ],
             [
              0.8888888888888888,
              "#fdca26"
             ],
             [
              1,
              "#f0f921"
             ]
            ],
            "type": "heatmap"
           }
          ],
          "heatmapgl": [
           {
            "colorbar": {
             "outlinewidth": 0,
             "ticks": ""
            },
            "colorscale": [
             [
              0,
              "#0d0887"
             ],
             [
              0.1111111111111111,
              "#46039f"
             ],
             [
              0.2222222222222222,
              "#7201a8"
             ],
             [
              0.3333333333333333,
              "#9c179e"
             ],
             [
              0.4444444444444444,
              "#bd3786"
             ],
             [
              0.5555555555555556,
              "#d8576b"
             ],
             [
              0.6666666666666666,
              "#ed7953"
             ],
             [
              0.7777777777777778,
              "#fb9f3a"
             ],
             [
              0.8888888888888888,
              "#fdca26"
             ],
             [
              1,
              "#f0f921"
             ]
            ],
            "type": "heatmapgl"
           }
          ],
          "histogram": [
           {
            "marker": {
             "pattern": {
              "fillmode": "overlay",
              "size": 10,
              "solidity": 0.2
             }
            },
            "type": "histogram"
           }
          ],
          "histogram2d": [
           {
            "colorbar": {
             "outlinewidth": 0,
             "ticks": ""
            },
            "colorscale": [
             [
              0,
              "#0d0887"
             ],
             [
              0.1111111111111111,
              "#46039f"
             ],
             [
              0.2222222222222222,
              "#7201a8"
             ],
             [
              0.3333333333333333,
              "#9c179e"
             ],
             [
              0.4444444444444444,
              "#bd3786"
             ],
             [
              0.5555555555555556,
              "#d8576b"
             ],
             [
              0.6666666666666666,
              "#ed7953"
             ],
             [
              0.7777777777777778,
              "#fb9f3a"
             ],
             [
              0.8888888888888888,
              "#fdca26"
             ],
             [
              1,
              "#f0f921"
             ]
            ],
            "type": "histogram2d"
           }
          ],
          "histogram2dcontour": [
           {
            "colorbar": {
             "outlinewidth": 0,
             "ticks": ""
            },
            "colorscale": [
             [
              0,
              "#0d0887"
             ],
             [
              0.1111111111111111,
              "#46039f"
             ],
             [
              0.2222222222222222,
              "#7201a8"
             ],
             [
              0.3333333333333333,
              "#9c179e"
             ],
             [
              0.4444444444444444,
              "#bd3786"
             ],
             [
              0.5555555555555556,
              "#d8576b"
             ],
             [
              0.6666666666666666,
              "#ed7953"
             ],
             [
              0.7777777777777778,
              "#fb9f3a"
             ],
             [
              0.8888888888888888,
              "#fdca26"
             ],
             [
              1,
              "#f0f921"
             ]
            ],
            "type": "histogram2dcontour"
           }
          ],
          "mesh3d": [
           {
            "colorbar": {
             "outlinewidth": 0,
             "ticks": ""
            },
            "type": "mesh3d"
           }
          ],
          "parcoords": [
           {
            "line": {
             "colorbar": {
              "outlinewidth": 0,
              "ticks": ""
             }
            },
            "type": "parcoords"
           }
          ],
          "pie": [
           {
            "automargin": true,
            "type": "pie"
           }
          ],
          "scatter": [
           {
            "fillpattern": {
             "fillmode": "overlay",
             "size": 10,
             "solidity": 0.2
            },
            "type": "scatter"
           }
          ],
          "scatter3d": [
           {
            "line": {
             "colorbar": {
              "outlinewidth": 0,
              "ticks": ""
             }
            },
            "marker": {
             "colorbar": {
              "outlinewidth": 0,
              "ticks": ""
             }
            },
            "type": "scatter3d"
           }
          ],
          "scattercarpet": [
           {
            "marker": {
             "colorbar": {
              "outlinewidth": 0,
              "ticks": ""
             }
            },
            "type": "scattercarpet"
           }
          ],
          "scattergeo": [
           {
            "marker": {
             "colorbar": {
              "outlinewidth": 0,
              "ticks": ""
             }
            },
            "type": "scattergeo"
           }
          ],
          "scattergl": [
           {
            "marker": {
             "colorbar": {
              "outlinewidth": 0,
              "ticks": ""
             }
            },
            "type": "scattergl"
           }
          ],
          "scattermapbox": [
           {
            "marker": {
             "colorbar": {
              "outlinewidth": 0,
              "ticks": ""
             }
            },
            "type": "scattermapbox"
           }
          ],
          "scatterpolar": [
           {
            "marker": {
             "colorbar": {
              "outlinewidth": 0,
              "ticks": ""
             }
            },
            "type": "scatterpolar"
           }
          ],
          "scatterpolargl": [
           {
            "marker": {
             "colorbar": {
              "outlinewidth": 0,
              "ticks": ""
             }
            },
            "type": "scatterpolargl"
           }
          ],
          "scatterternary": [
           {
            "marker": {
             "colorbar": {
              "outlinewidth": 0,
              "ticks": ""
             }
            },
            "type": "scatterternary"
           }
          ],
          "surface": [
           {
            "colorbar": {
             "outlinewidth": 0,
             "ticks": ""
            },
            "colorscale": [
             [
              0,
              "#0d0887"
             ],
             [
              0.1111111111111111,
              "#46039f"
             ],
             [
              0.2222222222222222,
              "#7201a8"
             ],
             [
              0.3333333333333333,
              "#9c179e"
             ],
             [
              0.4444444444444444,
              "#bd3786"
             ],
             [
              0.5555555555555556,
              "#d8576b"
             ],
             [
              0.6666666666666666,
              "#ed7953"
             ],
             [
              0.7777777777777778,
              "#fb9f3a"
             ],
             [
              0.8888888888888888,
              "#fdca26"
             ],
             [
              1,
              "#f0f921"
             ]
            ],
            "type": "surface"
           }
          ],
          "table": [
           {
            "cells": {
             "fill": {
              "color": "#EBF0F8"
             },
             "line": {
              "color": "white"
             }
            },
            "header": {
             "fill": {
              "color": "#C8D4E3"
             },
             "line": {
              "color": "white"
             }
            },
            "type": "table"
           }
          ]
         },
         "layout": {
          "annotationdefaults": {
           "arrowcolor": "#2a3f5f",
           "arrowhead": 0,
           "arrowwidth": 1
          },
          "autotypenumbers": "strict",
          "coloraxis": {
           "colorbar": {
            "outlinewidth": 0,
            "ticks": ""
           }
          },
          "colorscale": {
           "diverging": [
            [
             0,
             "#8e0152"
            ],
            [
             0.1,
             "#c51b7d"
            ],
            [
             0.2,
             "#de77ae"
            ],
            [
             0.3,
             "#f1b6da"
            ],
            [
             0.4,
             "#fde0ef"
            ],
            [
             0.5,
             "#f7f7f7"
            ],
            [
             0.6,
             "#e6f5d0"
            ],
            [
             0.7,
             "#b8e186"
            ],
            [
             0.8,
             "#7fbc41"
            ],
            [
             0.9,
             "#4d9221"
            ],
            [
             1,
             "#276419"
            ]
           ],
           "sequential": [
            [
             0,
             "#0d0887"
            ],
            [
             0.1111111111111111,
             "#46039f"
            ],
            [
             0.2222222222222222,
             "#7201a8"
            ],
            [
             0.3333333333333333,
             "#9c179e"
            ],
            [
             0.4444444444444444,
             "#bd3786"
            ],
            [
             0.5555555555555556,
             "#d8576b"
            ],
            [
             0.6666666666666666,
             "#ed7953"
            ],
            [
             0.7777777777777778,
             "#fb9f3a"
            ],
            [
             0.8888888888888888,
             "#fdca26"
            ],
            [
             1,
             "#f0f921"
            ]
           ],
           "sequentialminus": [
            [
             0,
             "#0d0887"
            ],
            [
             0.1111111111111111,
             "#46039f"
            ],
            [
             0.2222222222222222,
             "#7201a8"
            ],
            [
             0.3333333333333333,
             "#9c179e"
            ],
            [
             0.4444444444444444,
             "#bd3786"
            ],
            [
             0.5555555555555556,
             "#d8576b"
            ],
            [
             0.6666666666666666,
             "#ed7953"
            ],
            [
             0.7777777777777778,
             "#fb9f3a"
            ],
            [
             0.8888888888888888,
             "#fdca26"
            ],
            [
             1,
             "#f0f921"
            ]
           ]
          },
          "colorway": [
           "#636efa",
           "#EF553B",
           "#00cc96",
           "#ab63fa",
           "#FFA15A",
           "#19d3f3",
           "#FF6692",
           "#B6E880",
           "#FF97FF",
           "#FECB52"
          ],
          "font": {
           "color": "#2a3f5f"
          },
          "geo": {
           "bgcolor": "white",
           "lakecolor": "white",
           "landcolor": "#E5ECF6",
           "showlakes": true,
           "showland": true,
           "subunitcolor": "white"
          },
          "hoverlabel": {
           "align": "left"
          },
          "hovermode": "closest",
          "mapbox": {
           "style": "light"
          },
          "paper_bgcolor": "white",
          "plot_bgcolor": "#E5ECF6",
          "polar": {
           "angularaxis": {
            "gridcolor": "white",
            "linecolor": "white",
            "ticks": ""
           },
           "bgcolor": "#E5ECF6",
           "radialaxis": {
            "gridcolor": "white",
            "linecolor": "white",
            "ticks": ""
           }
          },
          "scene": {
           "xaxis": {
            "backgroundcolor": "#E5ECF6",
            "gridcolor": "white",
            "gridwidth": 2,
            "linecolor": "white",
            "showbackground": true,
            "ticks": "",
            "zerolinecolor": "white"
           },
           "yaxis": {
            "backgroundcolor": "#E5ECF6",
            "gridcolor": "white",
            "gridwidth": 2,
            "linecolor": "white",
            "showbackground": true,
            "ticks": "",
            "zerolinecolor": "white"
           },
           "zaxis": {
            "backgroundcolor": "#E5ECF6",
            "gridcolor": "white",
            "gridwidth": 2,
            "linecolor": "white",
            "showbackground": true,
            "ticks": "",
            "zerolinecolor": "white"
           }
          },
          "shapedefaults": {
           "line": {
            "color": "#2a3f5f"
           }
          },
          "ternary": {
           "aaxis": {
            "gridcolor": "white",
            "linecolor": "white",
            "ticks": ""
           },
           "baxis": {
            "gridcolor": "white",
            "linecolor": "white",
            "ticks": ""
           },
           "bgcolor": "#E5ECF6",
           "caxis": {
            "gridcolor": "white",
            "linecolor": "white",
            "ticks": ""
           }
          },
          "title": {
           "x": 0.05
          },
          "xaxis": {
           "automargin": true,
           "gridcolor": "white",
           "linecolor": "white",
           "ticks": "",
           "title": {
            "standoff": 15
           },
           "zerolinecolor": "white",
           "zerolinewidth": 2
          },
          "yaxis": {
           "automargin": true,
           "gridcolor": "white",
           "linecolor": "white",
           "ticks": "",
           "title": {
            "standoff": 15
           },
           "zerolinecolor": "white",
           "zerolinewidth": 2
          }
         }
        },
        "title": {
         "text": "Average Interval Score v/s BITSAT 450"
        },
        "xaxis": {
         "anchor": "y",
         "domain": [
          0,
          1
         ],
         "title": {
          "text": "BITSAT Score Intervals"
         }
        },
        "yaxis": {
         "anchor": "x",
         "domain": [
          0,
          1
         ],
         "title": {
          "text": "Average BITSAT Interval Score"
         }
        }
       }
      }
     },
     "metadata": {},
     "output_type": "display_data"
    }
   ],
   "source": [
    "\"\"\"\n",
    "fig = px.bar(data_canada, x='year', y='pop')\n",
    "\"\"\"\n",
    "score_interval_bitsat_450 = px.bar(\n",
    "    bitsat_cg_dropped_plotting_data_450,\n",
    "    x=bitsat_cg_dropped_plotting_data_450.index,\n",
    "    y=bitsat_cg_dropped_plotting_data_450[\"mean_bitsat_score\"],\n",
    ")\n",
    "\n",
    "score_interval_bitsat_450.update_layout(\n",
    "    xaxis_title=\"BITSAT Score Intervals\",\n",
    "    yaxis_title=\"Average BITSAT Interval Score\",\n",
    "    title=\"Average Interval Score v/s BITSAT 450\",\n",
    ")\n",
    "\n",
    "score_interval_bitsat_450.show()"
   ]
  },
  {
   "cell_type": "code",
   "execution_count": 44,
   "metadata": {},
   "outputs": [
    {
     "data": {
      "application/vnd.plotly.v1+json": {
       "config": {
        "plotlyServerURL": "https://plot.ly"
       },
       "data": [
        {
         "alignmentgroup": "True",
         "hovertemplate": "score_intervals=%{x}<br>mean_cgpa=%{y}<extra></extra>",
         "legendgroup": "180-209",
         "marker": {
          "color": "rgb(26, 109, 113)",
          "pattern": {
           "shape": ""
          }
         },
         "name": "180-209",
         "offsetgroup": "180-209",
         "orientation": "v",
         "showlegend": true,
         "textposition": "auto",
         "type": "bar",
         "x": [
          "180-209"
         ],
         "xaxis": "x",
         "y": [
          6.07
         ],
         "yaxis": "y"
        },
        {
         "alignmentgroup": "True",
         "hovertemplate": "score_intervals=%{x}<br>mean_cgpa=%{y}<extra></extra>",
         "legendgroup": "210-239",
         "marker": {
          "color": "rgb(9, 69, 84)",
          "pattern": {
           "shape": ""
          }
         },
         "name": "210-239",
         "offsetgroup": "210-239",
         "orientation": "v",
         "showlegend": true,
         "textposition": "auto",
         "type": "bar",
         "x": [
          "210-239"
         ],
         "xaxis": "x",
         "y": [
          8.02
         ],
         "yaxis": "y"
        },
        {
         "alignmentgroup": "True",
         "hovertemplate": "score_intervals=%{x}<br>mean_cgpa=%{y}<extra></extra>",
         "legendgroup": "240-269",
         "marker": {
          "color": "rgb(10, 73, 88)",
          "pattern": {
           "shape": ""
          }
         },
         "name": "240-269",
         "offsetgroup": "240-269",
         "orientation": "v",
         "showlegend": true,
         "textposition": "auto",
         "type": "bar",
         "x": [
          "240-269"
         ],
         "xaxis": "x",
         "y": [
          7.770769230769231
         ],
         "yaxis": "y"
        },
        {
         "alignmentgroup": "True",
         "hovertemplate": "score_intervals=%{x}<br>mean_cgpa=%{y}<extra></extra>",
         "legendgroup": "270-299",
         "marker": {
          "color": "rgb(7, 65, 81)",
          "pattern": {
           "shape": ""
          }
         },
         "name": "270-299",
         "offsetgroup": "270-299",
         "orientation": "v",
         "showlegend": true,
         "textposition": "auto",
         "type": "bar",
         "x": [
          "270-299"
         ],
         "xaxis": "x",
         "y": [
          8.243333333333334
         ],
         "yaxis": "y"
        },
        {
         "alignmentgroup": "True",
         "hovertemplate": "score_intervals=%{x}<br>mean_cgpa=%{y}<extra></extra>",
         "legendgroup": "300-329",
         "marker": {
          "color": "rgb(7, 64, 80)",
          "pattern": {
           "shape": ""
          }
         },
         "name": "300-329",
         "offsetgroup": "300-329",
         "orientation": "v",
         "showlegend": true,
         "textposition": "auto",
         "type": "bar",
         "x": [
          "300-329"
         ],
         "xaxis": "x",
         "y": [
          8.277692307692307
         ],
         "yaxis": "y"
        },
        {
         "alignmentgroup": "True",
         "hovertemplate": "score_intervals=%{x}<br>mean_cgpa=%{y}<extra></extra>",
         "legendgroup": "330-359",
         "marker": {
          "color": "rgb(8, 66, 82)",
          "pattern": {
           "shape": ""
          }
         },
         "name": "330-359",
         "offsetgroup": "330-359",
         "orientation": "v",
         "showlegend": true,
         "textposition": "auto",
         "type": "bar",
         "x": [
          "330-359"
         ],
         "xaxis": "x",
         "y": [
          8.165714285714285
         ],
         "yaxis": "y"
        },
        {
         "alignmentgroup": "True",
         "hovertemplate": "score_intervals=%{x}<br>mean_cgpa=%{y}<extra></extra>",
         "legendgroup": "360-389",
         "marker": {
          "color": "rgb(12, 78, 92)",
          "pattern": {
           "shape": ""
          }
         },
         "name": "360-389",
         "offsetgroup": "360-389",
         "orientation": "v",
         "showlegend": true,
         "textposition": "auto",
         "type": "bar",
         "x": [
          "360-389"
         ],
         "xaxis": "x",
         "y": [
          7.5
         ],
         "yaxis": "y"
        },
        {
         "alignmentgroup": "True",
         "hovertemplate": "score_intervals=%{x}<br>mean_cgpa=%{y}<extra></extra>",
         "legendgroup": "390-419",
         "marker": {
          "color": 0,
          "pattern": {
           "shape": ""
          }
         },
         "name": "390-419",
         "offsetgroup": "390-419",
         "orientation": "v",
         "showlegend": true,
         "textposition": "auto",
         "type": "bar",
         "x": [
          "390-419"
         ],
         "xaxis": "x",
         "y": [
          null
         ],
         "yaxis": "y"
        },
        {
         "alignmentgroup": "True",
         "hovertemplate": "score_intervals=%{x}<br>mean_cgpa=%{y}<extra></extra>",
         "legendgroup": "420+",
         "marker": {
          "color": 0,
          "pattern": {
           "shape": ""
          }
         },
         "name": "420+",
         "offsetgroup": "420+",
         "orientation": "v",
         "showlegend": true,
         "textposition": "auto",
         "type": "bar",
         "x": [
          "420+"
         ],
         "xaxis": "x",
         "y": [
          null
         ],
         "yaxis": "y"
        }
       ],
       "layout": {
        "barmode": "relative",
        "legend": {
         "title": {
          "text": "score_intervals"
         },
         "tracegroupgap": 0
        },
        "margin": {
         "t": 60
        },
        "template": {
         "data": {
          "bar": [
           {
            "error_x": {
             "color": "#2a3f5f"
            },
            "error_y": {
             "color": "#2a3f5f"
            },
            "marker": {
             "line": {
              "color": "#E5ECF6",
              "width": 0.5
             },
             "pattern": {
              "fillmode": "overlay",
              "size": 10,
              "solidity": 0.2
             }
            },
            "type": "bar"
           }
          ],
          "barpolar": [
           {
            "marker": {
             "line": {
              "color": "#E5ECF6",
              "width": 0.5
             },
             "pattern": {
              "fillmode": "overlay",
              "size": 10,
              "solidity": 0.2
             }
            },
            "type": "barpolar"
           }
          ],
          "carpet": [
           {
            "aaxis": {
             "endlinecolor": "#2a3f5f",
             "gridcolor": "white",
             "linecolor": "white",
             "minorgridcolor": "white",
             "startlinecolor": "#2a3f5f"
            },
            "baxis": {
             "endlinecolor": "#2a3f5f",
             "gridcolor": "white",
             "linecolor": "white",
             "minorgridcolor": "white",
             "startlinecolor": "#2a3f5f"
            },
            "type": "carpet"
           }
          ],
          "choropleth": [
           {
            "colorbar": {
             "outlinewidth": 0,
             "ticks": ""
            },
            "type": "choropleth"
           }
          ],
          "contour": [
           {
            "colorbar": {
             "outlinewidth": 0,
             "ticks": ""
            },
            "colorscale": [
             [
              0,
              "#0d0887"
             ],
             [
              0.1111111111111111,
              "#46039f"
             ],
             [
              0.2222222222222222,
              "#7201a8"
             ],
             [
              0.3333333333333333,
              "#9c179e"
             ],
             [
              0.4444444444444444,
              "#bd3786"
             ],
             [
              0.5555555555555556,
              "#d8576b"
             ],
             [
              0.6666666666666666,
              "#ed7953"
             ],
             [
              0.7777777777777778,
              "#fb9f3a"
             ],
             [
              0.8888888888888888,
              "#fdca26"
             ],
             [
              1,
              "#f0f921"
             ]
            ],
            "type": "contour"
           }
          ],
          "contourcarpet": [
           {
            "colorbar": {
             "outlinewidth": 0,
             "ticks": ""
            },
            "type": "contourcarpet"
           }
          ],
          "heatmap": [
           {
            "colorbar": {
             "outlinewidth": 0,
             "ticks": ""
            },
            "colorscale": [
             [
              0,
              "#0d0887"
             ],
             [
              0.1111111111111111,
              "#46039f"
             ],
             [
              0.2222222222222222,
              "#7201a8"
             ],
             [
              0.3333333333333333,
              "#9c179e"
             ],
             [
              0.4444444444444444,
              "#bd3786"
             ],
             [
              0.5555555555555556,
              "#d8576b"
             ],
             [
              0.6666666666666666,
              "#ed7953"
             ],
             [
              0.7777777777777778,
              "#fb9f3a"
             ],
             [
              0.8888888888888888,
              "#fdca26"
             ],
             [
              1,
              "#f0f921"
             ]
            ],
            "type": "heatmap"
           }
          ],
          "heatmapgl": [
           {
            "colorbar": {
             "outlinewidth": 0,
             "ticks": ""
            },
            "colorscale": [
             [
              0,
              "#0d0887"
             ],
             [
              0.1111111111111111,
              "#46039f"
             ],
             [
              0.2222222222222222,
              "#7201a8"
             ],
             [
              0.3333333333333333,
              "#9c179e"
             ],
             [
              0.4444444444444444,
              "#bd3786"
             ],
             [
              0.5555555555555556,
              "#d8576b"
             ],
             [
              0.6666666666666666,
              "#ed7953"
             ],
             [
              0.7777777777777778,
              "#fb9f3a"
             ],
             [
              0.8888888888888888,
              "#fdca26"
             ],
             [
              1,
              "#f0f921"
             ]
            ],
            "type": "heatmapgl"
           }
          ],
          "histogram": [
           {
            "marker": {
             "pattern": {
              "fillmode": "overlay",
              "size": 10,
              "solidity": 0.2
             }
            },
            "type": "histogram"
           }
          ],
          "histogram2d": [
           {
            "colorbar": {
             "outlinewidth": 0,
             "ticks": ""
            },
            "colorscale": [
             [
              0,
              "#0d0887"
             ],
             [
              0.1111111111111111,
              "#46039f"
             ],
             [
              0.2222222222222222,
              "#7201a8"
             ],
             [
              0.3333333333333333,
              "#9c179e"
             ],
             [
              0.4444444444444444,
              "#bd3786"
             ],
             [
              0.5555555555555556,
              "#d8576b"
             ],
             [
              0.6666666666666666,
              "#ed7953"
             ],
             [
              0.7777777777777778,
              "#fb9f3a"
             ],
             [
              0.8888888888888888,
              "#fdca26"
             ],
             [
              1,
              "#f0f921"
             ]
            ],
            "type": "histogram2d"
           }
          ],
          "histogram2dcontour": [
           {
            "colorbar": {
             "outlinewidth": 0,
             "ticks": ""
            },
            "colorscale": [
             [
              0,
              "#0d0887"
             ],
             [
              0.1111111111111111,
              "#46039f"
             ],
             [
              0.2222222222222222,
              "#7201a8"
             ],
             [
              0.3333333333333333,
              "#9c179e"
             ],
             [
              0.4444444444444444,
              "#bd3786"
             ],
             [
              0.5555555555555556,
              "#d8576b"
             ],
             [
              0.6666666666666666,
              "#ed7953"
             ],
             [
              0.7777777777777778,
              "#fb9f3a"
             ],
             [
              0.8888888888888888,
              "#fdca26"
             ],
             [
              1,
              "#f0f921"
             ]
            ],
            "type": "histogram2dcontour"
           }
          ],
          "mesh3d": [
           {
            "colorbar": {
             "outlinewidth": 0,
             "ticks": ""
            },
            "type": "mesh3d"
           }
          ],
          "parcoords": [
           {
            "line": {
             "colorbar": {
              "outlinewidth": 0,
              "ticks": ""
             }
            },
            "type": "parcoords"
           }
          ],
          "pie": [
           {
            "automargin": true,
            "type": "pie"
           }
          ],
          "scatter": [
           {
            "fillpattern": {
             "fillmode": "overlay",
             "size": 10,
             "solidity": 0.2
            },
            "type": "scatter"
           }
          ],
          "scatter3d": [
           {
            "line": {
             "colorbar": {
              "outlinewidth": 0,
              "ticks": ""
             }
            },
            "marker": {
             "colorbar": {
              "outlinewidth": 0,
              "ticks": ""
             }
            },
            "type": "scatter3d"
           }
          ],
          "scattercarpet": [
           {
            "marker": {
             "colorbar": {
              "outlinewidth": 0,
              "ticks": ""
             }
            },
            "type": "scattercarpet"
           }
          ],
          "scattergeo": [
           {
            "marker": {
             "colorbar": {
              "outlinewidth": 0,
              "ticks": ""
             }
            },
            "type": "scattergeo"
           }
          ],
          "scattergl": [
           {
            "marker": {
             "colorbar": {
              "outlinewidth": 0,
              "ticks": ""
             }
            },
            "type": "scattergl"
           }
          ],
          "scattermapbox": [
           {
            "marker": {
             "colorbar": {
              "outlinewidth": 0,
              "ticks": ""
             }
            },
            "type": "scattermapbox"
           }
          ],
          "scatterpolar": [
           {
            "marker": {
             "colorbar": {
              "outlinewidth": 0,
              "ticks": ""
             }
            },
            "type": "scatterpolar"
           }
          ],
          "scatterpolargl": [
           {
            "marker": {
             "colorbar": {
              "outlinewidth": 0,
              "ticks": ""
             }
            },
            "type": "scatterpolargl"
           }
          ],
          "scatterternary": [
           {
            "marker": {
             "colorbar": {
              "outlinewidth": 0,
              "ticks": ""
             }
            },
            "type": "scatterternary"
           }
          ],
          "surface": [
           {
            "colorbar": {
             "outlinewidth": 0,
             "ticks": ""
            },
            "colorscale": [
             [
              0,
              "#0d0887"
             ],
             [
              0.1111111111111111,
              "#46039f"
             ],
             [
              0.2222222222222222,
              "#7201a8"
             ],
             [
              0.3333333333333333,
              "#9c179e"
             ],
             [
              0.4444444444444444,
              "#bd3786"
             ],
             [
              0.5555555555555556,
              "#d8576b"
             ],
             [
              0.6666666666666666,
              "#ed7953"
             ],
             [
              0.7777777777777778,
              "#fb9f3a"
             ],
             [
              0.8888888888888888,
              "#fdca26"
             ],
             [
              1,
              "#f0f921"
             ]
            ],
            "type": "surface"
           }
          ],
          "table": [
           {
            "cells": {
             "fill": {
              "color": "#EBF0F8"
             },
             "line": {
              "color": "white"
             }
            },
            "header": {
             "fill": {
              "color": "#C8D4E3"
             },
             "line": {
              "color": "white"
             }
            },
            "type": "table"
           }
          ]
         },
         "layout": {
          "annotationdefaults": {
           "arrowcolor": "#2a3f5f",
           "arrowhead": 0,
           "arrowwidth": 1
          },
          "autotypenumbers": "strict",
          "coloraxis": {
           "colorbar": {
            "outlinewidth": 0,
            "ticks": ""
           }
          },
          "colorscale": {
           "diverging": [
            [
             0,
             "#8e0152"
            ],
            [
             0.1,
             "#c51b7d"
            ],
            [
             0.2,
             "#de77ae"
            ],
            [
             0.3,
             "#f1b6da"
            ],
            [
             0.4,
             "#fde0ef"
            ],
            [
             0.5,
             "#f7f7f7"
            ],
            [
             0.6,
             "#e6f5d0"
            ],
            [
             0.7,
             "#b8e186"
            ],
            [
             0.8,
             "#7fbc41"
            ],
            [
             0.9,
             "#4d9221"
            ],
            [
             1,
             "#276419"
            ]
           ],
           "sequential": [
            [
             0,
             "#0d0887"
            ],
            [
             0.1111111111111111,
             "#46039f"
            ],
            [
             0.2222222222222222,
             "#7201a8"
            ],
            [
             0.3333333333333333,
             "#9c179e"
            ],
            [
             0.4444444444444444,
             "#bd3786"
            ],
            [
             0.5555555555555556,
             "#d8576b"
            ],
            [
             0.6666666666666666,
             "#ed7953"
            ],
            [
             0.7777777777777778,
             "#fb9f3a"
            ],
            [
             0.8888888888888888,
             "#fdca26"
            ],
            [
             1,
             "#f0f921"
            ]
           ],
           "sequentialminus": [
            [
             0,
             "#0d0887"
            ],
            [
             0.1111111111111111,
             "#46039f"
            ],
            [
             0.2222222222222222,
             "#7201a8"
            ],
            [
             0.3333333333333333,
             "#9c179e"
            ],
            [
             0.4444444444444444,
             "#bd3786"
            ],
            [
             0.5555555555555556,
             "#d8576b"
            ],
            [
             0.6666666666666666,
             "#ed7953"
            ],
            [
             0.7777777777777778,
             "#fb9f3a"
            ],
            [
             0.8888888888888888,
             "#fdca26"
            ],
            [
             1,
             "#f0f921"
            ]
           ]
          },
          "colorway": [
           "#636efa",
           "#EF553B",
           "#00cc96",
           "#ab63fa",
           "#FFA15A",
           "#19d3f3",
           "#FF6692",
           "#B6E880",
           "#FF97FF",
           "#FECB52"
          ],
          "font": {
           "color": "#2a3f5f"
          },
          "geo": {
           "bgcolor": "white",
           "lakecolor": "white",
           "landcolor": "#E5ECF6",
           "showlakes": true,
           "showland": true,
           "subunitcolor": "white"
          },
          "hoverlabel": {
           "align": "left"
          },
          "hovermode": "closest",
          "mapbox": {
           "style": "light"
          },
          "paper_bgcolor": "white",
          "plot_bgcolor": "#E5ECF6",
          "polar": {
           "angularaxis": {
            "gridcolor": "white",
            "linecolor": "white",
            "ticks": ""
           },
           "bgcolor": "#E5ECF6",
           "radialaxis": {
            "gridcolor": "white",
            "linecolor": "white",
            "ticks": ""
           }
          },
          "scene": {
           "xaxis": {
            "backgroundcolor": "#E5ECF6",
            "gridcolor": "white",
            "gridwidth": 2,
            "linecolor": "white",
            "showbackground": true,
            "ticks": "",
            "zerolinecolor": "white"
           },
           "yaxis": {
            "backgroundcolor": "#E5ECF6",
            "gridcolor": "white",
            "gridwidth": 2,
            "linecolor": "white",
            "showbackground": true,
            "ticks": "",
            "zerolinecolor": "white"
           },
           "zaxis": {
            "backgroundcolor": "#E5ECF6",
            "gridcolor": "white",
            "gridwidth": 2,
            "linecolor": "white",
            "showbackground": true,
            "ticks": "",
            "zerolinecolor": "white"
           }
          },
          "shapedefaults": {
           "line": {
            "color": "#2a3f5f"
           }
          },
          "ternary": {
           "aaxis": {
            "gridcolor": "white",
            "linecolor": "white",
            "ticks": ""
           },
           "baxis": {
            "gridcolor": "white",
            "linecolor": "white",
            "ticks": ""
           },
           "bgcolor": "#E5ECF6",
           "caxis": {
            "gridcolor": "white",
            "linecolor": "white",
            "ticks": ""
           }
          },
          "title": {
           "x": 0.05
          },
          "xaxis": {
           "automargin": true,
           "gridcolor": "white",
           "linecolor": "white",
           "ticks": "",
           "title": {
            "standoff": 15
           },
           "zerolinecolor": "white",
           "zerolinewidth": 2
          },
          "yaxis": {
           "automargin": true,
           "gridcolor": "white",
           "linecolor": "white",
           "ticks": "",
           "title": {
            "standoff": 15
           },
           "zerolinecolor": "white",
           "zerolinewidth": 2
          }
         }
        },
        "title": {
         "text": "Average Latest CGPA v/s BITSAT 450"
        },
        "xaxis": {
         "anchor": "y",
         "categoryarray": [
          "180-209",
          "210-239",
          "240-269",
          "270-299",
          "300-329",
          "330-359",
          "360-389",
          "390-419",
          "420+"
         ],
         "categoryorder": "array",
         "domain": [
          0,
          1
         ],
         "title": {
          "text": "BITSAT Score Intervals"
         }
        },
        "yaxis": {
         "anchor": "x",
         "domain": [
          0,
          1
         ],
         "title": {
          "text": "Average Latest CGPA"
         }
        }
       }
      }
     },
     "metadata": {},
     "output_type": "display_data"
    }
   ],
   "source": [
    "score_interval_cgpa_450 = px.bar(\n",
    "    bitsat_cg_dropped_plotting_data_450,\n",
    "    x=bitsat_cg_dropped_plotting_data_450.index,\n",
    "    y=bitsat_cg_dropped_plotting_data_450[\"mean_cgpa\"],\n",
    "    color=bitsat_cg_dropped_plotting_data_450.index,\n",
    "    color_discrete_sequence=[\n",
    "        px.colors.sample_colorscale(\"emrld\", v)[0]\n",
    "        if not isna(v) else 0\n",
    "        for v in (\n",
    "            bitsat_cg_dropped_plotting_data_450[\"mean_cgpa\"]\n",
    "            / bitsat_cg_dropped_plotting_data_450[\"mean_cgpa\"].max()\n",
    "        ).tolist()\n",
    "    ],\n",
    ")\n",
    "\n",
    "score_interval_cgpa_450.update_layout(\n",
    "    xaxis_title=\"BITSAT Score Intervals\",\n",
    "    yaxis_title=\"Average Latest CGPA\",\n",
    "    title=\"Average Latest CGPA v/s BITSAT 450\",\n",
    ")\n",
    "\n",
    "score_interval_cgpa_450.show()"
   ]
  },
  {
   "cell_type": "code",
   "execution_count": 45,
   "metadata": {},
   "outputs": [
    {
     "data": {
      "application/vnd.plotly.v1+json": {
       "config": {
        "plotlyServerURL": "https://plot.ly"
       },
       "data": [
        {
         "alignmentgroup": "True",
         "hovertemplate": "score_intervals=%{x}<br>mean_dropped_courses=%{y}<extra></extra>",
         "legendgroup": "180-209",
         "marker": {
          "color": "rgb(2, 119, 115)",
          "pattern": {
           "shape": ""
          }
         },
         "name": "180-209",
         "offsetgroup": "180-209",
         "orientation": "v",
         "showlegend": true,
         "textposition": "auto",
         "type": "bar",
         "x": [
          "180-209"
         ],
         "xaxis": "x",
         "y": [
          1
         ],
         "yaxis": "y"
        },
        {
         "alignmentgroup": "True",
         "hovertemplate": "score_intervals=%{x}<br>mean_dropped_courses=%{y}<extra></extra>",
         "legendgroup": "210-239",
         "marker": {
          "color": "rgb(255, 247, 251)",
          "pattern": {
           "shape": ""
          }
         },
         "name": "210-239",
         "offsetgroup": "210-239",
         "orientation": "v",
         "showlegend": true,
         "textposition": "auto",
         "type": "bar",
         "x": [
          "210-239"
         ],
         "xaxis": "x",
         "y": [
          0
         ],
         "yaxis": "y"
        },
        {
         "alignmentgroup": "True",
         "hovertemplate": "score_intervals=%{x}<br>mean_dropped_courses=%{y}<extra></extra>",
         "legendgroup": "240-269",
         "marker": {
          "color": "rgb(188, 199, 225)",
          "pattern": {
           "shape": ""
          }
         },
         "name": "240-269",
         "offsetgroup": "240-269",
         "orientation": "v",
         "showlegend": true,
         "textposition": "auto",
         "type": "bar",
         "x": [
          "240-269"
         ],
         "xaxis": "x",
         "y": [
          0.38461538461538464
         ],
         "yaxis": "y"
        },
        {
         "alignmentgroup": "True",
         "hovertemplate": "score_intervals=%{x}<br>mean_dropped_courses=%{y}<extra></extra>",
         "legendgroup": "270-299",
         "marker": {
          "color": "rgb(42, 141, 180)",
          "pattern": {
           "shape": ""
          }
         },
         "name": "270-299",
         "offsetgroup": "270-299",
         "orientation": "v",
         "showlegend": true,
         "textposition": "auto",
         "type": "bar",
         "x": [
          "270-299"
         ],
         "xaxis": "x",
         "y": [
          0.8095238095238095
         ],
         "yaxis": "y"
        },
        {
         "alignmentgroup": "True",
         "hovertemplate": "score_intervals=%{x}<br>mean_dropped_courses=%{y}<extra></extra>",
         "legendgroup": "300-329",
         "marker": {
          "color": "rgb(2, 119, 115)",
          "pattern": {
           "shape": ""
          }
         },
         "name": "300-329",
         "offsetgroup": "300-329",
         "orientation": "v",
         "showlegend": true,
         "textposition": "auto",
         "type": "bar",
         "x": [
          "300-329"
         ],
         "xaxis": "x",
         "y": [
          1
         ],
         "yaxis": "y"
        },
        {
         "alignmentgroup": "True",
         "hovertemplate": "score_intervals=%{x}<br>mean_dropped_courses=%{y}<extra></extra>",
         "legendgroup": "330-359",
         "marker": {
          "color": "rgb(1, 70, 54)",
          "pattern": {
           "shape": ""
          }
         },
         "name": "330-359",
         "offsetgroup": "330-359",
         "orientation": "v",
         "showlegend": true,
         "textposition": "auto",
         "type": "bar",
         "x": [
          "330-359"
         ],
         "xaxis": "x",
         "y": [
          1.2380952380952381
         ],
         "yaxis": "y"
        },
        {
         "alignmentgroup": "True",
         "hovertemplate": "score_intervals=%{x}<br>mean_dropped_courses=%{y}<extra></extra>",
         "legendgroup": "360-389",
         "marker": {
          "color": "rgb(255, 247, 251)",
          "pattern": {
           "shape": ""
          }
         },
         "name": "360-389",
         "offsetgroup": "360-389",
         "orientation": "v",
         "showlegend": true,
         "textposition": "auto",
         "type": "bar",
         "x": [
          "360-389"
         ],
         "xaxis": "x",
         "y": [
          0
         ],
         "yaxis": "y"
        },
        {
         "alignmentgroup": "True",
         "hovertemplate": "score_intervals=%{x}<br>mean_dropped_courses=%{y}<extra></extra>",
         "legendgroup": "390-419",
         "marker": {
          "color": 0,
          "pattern": {
           "shape": ""
          }
         },
         "name": "390-419",
         "offsetgroup": "390-419",
         "orientation": "v",
         "showlegend": true,
         "textposition": "auto",
         "type": "bar",
         "x": [
          "390-419"
         ],
         "xaxis": "x",
         "y": [
          null
         ],
         "yaxis": "y"
        },
        {
         "alignmentgroup": "True",
         "hovertemplate": "score_intervals=%{x}<br>mean_dropped_courses=%{y}<extra></extra>",
         "legendgroup": "420+",
         "marker": {
          "color": 0,
          "pattern": {
           "shape": ""
          }
         },
         "name": "420+",
         "offsetgroup": "420+",
         "orientation": "v",
         "showlegend": true,
         "textposition": "auto",
         "type": "bar",
         "x": [
          "420+"
         ],
         "xaxis": "x",
         "y": [
          null
         ],
         "yaxis": "y"
        }
       ],
       "layout": {
        "barmode": "relative",
        "legend": {
         "title": {
          "text": "score_intervals"
         },
         "tracegroupgap": 0
        },
        "margin": {
         "t": 60
        },
        "plot_bgcolor": "rgb(255,255,255)",
        "template": {
         "data": {
          "bar": [
           {
            "error_x": {
             "color": "#2a3f5f"
            },
            "error_y": {
             "color": "#2a3f5f"
            },
            "marker": {
             "line": {
              "color": "#E5ECF6",
              "width": 0.5
             },
             "pattern": {
              "fillmode": "overlay",
              "size": 10,
              "solidity": 0.2
             }
            },
            "type": "bar"
           }
          ],
          "barpolar": [
           {
            "marker": {
             "line": {
              "color": "#E5ECF6",
              "width": 0.5
             },
             "pattern": {
              "fillmode": "overlay",
              "size": 10,
              "solidity": 0.2
             }
            },
            "type": "barpolar"
           }
          ],
          "carpet": [
           {
            "aaxis": {
             "endlinecolor": "#2a3f5f",
             "gridcolor": "white",
             "linecolor": "white",
             "minorgridcolor": "white",
             "startlinecolor": "#2a3f5f"
            },
            "baxis": {
             "endlinecolor": "#2a3f5f",
             "gridcolor": "white",
             "linecolor": "white",
             "minorgridcolor": "white",
             "startlinecolor": "#2a3f5f"
            },
            "type": "carpet"
           }
          ],
          "choropleth": [
           {
            "colorbar": {
             "outlinewidth": 0,
             "ticks": ""
            },
            "type": "choropleth"
           }
          ],
          "contour": [
           {
            "colorbar": {
             "outlinewidth": 0,
             "ticks": ""
            },
            "colorscale": [
             [
              0,
              "#0d0887"
             ],
             [
              0.1111111111111111,
              "#46039f"
             ],
             [
              0.2222222222222222,
              "#7201a8"
             ],
             [
              0.3333333333333333,
              "#9c179e"
             ],
             [
              0.4444444444444444,
              "#bd3786"
             ],
             [
              0.5555555555555556,
              "#d8576b"
             ],
             [
              0.6666666666666666,
              "#ed7953"
             ],
             [
              0.7777777777777778,
              "#fb9f3a"
             ],
             [
              0.8888888888888888,
              "#fdca26"
             ],
             [
              1,
              "#f0f921"
             ]
            ],
            "type": "contour"
           }
          ],
          "contourcarpet": [
           {
            "colorbar": {
             "outlinewidth": 0,
             "ticks": ""
            },
            "type": "contourcarpet"
           }
          ],
          "heatmap": [
           {
            "colorbar": {
             "outlinewidth": 0,
             "ticks": ""
            },
            "colorscale": [
             [
              0,
              "#0d0887"
             ],
             [
              0.1111111111111111,
              "#46039f"
             ],
             [
              0.2222222222222222,
              "#7201a8"
             ],
             [
              0.3333333333333333,
              "#9c179e"
             ],
             [
              0.4444444444444444,
              "#bd3786"
             ],
             [
              0.5555555555555556,
              "#d8576b"
             ],
             [
              0.6666666666666666,
              "#ed7953"
             ],
             [
              0.7777777777777778,
              "#fb9f3a"
             ],
             [
              0.8888888888888888,
              "#fdca26"
             ],
             [
              1,
              "#f0f921"
             ]
            ],
            "type": "heatmap"
           }
          ],
          "heatmapgl": [
           {
            "colorbar": {
             "outlinewidth": 0,
             "ticks": ""
            },
            "colorscale": [
             [
              0,
              "#0d0887"
             ],
             [
              0.1111111111111111,
              "#46039f"
             ],
             [
              0.2222222222222222,
              "#7201a8"
             ],
             [
              0.3333333333333333,
              "#9c179e"
             ],
             [
              0.4444444444444444,
              "#bd3786"
             ],
             [
              0.5555555555555556,
              "#d8576b"
             ],
             [
              0.6666666666666666,
              "#ed7953"
             ],
             [
              0.7777777777777778,
              "#fb9f3a"
             ],
             [
              0.8888888888888888,
              "#fdca26"
             ],
             [
              1,
              "#f0f921"
             ]
            ],
            "type": "heatmapgl"
           }
          ],
          "histogram": [
           {
            "marker": {
             "pattern": {
              "fillmode": "overlay",
              "size": 10,
              "solidity": 0.2
             }
            },
            "type": "histogram"
           }
          ],
          "histogram2d": [
           {
            "colorbar": {
             "outlinewidth": 0,
             "ticks": ""
            },
            "colorscale": [
             [
              0,
              "#0d0887"
             ],
             [
              0.1111111111111111,
              "#46039f"
             ],
             [
              0.2222222222222222,
              "#7201a8"
             ],
             [
              0.3333333333333333,
              "#9c179e"
             ],
             [
              0.4444444444444444,
              "#bd3786"
             ],
             [
              0.5555555555555556,
              "#d8576b"
             ],
             [
              0.6666666666666666,
              "#ed7953"
             ],
             [
              0.7777777777777778,
              "#fb9f3a"
             ],
             [
              0.8888888888888888,
              "#fdca26"
             ],
             [
              1,
              "#f0f921"
             ]
            ],
            "type": "histogram2d"
           }
          ],
          "histogram2dcontour": [
           {
            "colorbar": {
             "outlinewidth": 0,
             "ticks": ""
            },
            "colorscale": [
             [
              0,
              "#0d0887"
             ],
             [
              0.1111111111111111,
              "#46039f"
             ],
             [
              0.2222222222222222,
              "#7201a8"
             ],
             [
              0.3333333333333333,
              "#9c179e"
             ],
             [
              0.4444444444444444,
              "#bd3786"
             ],
             [
              0.5555555555555556,
              "#d8576b"
             ],
             [
              0.6666666666666666,
              "#ed7953"
             ],
             [
              0.7777777777777778,
              "#fb9f3a"
             ],
             [
              0.8888888888888888,
              "#fdca26"
             ],
             [
              1,
              "#f0f921"
             ]
            ],
            "type": "histogram2dcontour"
           }
          ],
          "mesh3d": [
           {
            "colorbar": {
             "outlinewidth": 0,
             "ticks": ""
            },
            "type": "mesh3d"
           }
          ],
          "parcoords": [
           {
            "line": {
             "colorbar": {
              "outlinewidth": 0,
              "ticks": ""
             }
            },
            "type": "parcoords"
           }
          ],
          "pie": [
           {
            "automargin": true,
            "type": "pie"
           }
          ],
          "scatter": [
           {
            "fillpattern": {
             "fillmode": "overlay",
             "size": 10,
             "solidity": 0.2
            },
            "type": "scatter"
           }
          ],
          "scatter3d": [
           {
            "line": {
             "colorbar": {
              "outlinewidth": 0,
              "ticks": ""
             }
            },
            "marker": {
             "colorbar": {
              "outlinewidth": 0,
              "ticks": ""
             }
            },
            "type": "scatter3d"
           }
          ],
          "scattercarpet": [
           {
            "marker": {
             "colorbar": {
              "outlinewidth": 0,
              "ticks": ""
             }
            },
            "type": "scattercarpet"
           }
          ],
          "scattergeo": [
           {
            "marker": {
             "colorbar": {
              "outlinewidth": 0,
              "ticks": ""
             }
            },
            "type": "scattergeo"
           }
          ],
          "scattergl": [
           {
            "marker": {
             "colorbar": {
              "outlinewidth": 0,
              "ticks": ""
             }
            },
            "type": "scattergl"
           }
          ],
          "scattermapbox": [
           {
            "marker": {
             "colorbar": {
              "outlinewidth": 0,
              "ticks": ""
             }
            },
            "type": "scattermapbox"
           }
          ],
          "scatterpolar": [
           {
            "marker": {
             "colorbar": {
              "outlinewidth": 0,
              "ticks": ""
             }
            },
            "type": "scatterpolar"
           }
          ],
          "scatterpolargl": [
           {
            "marker": {
             "colorbar": {
              "outlinewidth": 0,
              "ticks": ""
             }
            },
            "type": "scatterpolargl"
           }
          ],
          "scatterternary": [
           {
            "marker": {
             "colorbar": {
              "outlinewidth": 0,
              "ticks": ""
             }
            },
            "type": "scatterternary"
           }
          ],
          "surface": [
           {
            "colorbar": {
             "outlinewidth": 0,
             "ticks": ""
            },
            "colorscale": [
             [
              0,
              "#0d0887"
             ],
             [
              0.1111111111111111,
              "#46039f"
             ],
             [
              0.2222222222222222,
              "#7201a8"
             ],
             [
              0.3333333333333333,
              "#9c179e"
             ],
             [
              0.4444444444444444,
              "#bd3786"
             ],
             [
              0.5555555555555556,
              "#d8576b"
             ],
             [
              0.6666666666666666,
              "#ed7953"
             ],
             [
              0.7777777777777778,
              "#fb9f3a"
             ],
             [
              0.8888888888888888,
              "#fdca26"
             ],
             [
              1,
              "#f0f921"
             ]
            ],
            "type": "surface"
           }
          ],
          "table": [
           {
            "cells": {
             "fill": {
              "color": "#EBF0F8"
             },
             "line": {
              "color": "white"
             }
            },
            "header": {
             "fill": {
              "color": "#C8D4E3"
             },
             "line": {
              "color": "white"
             }
            },
            "type": "table"
           }
          ]
         },
         "layout": {
          "annotationdefaults": {
           "arrowcolor": "#2a3f5f",
           "arrowhead": 0,
           "arrowwidth": 1
          },
          "autotypenumbers": "strict",
          "coloraxis": {
           "colorbar": {
            "outlinewidth": 0,
            "ticks": ""
           }
          },
          "colorscale": {
           "diverging": [
            [
             0,
             "#8e0152"
            ],
            [
             0.1,
             "#c51b7d"
            ],
            [
             0.2,
             "#de77ae"
            ],
            [
             0.3,
             "#f1b6da"
            ],
            [
             0.4,
             "#fde0ef"
            ],
            [
             0.5,
             "#f7f7f7"
            ],
            [
             0.6,
             "#e6f5d0"
            ],
            [
             0.7,
             "#b8e186"
            ],
            [
             0.8,
             "#7fbc41"
            ],
            [
             0.9,
             "#4d9221"
            ],
            [
             1,
             "#276419"
            ]
           ],
           "sequential": [
            [
             0,
             "#0d0887"
            ],
            [
             0.1111111111111111,
             "#46039f"
            ],
            [
             0.2222222222222222,
             "#7201a8"
            ],
            [
             0.3333333333333333,
             "#9c179e"
            ],
            [
             0.4444444444444444,
             "#bd3786"
            ],
            [
             0.5555555555555556,
             "#d8576b"
            ],
            [
             0.6666666666666666,
             "#ed7953"
            ],
            [
             0.7777777777777778,
             "#fb9f3a"
            ],
            [
             0.8888888888888888,
             "#fdca26"
            ],
            [
             1,
             "#f0f921"
            ]
           ],
           "sequentialminus": [
            [
             0,
             "#0d0887"
            ],
            [
             0.1111111111111111,
             "#46039f"
            ],
            [
             0.2222222222222222,
             "#7201a8"
            ],
            [
             0.3333333333333333,
             "#9c179e"
            ],
            [
             0.4444444444444444,
             "#bd3786"
            ],
            [
             0.5555555555555556,
             "#d8576b"
            ],
            [
             0.6666666666666666,
             "#ed7953"
            ],
            [
             0.7777777777777778,
             "#fb9f3a"
            ],
            [
             0.8888888888888888,
             "#fdca26"
            ],
            [
             1,
             "#f0f921"
            ]
           ]
          },
          "colorway": [
           "#636efa",
           "#EF553B",
           "#00cc96",
           "#ab63fa",
           "#FFA15A",
           "#19d3f3",
           "#FF6692",
           "#B6E880",
           "#FF97FF",
           "#FECB52"
          ],
          "font": {
           "color": "#2a3f5f"
          },
          "geo": {
           "bgcolor": "white",
           "lakecolor": "white",
           "landcolor": "#E5ECF6",
           "showlakes": true,
           "showland": true,
           "subunitcolor": "white"
          },
          "hoverlabel": {
           "align": "left"
          },
          "hovermode": "closest",
          "mapbox": {
           "style": "light"
          },
          "paper_bgcolor": "white",
          "plot_bgcolor": "#E5ECF6",
          "polar": {
           "angularaxis": {
            "gridcolor": "white",
            "linecolor": "white",
            "ticks": ""
           },
           "bgcolor": "#E5ECF6",
           "radialaxis": {
            "gridcolor": "white",
            "linecolor": "white",
            "ticks": ""
           }
          },
          "scene": {
           "xaxis": {
            "backgroundcolor": "#E5ECF6",
            "gridcolor": "white",
            "gridwidth": 2,
            "linecolor": "white",
            "showbackground": true,
            "ticks": "",
            "zerolinecolor": "white"
           },
           "yaxis": {
            "backgroundcolor": "#E5ECF6",
            "gridcolor": "white",
            "gridwidth": 2,
            "linecolor": "white",
            "showbackground": true,
            "ticks": "",
            "zerolinecolor": "white"
           },
           "zaxis": {
            "backgroundcolor": "#E5ECF6",
            "gridcolor": "white",
            "gridwidth": 2,
            "linecolor": "white",
            "showbackground": true,
            "ticks": "",
            "zerolinecolor": "white"
           }
          },
          "shapedefaults": {
           "line": {
            "color": "#2a3f5f"
           }
          },
          "ternary": {
           "aaxis": {
            "gridcolor": "white",
            "linecolor": "white",
            "ticks": ""
           },
           "baxis": {
            "gridcolor": "white",
            "linecolor": "white",
            "ticks": ""
           },
           "bgcolor": "#E5ECF6",
           "caxis": {
            "gridcolor": "white",
            "linecolor": "white",
            "ticks": ""
           }
          },
          "title": {
           "x": 0.05
          },
          "xaxis": {
           "automargin": true,
           "gridcolor": "white",
           "linecolor": "white",
           "ticks": "",
           "title": {
            "standoff": 15
           },
           "zerolinecolor": "white",
           "zerolinewidth": 2
          },
          "yaxis": {
           "automargin": true,
           "gridcolor": "white",
           "linecolor": "white",
           "ticks": "",
           "title": {
            "standoff": 15
           },
           "zerolinecolor": "white",
           "zerolinewidth": 2
          }
         }
        },
        "title": {
         "text": "Average No. of Courses Dropped v/s BITSAT 450"
        },
        "xaxis": {
         "anchor": "y",
         "categoryarray": [
          "180-209",
          "210-239",
          "240-269",
          "270-299",
          "300-329",
          "330-359",
          "360-389",
          "390-419",
          "420+"
         ],
         "categoryorder": "array",
         "domain": [
          0,
          1
         ],
         "title": {
          "text": "BITSAT Score Intervals"
         }
        },
        "yaxis": {
         "anchor": "x",
         "domain": [
          0,
          1
         ],
         "title": {
          "text": "Average Courses Dropped"
         }
        }
       }
      }
     },
     "metadata": {},
     "output_type": "display_data"
    }
   ],
   "source": [
    "score_interval_dropped_450 = px.bar(\n",
    "    bitsat_cg_dropped_plotting_data_450,\n",
    "    x=bitsat_cg_dropped_plotting_data_450.index,\n",
    "    y=bitsat_cg_dropped_plotting_data_450[\"mean_dropped_courses\"],\n",
    "    color=bitsat_cg_dropped_plotting_data_450.index,\n",
    "    color_discrete_sequence=[\n",
    "        px.colors.sample_colorscale(\"pubugn\", v)[0] if not isna(v) else 0\n",
    "        for v in (\n",
    "            bitsat_cg_dropped_plotting_data_450[\"mean_dropped_courses\"]\n",
    "            / bitsat_cg_dropped_plotting_data_450[\"mean_dropped_courses\"].max()\n",
    "        ).tolist()\n",
    "    ],\n",
    ")\n",
    "\n",
    "score_interval_dropped_450.update_layout(\n",
    "    xaxis_title=\"BITSAT Score Intervals\",\n",
    "    yaxis_title=\"Average Courses Dropped\",\n",
    "    title=\"Average No. of Courses Dropped v/s BITSAT 450\",\n",
    "    plot_bgcolor=\"rgb(255,255,255)\",\n",
    ")\n",
    "\n",
    "score_interval_dropped_450.show()"
   ]
  },
  {
   "cell_type": "markdown",
   "metadata": {},
   "source": [
    "---\n"
   ]
  },
  {
   "cell_type": "markdown",
   "metadata": {},
   "source": [
    "### SGPA Data\n"
   ]
  },
  {
   "cell_type": "code",
   "execution_count": 46,
   "metadata": {},
   "outputs": [
    {
     "data": {
      "text/plain": [
       "Index(['Timestamp', 'Your BITSAT (or SAT) Score', 'Maximum BITSAT Score',\n",
       "       'Field of Study', 'Semester Wise Scores [9.51 - 10.00]',\n",
       "       'Semester Wise Scores [9.01 - 9.50]',\n",
       "       'Semester Wise Scores [8.51 - 9.00]',\n",
       "       'Semester Wise Scores [8.01 - 8.50]',\n",
       "       'Semester Wise Scores [7.51 - 8.00]',\n",
       "       'Semester Wise Scores [7.01 - 7.50]',\n",
       "       'Semester Wise Scores [6.51 - 7.00]',\n",
       "       'Semester Wise Scores [6.01 - 6.50]',\n",
       "       'Semester Wise Scores [5.51 - 6.00]',\n",
       "       'Semester Wise Scores [5.01 - 5.50]',\n",
       "       'Semester Wise Scores [4.50 - 5.00]', 'Current/Graduating CGPA',\n",
       "       'Current Semester', 'How many courses have you withdrawn from?',\n",
       "       'Your Pronouns (optional)', 'Semester Wise Scores [Less than 4.50]',\n",
       "       'Maximum SAT Score', 'Are you an international student?'],\n",
       "      dtype='object')"
      ]
     },
     "execution_count": 46,
     "metadata": {},
     "output_type": "execute_result"
    }
   ],
   "source": [
    "df.columns"
   ]
  },
  {
   "cell_type": "code",
   "execution_count": 47,
   "metadata": {},
   "outputs": [],
   "source": [
    "sgpa_data = df[\n",
    "    [\n",
    "        \"Semester Wise Scores [9.51 - 10.00]\",\n",
    "        \"Semester Wise Scores [9.01 - 9.50]\",\n",
    "        \"Semester Wise Scores [8.51 - 9.00]\",\n",
    "        \"Semester Wise Scores [8.01 - 8.50]\",\n",
    "        \"Semester Wise Scores [7.51 - 8.00]\",\n",
    "        \"Semester Wise Scores [7.01 - 7.50]\",\n",
    "        \"Semester Wise Scores [6.51 - 7.00]\",\n",
    "        \"Semester Wise Scores [6.01 - 6.50]\",\n",
    "        \"Semester Wise Scores [5.51 - 6.00]\",\n",
    "        \"Semester Wise Scores [5.01 - 5.50]\",\n",
    "        \"Semester Wise Scores [4.50 - 5.00]\",\n",
    "    ]\n",
    "].copy()"
   ]
  },
  {
   "cell_type": "code",
   "execution_count": 48,
   "metadata": {},
   "outputs": [
    {
     "data": {
      "text/html": [
       "<div>\n",
       "<style scoped>\n",
       "    .dataframe tbody tr th:only-of-type {\n",
       "        vertical-align: middle;\n",
       "    }\n",
       "\n",
       "    .dataframe tbody tr th {\n",
       "        vertical-align: top;\n",
       "    }\n",
       "\n",
       "    .dataframe thead th {\n",
       "        text-align: right;\n",
       "    }\n",
       "</style>\n",
       "<table border=\"1\" class=\"dataframe\">\n",
       "  <thead>\n",
       "    <tr style=\"text-align: right;\">\n",
       "      <th></th>\n",
       "      <th>Semester Wise Scores [9.51 - 10.00]</th>\n",
       "      <th>Semester Wise Scores [9.01 - 9.50]</th>\n",
       "      <th>Semester Wise Scores [8.51 - 9.00]</th>\n",
       "      <th>Semester Wise Scores [8.01 - 8.50]</th>\n",
       "      <th>Semester Wise Scores [7.51 - 8.00]</th>\n",
       "      <th>Semester Wise Scores [7.01 - 7.50]</th>\n",
       "      <th>Semester Wise Scores [6.51 - 7.00]</th>\n",
       "      <th>Semester Wise Scores [6.01 - 6.50]</th>\n",
       "      <th>Semester Wise Scores [5.51 - 6.00]</th>\n",
       "      <th>Semester Wise Scores [5.01 - 5.50]</th>\n",
       "      <th>Semester Wise Scores [4.50 - 5.00]</th>\n",
       "    </tr>\n",
       "  </thead>\n",
       "  <tbody>\n",
       "    <tr>\n",
       "      <th>0</th>\n",
       "      <td>NaN</td>\n",
       "      <td>1-1 SGPA</td>\n",
       "      <td>2-2 SGPA</td>\n",
       "      <td>2-1 SGPA</td>\n",
       "      <td>1-2 SGPA</td>\n",
       "      <td>NaN</td>\n",
       "      <td>NaN</td>\n",
       "      <td>NaN</td>\n",
       "      <td>NaN</td>\n",
       "      <td>NaN</td>\n",
       "      <td>NaN</td>\n",
       "    </tr>\n",
       "    <tr>\n",
       "      <th>1</th>\n",
       "      <td>NaN</td>\n",
       "      <td>1-2 SGPA</td>\n",
       "      <td>1-1 SGPA</td>\n",
       "      <td>NaN</td>\n",
       "      <td>NaN</td>\n",
       "      <td>NaN</td>\n",
       "      <td>NaN</td>\n",
       "      <td>NaN</td>\n",
       "      <td>NaN</td>\n",
       "      <td>NaN</td>\n",
       "      <td>NaN</td>\n",
       "    </tr>\n",
       "    <tr>\n",
       "      <th>2</th>\n",
       "      <td>NaN</td>\n",
       "      <td>NaN</td>\n",
       "      <td>2-1 SGPA</td>\n",
       "      <td>1-2 SGPA</td>\n",
       "      <td>2-2 SGPA</td>\n",
       "      <td>1-1 SGPA</td>\n",
       "      <td>NaN</td>\n",
       "      <td>NaN</td>\n",
       "      <td>NaN</td>\n",
       "      <td>NaN</td>\n",
       "      <td>NaN</td>\n",
       "    </tr>\n",
       "    <tr>\n",
       "      <th>3</th>\n",
       "      <td>NaN</td>\n",
       "      <td>NaN</td>\n",
       "      <td>1-1 SGPA</td>\n",
       "      <td>NaN</td>\n",
       "      <td>1-2 SGPA</td>\n",
       "      <td>2-1 SGPA, 3-1 SGPA, 3-2 SGPA</td>\n",
       "      <td>2-2 SGPA</td>\n",
       "      <td>NaN</td>\n",
       "      <td>NaN</td>\n",
       "      <td>NaN</td>\n",
       "      <td>NaN</td>\n",
       "    </tr>\n",
       "    <tr>\n",
       "      <th>4</th>\n",
       "      <td>NaN</td>\n",
       "      <td>NaN</td>\n",
       "      <td>NaN</td>\n",
       "      <td>NaN</td>\n",
       "      <td>3-2 SGPA</td>\n",
       "      <td>1-1 SGPA, 1-2 SGPA, 3-1 SGPA</td>\n",
       "      <td>NaN</td>\n",
       "      <td>2-1 SGPA</td>\n",
       "      <td>NaN</td>\n",
       "      <td>NaN</td>\n",
       "      <td>NaN</td>\n",
       "    </tr>\n",
       "  </tbody>\n",
       "</table>\n",
       "</div>"
      ],
      "text/plain": [
       "  Semester Wise Scores [9.51 - 10.00] Semester Wise Scores [9.01 - 9.50]  \\\n",
       "0                                 NaN                           1-1 SGPA   \n",
       "1                                 NaN                           1-2 SGPA   \n",
       "2                                 NaN                                NaN   \n",
       "3                                 NaN                                NaN   \n",
       "4                                 NaN                                NaN   \n",
       "\n",
       "  Semester Wise Scores [8.51 - 9.00] Semester Wise Scores [8.01 - 8.50]  \\\n",
       "0                           2-2 SGPA                           2-1 SGPA   \n",
       "1                           1-1 SGPA                                NaN   \n",
       "2                           2-1 SGPA                           1-2 SGPA   \n",
       "3                           1-1 SGPA                                NaN   \n",
       "4                                NaN                                NaN   \n",
       "\n",
       "  Semester Wise Scores [7.51 - 8.00] Semester Wise Scores [7.01 - 7.50]  \\\n",
       "0                           1-2 SGPA                                NaN   \n",
       "1                                NaN                                NaN   \n",
       "2                           2-2 SGPA                           1-1 SGPA   \n",
       "3                           1-2 SGPA       2-1 SGPA, 3-1 SGPA, 3-2 SGPA   \n",
       "4                           3-2 SGPA       1-1 SGPA, 1-2 SGPA, 3-1 SGPA   \n",
       "\n",
       "  Semester Wise Scores [6.51 - 7.00] Semester Wise Scores [6.01 - 6.50]  \\\n",
       "0                                NaN                                NaN   \n",
       "1                                NaN                                NaN   \n",
       "2                                NaN                                NaN   \n",
       "3                           2-2 SGPA                                NaN   \n",
       "4                                NaN                           2-1 SGPA   \n",
       "\n",
       "  Semester Wise Scores [5.51 - 6.00] Semester Wise Scores [5.01 - 5.50]  \\\n",
       "0                                NaN                                NaN   \n",
       "1                                NaN                                NaN   \n",
       "2                                NaN                                NaN   \n",
       "3                                NaN                                NaN   \n",
       "4                                NaN                                NaN   \n",
       "\n",
       "  Semester Wise Scores [4.50 - 5.00]  \n",
       "0                                NaN  \n",
       "1                                NaN  \n",
       "2                                NaN  \n",
       "3                                NaN  \n",
       "4                                NaN  "
      ]
     },
     "execution_count": 48,
     "metadata": {},
     "output_type": "execute_result"
    }
   ],
   "source": [
    "sgpa_data.head()"
   ]
  },
  {
   "cell_type": "code",
   "execution_count": 49,
   "metadata": {},
   "outputs": [],
   "source": [
    "sgpa_map = {\n",
    "    \"Semester Wise Scores [9.51 - 10.00]\": 9.75,\n",
    "    \"Semester Wise Scores [9.01 - 9.50]\": 9.25,\n",
    "    \"Semester Wise Scores [8.51 - 9.00]\": 8.75,\n",
    "    \"Semester Wise Scores [8.01 - 8.50]\": 8.25,\n",
    "    \"Semester Wise Scores [7.51 - 8.00]\": 7.75,\n",
    "    \"Semester Wise Scores [7.01 - 7.50]\": 7.25,\n",
    "    \"Semester Wise Scores [6.51 - 7.00]\": 6.75,\n",
    "    \"Semester Wise Scores [6.01 - 6.50]\": 6.25,\n",
    "    \"Semester Wise Scores [5.51 - 6.00]\": 5.75,\n",
    "    \"Semester Wise Scores [5.01 - 5.50]\": 5.25,\n",
    "    \"Semester Wise Scores [4.50 - 5.00]\": 4.75,\n",
    "}"
   ]
  },
  {
   "cell_type": "code",
   "execution_count": 50,
   "metadata": {},
   "outputs": [],
   "source": [
    "first_sem_sgpa_count = defaultdict(int)"
   ]
  },
  {
   "cell_type": "code",
   "execution_count": 51,
   "metadata": {},
   "outputs": [],
   "source": [
    "first_sem_sgpa_plot_data = {\n",
    "    \"Semester Wise Scores [9.51 - 10.00]\": 0,\n",
    "    \"Semester Wise Scores [9.01 - 9.50]\": 0,\n",
    "    \"Semester Wise Scores [8.51 - 9.00]\": 0,\n",
    "    \"Semester Wise Scores [8.01 - 8.50]\": 0,\n",
    "    \"Semester Wise Scores [7.51 - 8.00]\": 0,\n",
    "    \"Semester Wise Scores [7.01 - 7.50]\": 0,\n",
    "    \"Semester Wise Scores [6.51 - 7.00]\": 0,\n",
    "    \"Semester Wise Scores [6.01 - 6.50]\": 0,\n",
    "    \"Semester Wise Scores [5.51 - 6.00]\": 0,\n",
    "    \"Semester Wise Scores [5.01 - 5.50]\": 0,\n",
    "    \"Semester Wise Scores [4.50 - 5.00]\": 0,\n",
    "}"
   ]
  },
  {
   "cell_type": "code",
   "execution_count": 52,
   "metadata": {},
   "outputs": [
    {
     "name": "stderr",
     "output_type": "stream",
     "text": [
      "C:\\Temp\\ipykernel_29220\\2588722005.py:3: FutureWarning:\n",
      "\n",
      "iteritems is deprecated and will be removed in a future version. Use .items instead.\n",
      "\n",
      "C:\\Temp\\ipykernel_29220\\2588722005.py:5: FutureWarning:\n",
      "\n",
      "iteritems is deprecated and will be removed in a future version. Use .items instead.\n",
      "\n"
     ]
    }
   ],
   "source": [
    "FIRST_SEM = \"1-1 SGPA\"\n",
    "\n",
    "for column, values in sgpa_data.iteritems():  # type: ignore\n",
    "    # Access each column as a pandas Series\n",
    "    for index, sems in values.iteritems():\n",
    "        # Access each value within the column\n",
    "        if FIRST_SEM in str(sems):\n",
    "            mean_sgpa = sgpa_map[column]\n",
    "            first_sem_sgpa_count[mean_sgpa] += 1\n",
    "            first_sem_sgpa_plot_data[column] += 1"
   ]
  },
  {
   "cell_type": "code",
   "execution_count": 53,
   "metadata": {},
   "outputs": [
    {
     "data": {
      "text/plain": [
       "103"
      ]
     },
     "execution_count": 53,
     "metadata": {},
     "output_type": "execute_result"
    }
   ],
   "source": [
    "sum(first_sem_sgpa_count[key] for key in first_sem_sgpa_count)"
   ]
  },
  {
   "cell_type": "code",
   "execution_count": 54,
   "metadata": {},
   "outputs": [
    {
     "data": {
      "text/plain": [
       "{'Semester Wise Scores [9.51 - 10.00]': 7,\n",
       " 'Semester Wise Scores [9.01 - 9.50]': 14,\n",
       " 'Semester Wise Scores [8.51 - 9.00]': 18,\n",
       " 'Semester Wise Scores [8.01 - 8.50]': 17,\n",
       " 'Semester Wise Scores [7.51 - 8.00]': 21,\n",
       " 'Semester Wise Scores [7.01 - 7.50]': 12,\n",
       " 'Semester Wise Scores [6.51 - 7.00]': 8,\n",
       " 'Semester Wise Scores [6.01 - 6.50]': 3,\n",
       " 'Semester Wise Scores [5.51 - 6.00]': 2,\n",
       " 'Semester Wise Scores [5.01 - 5.50]': 0,\n",
       " 'Semester Wise Scores [4.50 - 5.00]': 1}"
      ]
     },
     "execution_count": 54,
     "metadata": {},
     "output_type": "execute_result"
    }
   ],
   "source": [
    "first_sem_sgpa_plot_data"
   ]
  },
  {
   "cell_type": "code",
   "execution_count": 55,
   "metadata": {},
   "outputs": [],
   "source": [
    "first_sem_sgpa_plot_data_df = pd.DataFrame(\n",
    "    first_sem_sgpa_plot_data.items(), columns=[\"Score\", \"Count\"]\n",
    ")"
   ]
  },
  {
   "cell_type": "markdown",
   "metadata": {},
   "source": [
    "- Our labels currently are of the form `Semester Wise Scores [8.01 - 8.50]`\n",
    "- We'll remove `Semester Wise Scores [` and the closing `]` so our labels look cleaner\n"
   ]
  },
  {
   "cell_type": "code",
   "execution_count": 56,
   "metadata": {},
   "outputs": [],
   "source": [
    "first_sem_sgpa_plot_data_df[\"Score\"] = first_sem_sgpa_plot_data_df[\"Score\"].str.replace(\n",
    "    \"Semester Wise Scores \\\\[\", \"\", regex=True\n",
    ")\n",
    "first_sem_sgpa_plot_data_df[\"Score\"] = first_sem_sgpa_plot_data_df[\"Score\"].str.replace(\n",
    "    \"\\\\]\", \"\", regex=True\n",
    ")"
   ]
  },
  {
   "cell_type": "markdown",
   "metadata": {},
   "source": [
    "Before the transformation, our labels looked like: `Semester Wise Scores [8.01 - 8.50]` <br>\n",
    "After the transformation, our labels look like: `8.01 - 8.50`"
   ]
  },
  {
   "cell_type": "code",
   "execution_count": 57,
   "metadata": {},
   "outputs": [],
   "source": [
    "first_sem_sgpa_plot_data_df = first_sem_sgpa_plot_data_df[::-1]"
   ]
  },
  {
   "cell_type": "code",
   "execution_count": 58,
   "metadata": {},
   "outputs": [
    {
     "data": {
      "text/html": [
       "<div>\n",
       "<style scoped>\n",
       "    .dataframe tbody tr th:only-of-type {\n",
       "        vertical-align: middle;\n",
       "    }\n",
       "\n",
       "    .dataframe tbody tr th {\n",
       "        vertical-align: top;\n",
       "    }\n",
       "\n",
       "    .dataframe thead th {\n",
       "        text-align: right;\n",
       "    }\n",
       "</style>\n",
       "<table border=\"1\" class=\"dataframe\">\n",
       "  <thead>\n",
       "    <tr style=\"text-align: right;\">\n",
       "      <th></th>\n",
       "      <th>Score</th>\n",
       "      <th>Count</th>\n",
       "    </tr>\n",
       "  </thead>\n",
       "  <tbody>\n",
       "    <tr>\n",
       "      <th>10</th>\n",
       "      <td>4.50 - 5.00</td>\n",
       "      <td>1</td>\n",
       "    </tr>\n",
       "    <tr>\n",
       "      <th>9</th>\n",
       "      <td>5.01 - 5.50</td>\n",
       "      <td>0</td>\n",
       "    </tr>\n",
       "    <tr>\n",
       "      <th>8</th>\n",
       "      <td>5.51 - 6.00</td>\n",
       "      <td>2</td>\n",
       "    </tr>\n",
       "    <tr>\n",
       "      <th>7</th>\n",
       "      <td>6.01 - 6.50</td>\n",
       "      <td>3</td>\n",
       "    </tr>\n",
       "    <tr>\n",
       "      <th>6</th>\n",
       "      <td>6.51 - 7.00</td>\n",
       "      <td>8</td>\n",
       "    </tr>\n",
       "    <tr>\n",
       "      <th>5</th>\n",
       "      <td>7.01 - 7.50</td>\n",
       "      <td>12</td>\n",
       "    </tr>\n",
       "    <tr>\n",
       "      <th>4</th>\n",
       "      <td>7.51 - 8.00</td>\n",
       "      <td>21</td>\n",
       "    </tr>\n",
       "    <tr>\n",
       "      <th>3</th>\n",
       "      <td>8.01 - 8.50</td>\n",
       "      <td>17</td>\n",
       "    </tr>\n",
       "    <tr>\n",
       "      <th>2</th>\n",
       "      <td>8.51 - 9.00</td>\n",
       "      <td>18</td>\n",
       "    </tr>\n",
       "    <tr>\n",
       "      <th>1</th>\n",
       "      <td>9.01 - 9.50</td>\n",
       "      <td>14</td>\n",
       "    </tr>\n",
       "    <tr>\n",
       "      <th>0</th>\n",
       "      <td>9.51 - 10.00</td>\n",
       "      <td>7</td>\n",
       "    </tr>\n",
       "  </tbody>\n",
       "</table>\n",
       "</div>"
      ],
      "text/plain": [
       "           Score  Count\n",
       "10   4.50 - 5.00      1\n",
       "9    5.01 - 5.50      0\n",
       "8    5.51 - 6.00      2\n",
       "7    6.01 - 6.50      3\n",
       "6    6.51 - 7.00      8\n",
       "5    7.01 - 7.50     12\n",
       "4    7.51 - 8.00     21\n",
       "3    8.01 - 8.50     17\n",
       "2    8.51 - 9.00     18\n",
       "1    9.01 - 9.50     14\n",
       "0   9.51 - 10.00      7"
      ]
     },
     "execution_count": 58,
     "metadata": {},
     "output_type": "execute_result"
    }
   ],
   "source": [
    "first_sem_sgpa_plot_data_df"
   ]
  },
  {
   "cell_type": "markdown",
   "metadata": {},
   "source": [
    "#### Plotting 1st Sem SGPA Distribution\n"
   ]
  },
  {
   "cell_type": "code",
   "execution_count": 59,
   "metadata": {},
   "outputs": [
    {
     "data": {
      "application/vnd.plotly.v1+json": {
       "config": {
        "plotlyServerURL": "https://plot.ly"
       },
       "data": [
        {
         "alignmentgroup": "True",
         "hovertemplate": "Count=%{y}<extra></extra>",
         "legendgroup": "4.50 - 5.00",
         "marker": {
          "color": "rgb(252, 188, 188)",
          "pattern": {
           "shape": ""
          }
         },
         "name": "4.50 - 5.00",
         "offsetgroup": "4.50 - 5.00",
         "orientation": "v",
         "showlegend": true,
         "textposition": "auto",
         "type": "bar",
         "x": [
          "4.50 - 5.00"
         ],
         "xaxis": "x",
         "y": [
          1
         ],
         "yaxis": "y"
        },
        {
         "alignmentgroup": "True",
         "hovertemplate": "Count=%{y}<extra></extra>",
         "legendgroup": "5.01 - 5.50",
         "marker": {
          "color": "rgb(255, 198, 196)",
          "pattern": {
           "shape": ""
          }
         },
         "name": "5.01 - 5.50",
         "offsetgroup": "5.01 - 5.50",
         "orientation": "v",
         "showlegend": true,
         "textposition": "auto",
         "type": "bar",
         "x": [
          "5.01 - 5.50"
         ],
         "xaxis": "x",
         "y": [
          0
         ],
         "yaxis": "y"
        },
        {
         "alignmentgroup": "True",
         "hovertemplate": "Count=%{y}<extra></extra>",
         "legendgroup": "5.51 - 6.00",
         "marker": {
          "color": "rgb(249, 178, 180)",
          "pattern": {
           "shape": ""
          }
         },
         "name": "5.51 - 6.00",
         "offsetgroup": "5.51 - 6.00",
         "orientation": "v",
         "showlegend": true,
         "textposition": "auto",
         "type": "bar",
         "x": [
          "5.51 - 6.00"
         ],
         "xaxis": "x",
         "y": [
          2
         ],
         "yaxis": "y"
        },
        {
         "alignmentgroup": "True",
         "hovertemplate": "Count=%{y}<extra></extra>",
         "legendgroup": "6.01 - 6.50",
         "marker": {
          "color": "rgb(246, 168, 172)",
          "pattern": {
           "shape": ""
          }
         },
         "name": "6.01 - 6.50",
         "offsetgroup": "6.01 - 6.50",
         "orientation": "v",
         "showlegend": true,
         "textposition": "auto",
         "type": "bar",
         "x": [
          "6.01 - 6.50"
         ],
         "xaxis": "x",
         "y": [
          3
         ],
         "yaxis": "y"
        },
        {
         "alignmentgroup": "True",
         "hovertemplate": "Count=%{y}<extra></extra>",
         "legendgroup": "6.51 - 7.00",
         "marker": {
          "color": "rgb(220, 120, 139)",
          "pattern": {
           "shape": ""
          }
         },
         "name": "6.51 - 7.00",
         "offsetgroup": "6.51 - 7.00",
         "orientation": "v",
         "showlegend": true,
         "textposition": "auto",
         "type": "bar",
         "x": [
          "6.51 - 7.00"
         ],
         "xaxis": "x",
         "y": [
          8
         ],
         "yaxis": "y"
        },
        {
         "alignmentgroup": "True",
         "hovertemplate": "Count=%{y}<extra></extra>",
         "legendgroup": "7.01 - 7.50",
         "marker": {
          "color": "rgb(191, 85, 118)",
          "pattern": {
           "shape": ""
          }
         },
         "name": "7.01 - 7.50",
         "offsetgroup": "7.01 - 7.50",
         "orientation": "v",
         "showlegend": true,
         "textposition": "auto",
         "type": "bar",
         "x": [
          "7.01 - 7.50"
         ],
         "xaxis": "x",
         "y": [
          12
         ],
         "yaxis": "y"
        },
        {
         "alignmentgroup": "True",
         "hovertemplate": "Count=%{y}<extra></extra>",
         "legendgroup": "7.51 - 8.00",
         "marker": {
          "color": "rgb(103, 32, 68)",
          "pattern": {
           "shape": ""
          }
         },
         "name": "7.51 - 8.00",
         "offsetgroup": "7.51 - 8.00",
         "orientation": "v",
         "showlegend": true,
         "textposition": "auto",
         "type": "bar",
         "x": [
          "7.51 - 8.00"
         ],
         "xaxis": "x",
         "y": [
          21
         ],
         "yaxis": "y"
        },
        {
         "alignmentgroup": "True",
         "hovertemplate": "Count=%{y}<extra></extra>",
         "legendgroup": "8.01 - 8.50",
         "marker": {
          "color": "rgb(144, 51, 91)",
          "pattern": {
           "shape": ""
          }
         },
         "name": "8.01 - 8.50",
         "offsetgroup": "8.01 - 8.50",
         "orientation": "v",
         "showlegend": true,
         "textposition": "auto",
         "type": "bar",
         "x": [
          "8.01 - 8.50"
         ],
         "xaxis": "x",
         "y": [
          17
         ],
         "yaxis": "y"
        },
        {
         "alignmentgroup": "True",
         "hovertemplate": "Count=%{y}<extra></extra>",
         "legendgroup": "8.51 - 9.00",
         "marker": {
          "color": "rgb(134, 46, 85)",
          "pattern": {
           "shape": ""
          }
         },
         "name": "8.51 - 9.00",
         "offsetgroup": "8.51 - 9.00",
         "orientation": "v",
         "showlegend": true,
         "textposition": "auto",
         "type": "bar",
         "x": [
          "8.51 - 9.00"
         ],
         "xaxis": "x",
         "y": [
          18
         ],
         "yaxis": "y"
        },
        {
         "alignmentgroup": "True",
         "hovertemplate": "Count=%{y}<extra></extra>",
         "legendgroup": "9.01 - 9.50",
         "marker": {
          "color": "rgb(173, 70, 108)",
          "pattern": {
           "shape": ""
          }
         },
         "name": "9.01 - 9.50",
         "offsetgroup": "9.01 - 9.50",
         "orientation": "v",
         "showlegend": true,
         "textposition": "auto",
         "type": "bar",
         "x": [
          "9.01 - 9.50"
         ],
         "xaxis": "x",
         "y": [
          14
         ],
         "yaxis": "y"
        },
        {
         "alignmentgroup": "True",
         "hovertemplate": "Count=%{y}<extra></extra>",
         "legendgroup": "9.51 - 10.00",
         "marker": {
          "color": "rgb(227, 129, 145)",
          "pattern": {
           "shape": ""
          }
         },
         "name": "9.51 - 10.00",
         "offsetgroup": "9.51 - 10.00",
         "orientation": "v",
         "showlegend": true,
         "textposition": "auto",
         "type": "bar",
         "x": [
          "9.51 - 10.00"
         ],
         "xaxis": "x",
         "y": [
          7
         ],
         "yaxis": "y"
        }
       ],
       "layout": {
        "barmode": "relative",
        "legend": {
         "title": {
          "text": "Score"
         },
         "tracegroupgap": 0
        },
        "paper_bgcolor": "rgb(255,255,255)",
        "plot_bgcolor": "rgb(255,255,255)",
        "template": {
         "data": {
          "bar": [
           {
            "error_x": {
             "color": "#2a3f5f"
            },
            "error_y": {
             "color": "#2a3f5f"
            },
            "marker": {
             "line": {
              "color": "#E5ECF6",
              "width": 0.5
             },
             "pattern": {
              "fillmode": "overlay",
              "size": 10,
              "solidity": 0.2
             }
            },
            "type": "bar"
           }
          ],
          "barpolar": [
           {
            "marker": {
             "line": {
              "color": "#E5ECF6",
              "width": 0.5
             },
             "pattern": {
              "fillmode": "overlay",
              "size": 10,
              "solidity": 0.2
             }
            },
            "type": "barpolar"
           }
          ],
          "carpet": [
           {
            "aaxis": {
             "endlinecolor": "#2a3f5f",
             "gridcolor": "white",
             "linecolor": "white",
             "minorgridcolor": "white",
             "startlinecolor": "#2a3f5f"
            },
            "baxis": {
             "endlinecolor": "#2a3f5f",
             "gridcolor": "white",
             "linecolor": "white",
             "minorgridcolor": "white",
             "startlinecolor": "#2a3f5f"
            },
            "type": "carpet"
           }
          ],
          "choropleth": [
           {
            "colorbar": {
             "outlinewidth": 0,
             "ticks": ""
            },
            "type": "choropleth"
           }
          ],
          "contour": [
           {
            "colorbar": {
             "outlinewidth": 0,
             "ticks": ""
            },
            "colorscale": [
             [
              0,
              "#0d0887"
             ],
             [
              0.1111111111111111,
              "#46039f"
             ],
             [
              0.2222222222222222,
              "#7201a8"
             ],
             [
              0.3333333333333333,
              "#9c179e"
             ],
             [
              0.4444444444444444,
              "#bd3786"
             ],
             [
              0.5555555555555556,
              "#d8576b"
             ],
             [
              0.6666666666666666,
              "#ed7953"
             ],
             [
              0.7777777777777778,
              "#fb9f3a"
             ],
             [
              0.8888888888888888,
              "#fdca26"
             ],
             [
              1,
              "#f0f921"
             ]
            ],
            "type": "contour"
           }
          ],
          "contourcarpet": [
           {
            "colorbar": {
             "outlinewidth": 0,
             "ticks": ""
            },
            "type": "contourcarpet"
           }
          ],
          "heatmap": [
           {
            "colorbar": {
             "outlinewidth": 0,
             "ticks": ""
            },
            "colorscale": [
             [
              0,
              "#0d0887"
             ],
             [
              0.1111111111111111,
              "#46039f"
             ],
             [
              0.2222222222222222,
              "#7201a8"
             ],
             [
              0.3333333333333333,
              "#9c179e"
             ],
             [
              0.4444444444444444,
              "#bd3786"
             ],
             [
              0.5555555555555556,
              "#d8576b"
             ],
             [
              0.6666666666666666,
              "#ed7953"
             ],
             [
              0.7777777777777778,
              "#fb9f3a"
             ],
             [
              0.8888888888888888,
              "#fdca26"
             ],
             [
              1,
              "#f0f921"
             ]
            ],
            "type": "heatmap"
           }
          ],
          "heatmapgl": [
           {
            "colorbar": {
             "outlinewidth": 0,
             "ticks": ""
            },
            "colorscale": [
             [
              0,
              "#0d0887"
             ],
             [
              0.1111111111111111,
              "#46039f"
             ],
             [
              0.2222222222222222,
              "#7201a8"
             ],
             [
              0.3333333333333333,
              "#9c179e"
             ],
             [
              0.4444444444444444,
              "#bd3786"
             ],
             [
              0.5555555555555556,
              "#d8576b"
             ],
             [
              0.6666666666666666,
              "#ed7953"
             ],
             [
              0.7777777777777778,
              "#fb9f3a"
             ],
             [
              0.8888888888888888,
              "#fdca26"
             ],
             [
              1,
              "#f0f921"
             ]
            ],
            "type": "heatmapgl"
           }
          ],
          "histogram": [
           {
            "marker": {
             "pattern": {
              "fillmode": "overlay",
              "size": 10,
              "solidity": 0.2
             }
            },
            "type": "histogram"
           }
          ],
          "histogram2d": [
           {
            "colorbar": {
             "outlinewidth": 0,
             "ticks": ""
            },
            "colorscale": [
             [
              0,
              "#0d0887"
             ],
             [
              0.1111111111111111,
              "#46039f"
             ],
             [
              0.2222222222222222,
              "#7201a8"
             ],
             [
              0.3333333333333333,
              "#9c179e"
             ],
             [
              0.4444444444444444,
              "#bd3786"
             ],
             [
              0.5555555555555556,
              "#d8576b"
             ],
             [
              0.6666666666666666,
              "#ed7953"
             ],
             [
              0.7777777777777778,
              "#fb9f3a"
             ],
             [
              0.8888888888888888,
              "#fdca26"
             ],
             [
              1,
              "#f0f921"
             ]
            ],
            "type": "histogram2d"
           }
          ],
          "histogram2dcontour": [
           {
            "colorbar": {
             "outlinewidth": 0,
             "ticks": ""
            },
            "colorscale": [
             [
              0,
              "#0d0887"
             ],
             [
              0.1111111111111111,
              "#46039f"
             ],
             [
              0.2222222222222222,
              "#7201a8"
             ],
             [
              0.3333333333333333,
              "#9c179e"
             ],
             [
              0.4444444444444444,
              "#bd3786"
             ],
             [
              0.5555555555555556,
              "#d8576b"
             ],
             [
              0.6666666666666666,
              "#ed7953"
             ],
             [
              0.7777777777777778,
              "#fb9f3a"
             ],
             [
              0.8888888888888888,
              "#fdca26"
             ],
             [
              1,
              "#f0f921"
             ]
            ],
            "type": "histogram2dcontour"
           }
          ],
          "mesh3d": [
           {
            "colorbar": {
             "outlinewidth": 0,
             "ticks": ""
            },
            "type": "mesh3d"
           }
          ],
          "parcoords": [
           {
            "line": {
             "colorbar": {
              "outlinewidth": 0,
              "ticks": ""
             }
            },
            "type": "parcoords"
           }
          ],
          "pie": [
           {
            "automargin": true,
            "type": "pie"
           }
          ],
          "scatter": [
           {
            "fillpattern": {
             "fillmode": "overlay",
             "size": 10,
             "solidity": 0.2
            },
            "type": "scatter"
           }
          ],
          "scatter3d": [
           {
            "line": {
             "colorbar": {
              "outlinewidth": 0,
              "ticks": ""
             }
            },
            "marker": {
             "colorbar": {
              "outlinewidth": 0,
              "ticks": ""
             }
            },
            "type": "scatter3d"
           }
          ],
          "scattercarpet": [
           {
            "marker": {
             "colorbar": {
              "outlinewidth": 0,
              "ticks": ""
             }
            },
            "type": "scattercarpet"
           }
          ],
          "scattergeo": [
           {
            "marker": {
             "colorbar": {
              "outlinewidth": 0,
              "ticks": ""
             }
            },
            "type": "scattergeo"
           }
          ],
          "scattergl": [
           {
            "marker": {
             "colorbar": {
              "outlinewidth": 0,
              "ticks": ""
             }
            },
            "type": "scattergl"
           }
          ],
          "scattermapbox": [
           {
            "marker": {
             "colorbar": {
              "outlinewidth": 0,
              "ticks": ""
             }
            },
            "type": "scattermapbox"
           }
          ],
          "scatterpolar": [
           {
            "marker": {
             "colorbar": {
              "outlinewidth": 0,
              "ticks": ""
             }
            },
            "type": "scatterpolar"
           }
          ],
          "scatterpolargl": [
           {
            "marker": {
             "colorbar": {
              "outlinewidth": 0,
              "ticks": ""
             }
            },
            "type": "scatterpolargl"
           }
          ],
          "scatterternary": [
           {
            "marker": {
             "colorbar": {
              "outlinewidth": 0,
              "ticks": ""
             }
            },
            "type": "scatterternary"
           }
          ],
          "surface": [
           {
            "colorbar": {
             "outlinewidth": 0,
             "ticks": ""
            },
            "colorscale": [
             [
              0,
              "#0d0887"
             ],
             [
              0.1111111111111111,
              "#46039f"
             ],
             [
              0.2222222222222222,
              "#7201a8"
             ],
             [
              0.3333333333333333,
              "#9c179e"
             ],
             [
              0.4444444444444444,
              "#bd3786"
             ],
             [
              0.5555555555555556,
              "#d8576b"
             ],
             [
              0.6666666666666666,
              "#ed7953"
             ],
             [
              0.7777777777777778,
              "#fb9f3a"
             ],
             [
              0.8888888888888888,
              "#fdca26"
             ],
             [
              1,
              "#f0f921"
             ]
            ],
            "type": "surface"
           }
          ],
          "table": [
           {
            "cells": {
             "fill": {
              "color": "#EBF0F8"
             },
             "line": {
              "color": "white"
             }
            },
            "header": {
             "fill": {
              "color": "#C8D4E3"
             },
             "line": {
              "color": "white"
             }
            },
            "type": "table"
           }
          ]
         },
         "layout": {
          "annotationdefaults": {
           "arrowcolor": "#2a3f5f",
           "arrowhead": 0,
           "arrowwidth": 1
          },
          "autotypenumbers": "strict",
          "coloraxis": {
           "colorbar": {
            "outlinewidth": 0,
            "ticks": ""
           }
          },
          "colorscale": {
           "diverging": [
            [
             0,
             "#8e0152"
            ],
            [
             0.1,
             "#c51b7d"
            ],
            [
             0.2,
             "#de77ae"
            ],
            [
             0.3,
             "#f1b6da"
            ],
            [
             0.4,
             "#fde0ef"
            ],
            [
             0.5,
             "#f7f7f7"
            ],
            [
             0.6,
             "#e6f5d0"
            ],
            [
             0.7,
             "#b8e186"
            ],
            [
             0.8,
             "#7fbc41"
            ],
            [
             0.9,
             "#4d9221"
            ],
            [
             1,
             "#276419"
            ]
           ],
           "sequential": [
            [
             0,
             "#0d0887"
            ],
            [
             0.1111111111111111,
             "#46039f"
            ],
            [
             0.2222222222222222,
             "#7201a8"
            ],
            [
             0.3333333333333333,
             "#9c179e"
            ],
            [
             0.4444444444444444,
             "#bd3786"
            ],
            [
             0.5555555555555556,
             "#d8576b"
            ],
            [
             0.6666666666666666,
             "#ed7953"
            ],
            [
             0.7777777777777778,
             "#fb9f3a"
            ],
            [
             0.8888888888888888,
             "#fdca26"
            ],
            [
             1,
             "#f0f921"
            ]
           ],
           "sequentialminus": [
            [
             0,
             "#0d0887"
            ],
            [
             0.1111111111111111,
             "#46039f"
            ],
            [
             0.2222222222222222,
             "#7201a8"
            ],
            [
             0.3333333333333333,
             "#9c179e"
            ],
            [
             0.4444444444444444,
             "#bd3786"
            ],
            [
             0.5555555555555556,
             "#d8576b"
            ],
            [
             0.6666666666666666,
             "#ed7953"
            ],
            [
             0.7777777777777778,
             "#fb9f3a"
            ],
            [
             0.8888888888888888,
             "#fdca26"
            ],
            [
             1,
             "#f0f921"
            ]
           ]
          },
          "colorway": [
           "#636efa",
           "#EF553B",
           "#00cc96",
           "#ab63fa",
           "#FFA15A",
           "#19d3f3",
           "#FF6692",
           "#B6E880",
           "#FF97FF",
           "#FECB52"
          ],
          "font": {
           "color": "#2a3f5f"
          },
          "geo": {
           "bgcolor": "white",
           "lakecolor": "white",
           "landcolor": "#E5ECF6",
           "showlakes": true,
           "showland": true,
           "subunitcolor": "white"
          },
          "hoverlabel": {
           "align": "left"
          },
          "hovermode": "closest",
          "mapbox": {
           "style": "light"
          },
          "paper_bgcolor": "white",
          "plot_bgcolor": "#E5ECF6",
          "polar": {
           "angularaxis": {
            "gridcolor": "white",
            "linecolor": "white",
            "ticks": ""
           },
           "bgcolor": "#E5ECF6",
           "radialaxis": {
            "gridcolor": "white",
            "linecolor": "white",
            "ticks": ""
           }
          },
          "scene": {
           "xaxis": {
            "backgroundcolor": "#E5ECF6",
            "gridcolor": "white",
            "gridwidth": 2,
            "linecolor": "white",
            "showbackground": true,
            "ticks": "",
            "zerolinecolor": "white"
           },
           "yaxis": {
            "backgroundcolor": "#E5ECF6",
            "gridcolor": "white",
            "gridwidth": 2,
            "linecolor": "white",
            "showbackground": true,
            "ticks": "",
            "zerolinecolor": "white"
           },
           "zaxis": {
            "backgroundcolor": "#E5ECF6",
            "gridcolor": "white",
            "gridwidth": 2,
            "linecolor": "white",
            "showbackground": true,
            "ticks": "",
            "zerolinecolor": "white"
           }
          },
          "shapedefaults": {
           "line": {
            "color": "#2a3f5f"
           }
          },
          "ternary": {
           "aaxis": {
            "gridcolor": "white",
            "linecolor": "white",
            "ticks": ""
           },
           "baxis": {
            "gridcolor": "white",
            "linecolor": "white",
            "ticks": ""
           },
           "bgcolor": "#E5ECF6",
           "caxis": {
            "gridcolor": "white",
            "linecolor": "white",
            "ticks": ""
           }
          },
          "title": {
           "x": 0.05
          },
          "xaxis": {
           "automargin": true,
           "gridcolor": "white",
           "linecolor": "white",
           "ticks": "",
           "title": {
            "standoff": 15
           },
           "zerolinecolor": "white",
           "zerolinewidth": 2
          },
          "yaxis": {
           "automargin": true,
           "gridcolor": "white",
           "linecolor": "white",
           "ticks": "",
           "title": {
            "standoff": 15
           },
           "zerolinecolor": "white",
           "zerolinewidth": 2
          }
         }
        },
        "title": {
         "text": "First Sem SGPA Distribution | 103 students"
        },
        "xaxis": {
         "anchor": "y",
         "categoryarray": [
          "4.50 - 5.00",
          "5.01 - 5.50",
          "5.51 - 6.00",
          "6.01 - 6.50",
          "6.51 - 7.00",
          "7.01 - 7.50",
          "7.51 - 8.00",
          "8.01 - 8.50",
          "8.51 - 9.00",
          "9.01 - 9.50",
          "9.51 - 10.00"
         ],
         "categoryorder": "array",
         "domain": [
          0,
          1
         ],
         "title": {
          "text": "SGPA Values"
         }
        },
        "yaxis": {
         "anchor": "x",
         "domain": [
          0,
          1
         ],
         "title": {
          "text": "Number of people in the range"
         }
        }
       }
      }
     },
     "metadata": {},
     "output_type": "display_data"
    }
   ],
   "source": [
    "first_sem_total_values = sum(\n",
    "    first_sem_sgpa_plot_data[key] for key in first_sem_sgpa_plot_data\n",
    ")\n",
    "\n",
    "first_sem_sgpa_plot = px.bar(\n",
    "    first_sem_sgpa_plot_data_df,\n",
    "    x=first_sem_sgpa_plot_data_df[\"Score\"],\n",
    "    y=first_sem_sgpa_plot_data_df[\"Count\"],\n",
    "    title=f\"First Sem SGPA Distribution | {first_sem_total_values} students\",\n",
    "    color=first_sem_sgpa_plot_data_df[\"Score\"],\n",
    "    color_discrete_sequence=[\n",
    "        px.colors.sample_colorscale(\"burg\", v)[0]\n",
    "        for v in (\n",
    "            first_sem_sgpa_plot_data_df[\"Count\"]\n",
    "            / first_sem_sgpa_plot_data_df[\"Count\"].max()\n",
    "        ).tolist()\n",
    "    ],\n",
    "    hover_data=dict(Score=False),\n",
    ")\n",
    "\n",
    "first_sem_sgpa_plot.update_layout(\n",
    "    xaxis_title=\"SGPA Values\",\n",
    "    yaxis_title=\"Number of people in the range\",\n",
    "    paper_bgcolor=\"rgb(255,255,255)\",\n",
    "    plot_bgcolor=\"rgb(255,255,255)\",\n",
    ")\n",
    "\n",
    "first_sem_sgpa_plot.show()"
   ]
  },
  {
   "cell_type": "code",
   "execution_count": 60,
   "metadata": {},
   "outputs": [],
   "source": [
    "\"\"\"Syntax:\n",
    "l.extend([x for i in range(100)])\n",
    "\"\"\"\n",
    "\n",
    "first_sem_sgpa_hist_data = []\n",
    "\n",
    "for sgpa, n in first_sem_sgpa_count.items():\n",
    "    first_sem_sgpa_hist_data.extend([sgpa for i in range(n)])"
   ]
  },
  {
   "cell_type": "code",
   "execution_count": 65,
   "metadata": {},
   "outputs": [
    {
     "data": {
      "application/vnd.plotly.v1+json": {
       "config": {
        "plotlyServerURL": "https://plot.ly"
       },
       "data": [
        {
         "autobinx": false,
         "histnorm": "probability density",
         "legendgroup": "SGPA Distribution",
         "marker": {
          "color": "rgb(31, 119, 180)"
         },
         "name": "SGPA Distribution",
         "opacity": 0.7,
         "type": "histogram",
         "x": [
          9.75,
          9.75,
          9.75,
          9.75,
          9.75,
          9.75,
          9.75,
          9.25,
          9.25,
          9.25,
          9.25,
          9.25,
          9.25,
          9.25,
          9.25,
          9.25,
          9.25,
          9.25,
          9.25,
          9.25,
          9.25,
          8.75,
          8.75,
          8.75,
          8.75,
          8.75,
          8.75,
          8.75,
          8.75,
          8.75,
          8.75,
          8.75,
          8.75,
          8.75,
          8.75,
          8.75,
          8.75,
          8.75,
          8.75,
          8.25,
          8.25,
          8.25,
          8.25,
          8.25,
          8.25,
          8.25,
          8.25,
          8.25,
          8.25,
          8.25,
          8.25,
          8.25,
          8.25,
          8.25,
          8.25,
          8.25,
          7.75,
          7.75,
          7.75,
          7.75,
          7.75,
          7.75,
          7.75,
          7.75,
          7.75,
          7.75,
          7.75,
          7.75,
          7.75,
          7.75,
          7.75,
          7.75,
          7.75,
          7.75,
          7.75,
          7.75,
          7.75,
          7.25,
          7.25,
          7.25,
          7.25,
          7.25,
          7.25,
          7.25,
          7.25,
          7.25,
          7.25,
          7.25,
          7.25,
          6.75,
          6.75,
          6.75,
          6.75,
          6.75,
          6.75,
          6.75,
          6.75,
          6.25,
          6.25,
          6.25,
          5.75,
          5.75,
          4.75
         ],
         "xaxis": "x",
         "xbins": {
          "end": 9.75,
          "size": 1,
          "start": 4.75
         },
         "yaxis": "y"
        },
        {
         "legendgroup": "SGPA Distribution",
         "marker": {
          "color": "rgb(31, 119, 180)"
         },
         "mode": "lines",
         "name": "SGPA Distribution",
         "showlegend": false,
         "type": "scatter",
         "x": [
          4.75,
          4.76,
          4.77,
          4.78,
          4.79,
          4.8,
          4.81,
          4.82,
          4.83,
          4.84,
          4.85,
          4.86,
          4.87,
          4.88,
          4.89,
          4.9,
          4.91,
          4.92,
          4.93,
          4.94,
          4.95,
          4.96,
          4.97,
          4.98,
          4.99,
          5,
          5.01,
          5.02,
          5.03,
          5.04,
          5.05,
          5.06,
          5.07,
          5.08,
          5.09,
          5.1,
          5.11,
          5.12,
          5.13,
          5.14,
          5.15,
          5.16,
          5.17,
          5.18,
          5.19,
          5.2,
          5.21,
          5.22,
          5.23,
          5.24,
          5.25,
          5.26,
          5.27,
          5.28,
          5.29,
          5.3,
          5.3100000000000005,
          5.32,
          5.33,
          5.34,
          5.35,
          5.36,
          5.37,
          5.38,
          5.39,
          5.4,
          5.41,
          5.42,
          5.43,
          5.4399999999999995,
          5.45,
          5.46,
          5.47,
          5.48,
          5.49,
          5.5,
          5.51,
          5.52,
          5.53,
          5.54,
          5.55,
          5.5600000000000005,
          5.57,
          5.58,
          5.59,
          5.6,
          5.61,
          5.62,
          5.63,
          5.64,
          5.65,
          5.66,
          5.67,
          5.68,
          5.6899999999999995,
          5.7,
          5.71,
          5.72,
          5.73,
          5.74,
          5.75,
          5.76,
          5.77,
          5.78,
          5.79,
          5.8,
          5.8100000000000005,
          5.82,
          5.83,
          5.84,
          5.85,
          5.86,
          5.87,
          5.88,
          5.89,
          5.9,
          5.91,
          5.92,
          5.93,
          5.9399999999999995,
          5.95,
          5.96,
          5.97,
          5.98,
          5.99,
          6,
          6.01,
          6.02,
          6.03,
          6.04,
          6.05,
          6.0600000000000005,
          6.07,
          6.08,
          6.09,
          6.1,
          6.11,
          6.12,
          6.13,
          6.14,
          6.15,
          6.16,
          6.17,
          6.18,
          6.1899999999999995,
          6.2,
          6.21,
          6.22,
          6.23,
          6.24,
          6.25,
          6.26,
          6.27,
          6.28,
          6.29,
          6.3,
          6.3100000000000005,
          6.32,
          6.33,
          6.34,
          6.35,
          6.36,
          6.37,
          6.38,
          6.39,
          6.4,
          6.41,
          6.42,
          6.43,
          6.4399999999999995,
          6.45,
          6.46,
          6.47,
          6.48,
          6.49,
          6.5,
          6.51,
          6.52,
          6.53,
          6.54,
          6.55,
          6.5600000000000005,
          6.57,
          6.58,
          6.59,
          6.6,
          6.61,
          6.62,
          6.63,
          6.64,
          6.65,
          6.66,
          6.67,
          6.68,
          6.6899999999999995,
          6.7,
          6.71,
          6.72,
          6.73,
          6.74,
          6.75,
          6.76,
          6.77,
          6.779999999999999,
          6.79,
          6.8,
          6.8100000000000005,
          6.82,
          6.83,
          6.84,
          6.85,
          6.859999999999999,
          6.87,
          6.88,
          6.890000000000001,
          6.9,
          6.91,
          6.92,
          6.93,
          6.9399999999999995,
          6.95,
          6.96,
          6.970000000000001,
          6.98,
          6.99,
          7,
          7.01,
          7.02,
          7.029999999999999,
          7.04,
          7.05,
          7.0600000000000005,
          7.07,
          7.08,
          7.09,
          7.1,
          7.109999999999999,
          7.12,
          7.13,
          7.140000000000001,
          7.15,
          7.16,
          7.17,
          7.18,
          7.1899999999999995,
          7.2,
          7.21,
          7.220000000000001,
          7.23,
          7.24,
          7.25,
          7.26,
          7.27,
          7.279999999999999,
          7.29,
          7.3,
          7.3100000000000005,
          7.32,
          7.33,
          7.34,
          7.35,
          7.359999999999999,
          7.37,
          7.38,
          7.390000000000001,
          7.4,
          7.41,
          7.42,
          7.43,
          7.4399999999999995,
          7.45,
          7.46,
          7.470000000000001,
          7.48,
          7.49,
          7.5,
          7.51,
          7.52,
          7.529999999999999,
          7.54,
          7.55,
          7.5600000000000005,
          7.57,
          7.58,
          7.59,
          7.6,
          7.609999999999999,
          7.62,
          7.63,
          7.640000000000001,
          7.65,
          7.66,
          7.67,
          7.68,
          7.6899999999999995,
          7.7,
          7.71,
          7.720000000000001,
          7.73,
          7.74,
          7.75,
          7.76,
          7.77,
          7.779999999999999,
          7.79,
          7.8,
          7.8100000000000005,
          7.82,
          7.83,
          7.84,
          7.85,
          7.859999999999999,
          7.87,
          7.88,
          7.890000000000001,
          7.9,
          7.91,
          7.92,
          7.93,
          7.9399999999999995,
          7.95,
          7.96,
          7.970000000000001,
          7.98,
          7.99,
          8,
          8.01,
          8.02,
          8.03,
          8.04,
          8.05,
          8.06,
          8.07,
          8.08,
          8.09,
          8.1,
          8.11,
          8.120000000000001,
          8.129999999999999,
          8.14,
          8.15,
          8.16,
          8.17,
          8.18,
          8.19,
          8.2,
          8.21,
          8.22,
          8.23,
          8.24,
          8.25,
          8.26,
          8.27,
          8.28,
          8.29,
          8.3,
          8.31,
          8.32,
          8.33,
          8.34,
          8.35,
          8.36,
          8.370000000000001,
          8.379999999999999,
          8.39,
          8.4,
          8.41,
          8.42,
          8.43,
          8.44,
          8.45,
          8.46,
          8.47,
          8.48,
          8.49,
          8.5,
          8.51,
          8.52,
          8.53,
          8.54,
          8.55,
          8.56,
          8.57,
          8.58,
          8.59,
          8.6,
          8.61,
          8.620000000000001,
          8.629999999999999,
          8.64,
          8.65,
          8.66,
          8.67,
          8.68,
          8.69,
          8.7,
          8.71,
          8.72,
          8.73,
          8.74,
          8.75,
          8.76,
          8.77,
          8.780000000000001,
          8.79,
          8.8,
          8.809999999999999,
          8.82,
          8.83,
          8.84,
          8.85,
          8.86,
          8.870000000000001,
          8.879999999999999,
          8.89,
          8.9,
          8.91,
          8.92,
          8.93,
          8.940000000000001,
          8.95,
          8.96,
          8.969999999999999,
          8.98,
          8.99,
          9,
          9.01,
          9.02,
          9.030000000000001,
          9.04,
          9.05,
          9.059999999999999,
          9.07,
          9.08,
          9.09,
          9.1,
          9.11,
          9.120000000000001,
          9.129999999999999,
          9.14,
          9.15,
          9.16,
          9.17,
          9.18,
          9.190000000000001,
          9.2,
          9.21,
          9.219999999999999,
          9.23,
          9.24,
          9.25,
          9.26,
          9.27,
          9.280000000000001,
          9.29,
          9.3,
          9.309999999999999,
          9.32,
          9.33,
          9.34,
          9.35,
          9.36,
          9.370000000000001,
          9.379999999999999,
          9.39,
          9.4,
          9.41,
          9.42,
          9.43,
          9.440000000000001,
          9.45,
          9.46,
          9.469999999999999,
          9.48,
          9.49,
          9.5,
          9.51,
          9.52,
          9.530000000000001,
          9.54,
          9.55,
          9.559999999999999,
          9.57,
          9.58,
          9.59,
          9.6,
          9.61,
          9.620000000000001,
          9.629999999999999,
          9.64,
          9.65,
          9.66,
          9.67,
          9.68,
          9.690000000000001,
          9.7,
          9.71,
          9.719999999999999,
          9.73,
          9.74
         ],
         "xaxis": "x",
         "y": [
          0.0015284979706054803,
          0.0015800166687723774,
          0.0016331099502178963,
          0.0016878200244361805,
          0.001744190028340983,
          0.001802264039947673,
          0.0018620870920387613,
          0.001923705185804122,
          0.001987165304446856,
          0.002052515426745424,
          0.0021198045405623855,
          0.0021890826562898104,
          0.002260400820221199,
          0.0023338111278393835,
          0.0024093667370096504,
          0.0024871218810670246,
          0.0025671318817862983,
          0.0026494531622233784,
          0.0027341432594157524,
          0.0028212608369301275,
          0.0029108656972445454,
          0.003003018793952451,
          0.0030977822437753717,
          0.003195219338371163,
          0.0032953945559239415,
          0.0033983735725021356,
          0.0035042232731701418,
          0.0036130117628394662,
          0.00372480837684445,
          0.0038396836912277,
          0.003957709532720021,
          0.004078958988399341,
          0.004203506415012845,
          0.0043314274479464236,
          0.004462799009825223,
          0.00459769931872875,
          0.004736207896003917,
          0.004878405573659056,
          0.005024374501321909,
          0.0051741981527440905,
          0.005327961331834541,
          0.005485750178204288,
          0.005647652172204594,
          0.005813756139440296,
          0.005984152254740172,
          0.006158932045565843,
          0.006338188394840778,
          0.0065220155431805,
          0.006710509090505341,
          0.00690376599701656,
          0.007101884583517246,
          0.007304964531058214,
          0.007513106879890289,
          0.0077264140277032815,
          0.007944989727132512,
          0.008168939082513565,
          0.008398368545865734,
          0.008633385912084726,
          0.008874100313325643,
          0.009120622212556256,
          0.009373063396261804,
          0.009631536966281705,
          0.009896157330759135,
          0.010167040194184391,
          0.010444302546513044,
          0.01072806265133983,
          0.011018440033109863,
          0.011315555463348505,
          0.011619530945891455,
          0.011930489701096865,
          0.012248556149021934,
          0.012573855891545518,
          0.01290651569342043,
          0.013246663462237167,
          0.013594428227283002,
          0.013949940117279683,
          0.014313330336983664,
          0.014684731142632872,
          0.015064275816225145,
          0.01545209863861264,
          0.015848334861398725,
          0.016253120677622253,
          0.016666593191216175,
          0.017088890385227946,
          0.017520151088788037,
          0.017960514942815798,
          0.018410122364450544,
          0.018869114510197404,
          0.019337633237778054,
          0.019815821066676308,
          0.02030382113737028,
          0.02080177716924274,
          0.021309833417162666,
          0.021828134626731045,
          0.022356825988185117,
          0.022896053088956567,
          0.023445961864878368,
          0.024006698550038636,
          0.0245784096252771,
          0.025161241765323902,
          0.02575534178457977,
          0.026360856581537674,
          0.02697793308184693,
          0.027606718180022947,
          0.028247358679804224,
          0.028900001233162966,
          0.029564792277972363,
          0.03024187797433833,
          0.030931404139602995,
          0.0316335161820278,
          0.032348359033166414,
          0.03307607707893833,
          0.03381681408941425,
          0.03457071314732815,
          0.03533791657532797,
          0.03611856586198272,
          0.03691280158656084,
          0.037720763342599405,
          0.03854258966028246,
          0.0393784179276488,
          0.040228384310651955,
          0.04109262367209391,
          0.041971269489458944,
          0.04286445377167093,
          0.04377230697480243,
          0.0446949579167639,
          0.04563253369100176,
          0.04658515957923641,
          0.04755295896327337,
          0.0485360532359191,
          0.04953456171103896,
          0.050548601532790984,
          0.051578287584074366,
          0.05262373239423161,
          0.05368504604604382,
          0.0547623360820605,
          0.05585570741030805,
          0.056965262209418645,
          0.05809109983322771,
          0.05923331671488421,
          0.060392006270523026,
          0.061567258802547785,
          0.06275916140257612,
          0.06396779785409663,
          0.06519324853489254,
          0.06643559031928488,
          0.06769489648025057,
          0.0689712365914729,
          0.07026467642937997,
          0.07157527787523087,
          0.07290309881730983,
          0.07424819305328748,
          0.07561061019281214,
          0.07699039556039361,
          0.0783875900986424,
          0.07980223027193088,
          0.0812343479705394,
          0.082683970415355,
          0.08415112006319088,
          0.08563581451279197,
          0.08713806641159771,
          0.08865788336333011,
          0.09019526783647683,
          0.09175021707374174,
          0.09332272300253165,
          0.09491277214655258,
          0.09652034553858652,
          0.09814541863452332,
          0.09978796122871769,
          0.101447937370747,
          0.10312530528364189,
          0.10482001728366382,
          0.10653201970170446,
          0.10826125280637876,
          0.11000765072888648,
          0.1117711413897182,
          0.11355164642727576,
          0.11534908112848401,
          0.11716335436146627,
          0.11899436851035565,
          0.12084201941231817,
          0.12270619629685638,
          0.12458678172746737,
          0.1264836515457285,
          0.1283966748178778,
          0.1303257137839626,
          0.13227062380962443,
          0.13423125334058883,
          0.13620744385992992,
          0.13819902984817362,
          0.14020583874630804,
          0.14222769092176427,
          0.14426439963743365,
          0.14631577102378124,
          0.14838160405411902,
          0.15046169052309816,
          0.15255581502847823,
          0.15466375495623297,
          0.15678528046904522,
          0.15892015449824623,
          0.16106813273925394,
          0.1632289636505572,
          0.16540238845629715,
          0.1675881411524931,
          0.16978594851695644,
          0.1719955301229363,
          0.1742165983565408,
          0.1764488584379667,
          0.17869200844658256,
          0.18094573934989225,
          0.18320973503641685,
          0.18548367235252194,
          0.1877672211432201,
          0.19006004429697107,
          0.192361797794507,
          0.19467213076169687,
          0.19699068552647472,
          0.19931709767984065,
          0.20165099614095125,
          0.20399200322630684,
          0.20633973472304443,
          0.20869379996633752,
          0.21105380192090967,
          0.21341933726665255,
          0.21578999648835276,
          0.21816536396951275,
          0.22054501809026059,
          0.22292853132933294,
          0.22531547037011612,
          0.22770539621072627,
          0.2300978642781043,
          0.23249242454610525,
          0.23488862165754715,
          0.23728599505019457,
          0.23968407908663794,
          0.24208240318803265,
          0.24448049197165853,
          0.24687786539225445,
          0.24927403888708113,
          0.25166852352466573,
          0.2540608261571695,
          0.25645044957632973,
          0.25883689267291016,
          0.26121965059960345,
          0.26359821493731816,
          0.2659720738647824,
          0.2683407123313937,
          0.27070361223324346,
          0.27306025259223465,
          0.27541010973821867,
          0.27775265749406547,
          0.2800873673635835,
          0.28241370872220095,
          0.28473114901031993,
          0.2870391539292472,
          0.28933718763960836,
          0.2916247129621483,
          0.293901191580813,
          0.29616608424801566,
          0.2984188509919759,
          0.30065895132602993,
          0.3028858444597969,
          0.30509898951209435,
          0.30729784572548374,
          0.30948187268233573,
          0.3116505305222913,
          0.3138032801610048,
          0.31593958351004287,
          0.31805890369781875,
          0.32016070529143675,
          0.3222444545193198,
          0.3243096194944938,
          0.32635567043839975,
          0.32838207990510154,
          0.33038832300576204,
          0.33237387763325116,
          0.33433822468675545,
          0.3362808482962541,
          0.3382012360467275,
          0.34009887920196236,
          0.3419732729278164,
          0.3438239165148109,
          0.3456503135999078,
          0.34745197238734093,
          0.3492284058683609,
          0.3509791320397575,
          0.35270367412102444,
          0.3544015607700277,
          0.35607232629704366,
          0.35771551087702985,
          0.3593306607599938,
          0.36091732847932645,
          0.3624750730579644,
          0.36400346021225105,
          0.3655020625533629,
          0.36697045978617165,
          0.3684082389054113,
          0.36981499438902515,
          0.37119032838856253,
          0.3725338509165032,
          0.37384518003038447,
          0.37512394201361005,
          0.37636977155282053,
          0.3775823119117086,
          0.37876121510116245,
          0.37990614204562334,
          0.38101676274554813,
          0.3820927564358654,
          0.38313381174032046,
          0.38413962682160463,
          0.3851099095271667,
          0.38604437753061027,
          0.3869427584685782,
          0.38780479007303365,
          0.38863022029884714,
          0.3894188074466016,
          0.39017032028053383,
          0.3908845381415291,
          0.3915612510550948,
          0.39220025983423573,
          0.39280137617716354,
          0.39336442275977085,
          0.3938892333228085,
          0.394375652753704,
          0.39482353716296625,
          0.3952327539551236,
          0.3956031818941449,
          0.39593471116330126,
          0.3962272434194232,
          0.3964806918415202,
          0.39669498117372415,
          0.3968700477625319,
          0.3970058395883164,
          0.39710231629108844,
          0.39715944919048896,
          0.39717722129999844,
          0.3971556273353537,
          0.397094673717167,
          0.39699437856774394,
          0.396854771702104,
          0.3966758946132089,
          0.3964578004514094,
          0.3962005539981254,
          0.3959042316337762,
          0.39556892129998406,
          0.3951947224560777,
          0.39478174602992455,
          0.3943301143631273,
          0.39383996115062064,
          0.39331143137471236,
          0.3927446812336127,
          0.39213987806450146,
          0.39149720026118645,
          0.3908168371864101,
          0.3900989890788632,
          0.3893438669549719,
          0.38855169250552357,
          0.3877226979872028,
          0.38685712610911255,
          0.3859552299143576,
          0.38501727265677116,
          0.38404352767286803,
          0.38303427824911307,
          0.3819898174845946,
          0.38091044814919295,
          0.3797964825373476,
          0.3786482423175121,
          0.37746605837740643,
          0.3762502706651669,
          0.3750012280265009,
          0.37371928803795634,
          0.37240481683641696,
          0.37105818894493764,
          0.36967978709503346,
          0.3682700020455445,
          0.3668292323981923,
          0.3653578844099524,
          0.3638563718023649,
          0.3623251155679088,
          0.36076454377356737,
          0.35917509136171066,
          0.35755719994842905,
          0.3559113176194406,
          0.3542378987237136,
          0.35253740366492886,
          0.35081029869092134,
          0.3490570556812308,
          0.34727815193289985,
          0.34547406994465557,
          0.3436452971996036,
          0.3417923259465858,
          0.3399156529803195,
          0.33801577942047123,
          0.336093210489793,
          0.3341484552914595,
          0.3321820265857444,
          0.3301944405661698,
          0.3281862166352674,
          0.32615787718008155,
          0.324109947347555,
          0.32204295481992756,
          0.31995742959028056,
          0.31785390373836186,
          0.315732911206818,
          0.3135949875779713,
          0.3114406698512571,
          0.3092704962214693,
          0.3070850058579136,
          0.3048847386846219,
          0.30267023516172475,
          0.30044203606812103,
          0.29820068228555635,
          0.2959467145842288,
          0.2936806734100417,
          0.29140309867360686,
          0.2891145295411281,
          0.2868155042272525,
          0.28450655979001543,
          0.28218823192797393,
          0.2798610547796344,
          0.2775255607252768,
          0.27518228019126467,
          0.27283174145695405,
          0.27047447046426876,
          0.2681109906300597,
          0.2657418226613113,
          0.263367484373297,
          0.2609884905107564,
          0.2586053525721771,
          0.256218578637258,
          0.2538286731976199,
          0.2514361369908506,
          0.24904146683792852,
          0.24664515548411567,
          0.24424769144335662,
          0.2418495588462611,
          0.2394512372917154,
          0.2370532017021782,
          0.2346559221827127,
          0.23225986388379197,
          0.22986548686793826,
          0.22747324598021557,
          0.22508359072262965,
          0.22269696513246043,
          0.2203138076645604,
          0.2179345510776494,
          0.2155596223246213,
          0.2131894424469028,
          0.2108244264728579,
          0.2084649833202819,
          0.20611151570297118,
          0.2037644200413994,
          0.20142408637749518,
          0.19909089829352927,
          0.19676523283511452,
          0.19444746043830777,
          0.19213794486082664,
          0.18983704311735025,
          0.18754510541891972,
          0.1852624751164019,
          0.1829894886480186,
          0.18072647549091378,
          0.1784737581167415,
          0.17623165195125268,
          0.17400046533784777,
          0.17178049950508237,
          0.16957204853807678,
          0.1673753993538117,
          0.1651908316802683,
          0.1630186180393761,
          0.16085902373373268,
          0.1587123068370456,
          0.15657871818826816,
          0.15445850138936348,
          0.1523518928066717,
          0.15025912157581056,
          0.14818040961007398,
          0.14611597161226808,
          0.14406601508993203,
          0.14203074037389093,
          0.14001034064007495,
          0.13800500193456067,
          0.13601490320175502,
          0.1340402163156817,
          0.13208110611428697,
          0.13013773043671664,
          0.1282102401634902,
          0.12629877925950925,
          0.12440348481983442,
          0.12252448711815592,
          0.12066190965790206,
          0.11881586922589979,
          0.11698647594853055,
          0.1151738333503032,
          0.11337803841477402,
          0.11159918164774414,
          0.10983734714265467,
          0.10809261264811963,
          0.10636504963750608,
          0.10465472338050665
         ],
         "yaxis": "y"
        },
        {
         "legendgroup": "SGPA Distribution",
         "marker": {
          "color": "rgb(31, 119, 180)",
          "symbol": "line-ns-open"
         },
         "mode": "markers",
         "name": "SGPA Distribution",
         "showlegend": false,
         "type": "scatter",
         "x": [
          9.75,
          9.75,
          9.75,
          9.75,
          9.75,
          9.75,
          9.75,
          9.25,
          9.25,
          9.25,
          9.25,
          9.25,
          9.25,
          9.25,
          9.25,
          9.25,
          9.25,
          9.25,
          9.25,
          9.25,
          9.25,
          8.75,
          8.75,
          8.75,
          8.75,
          8.75,
          8.75,
          8.75,
          8.75,
          8.75,
          8.75,
          8.75,
          8.75,
          8.75,
          8.75,
          8.75,
          8.75,
          8.75,
          8.75,
          8.25,
          8.25,
          8.25,
          8.25,
          8.25,
          8.25,
          8.25,
          8.25,
          8.25,
          8.25,
          8.25,
          8.25,
          8.25,
          8.25,
          8.25,
          8.25,
          8.25,
          7.75,
          7.75,
          7.75,
          7.75,
          7.75,
          7.75,
          7.75,
          7.75,
          7.75,
          7.75,
          7.75,
          7.75,
          7.75,
          7.75,
          7.75,
          7.75,
          7.75,
          7.75,
          7.75,
          7.75,
          7.75,
          7.25,
          7.25,
          7.25,
          7.25,
          7.25,
          7.25,
          7.25,
          7.25,
          7.25,
          7.25,
          7.25,
          7.25,
          6.75,
          6.75,
          6.75,
          6.75,
          6.75,
          6.75,
          6.75,
          6.75,
          6.25,
          6.25,
          6.25,
          5.75,
          5.75,
          4.75
         ],
         "xaxis": "x",
         "y": [
          "SGPA Distribution",
          "SGPA Distribution",
          "SGPA Distribution",
          "SGPA Distribution",
          "SGPA Distribution",
          "SGPA Distribution",
          "SGPA Distribution",
          "SGPA Distribution",
          "SGPA Distribution",
          "SGPA Distribution",
          "SGPA Distribution",
          "SGPA Distribution",
          "SGPA Distribution",
          "SGPA Distribution",
          "SGPA Distribution",
          "SGPA Distribution",
          "SGPA Distribution",
          "SGPA Distribution",
          "SGPA Distribution",
          "SGPA Distribution",
          "SGPA Distribution",
          "SGPA Distribution",
          "SGPA Distribution",
          "SGPA Distribution",
          "SGPA Distribution",
          "SGPA Distribution",
          "SGPA Distribution",
          "SGPA Distribution",
          "SGPA Distribution",
          "SGPA Distribution",
          "SGPA Distribution",
          "SGPA Distribution",
          "SGPA Distribution",
          "SGPA Distribution",
          "SGPA Distribution",
          "SGPA Distribution",
          "SGPA Distribution",
          "SGPA Distribution",
          "SGPA Distribution",
          "SGPA Distribution",
          "SGPA Distribution",
          "SGPA Distribution",
          "SGPA Distribution",
          "SGPA Distribution",
          "SGPA Distribution",
          "SGPA Distribution",
          "SGPA Distribution",
          "SGPA Distribution",
          "SGPA Distribution",
          "SGPA Distribution",
          "SGPA Distribution",
          "SGPA Distribution",
          "SGPA Distribution",
          "SGPA Distribution",
          "SGPA Distribution",
          "SGPA Distribution",
          "SGPA Distribution",
          "SGPA Distribution",
          "SGPA Distribution",
          "SGPA Distribution",
          "SGPA Distribution",
          "SGPA Distribution",
          "SGPA Distribution",
          "SGPA Distribution",
          "SGPA Distribution",
          "SGPA Distribution",
          "SGPA Distribution",
          "SGPA Distribution",
          "SGPA Distribution",
          "SGPA Distribution",
          "SGPA Distribution",
          "SGPA Distribution",
          "SGPA Distribution",
          "SGPA Distribution",
          "SGPA Distribution",
          "SGPA Distribution",
          "SGPA Distribution",
          "SGPA Distribution",
          "SGPA Distribution",
          "SGPA Distribution",
          "SGPA Distribution",
          "SGPA Distribution",
          "SGPA Distribution",
          "SGPA Distribution",
          "SGPA Distribution",
          "SGPA Distribution",
          "SGPA Distribution",
          "SGPA Distribution",
          "SGPA Distribution",
          "SGPA Distribution",
          "SGPA Distribution",
          "SGPA Distribution",
          "SGPA Distribution",
          "SGPA Distribution",
          "SGPA Distribution",
          "SGPA Distribution",
          "SGPA Distribution",
          "SGPA Distribution",
          "SGPA Distribution",
          "SGPA Distribution",
          "SGPA Distribution",
          "SGPA Distribution",
          "SGPA Distribution"
         ],
         "yaxis": "y2"
        }
       ],
       "layout": {
        "barmode": "overlay",
        "hovermode": "closest",
        "legend": {
         "traceorder": "reversed"
        },
        "template": {
         "data": {
          "bar": [
           {
            "error_x": {
             "color": "#2a3f5f"
            },
            "error_y": {
             "color": "#2a3f5f"
            },
            "marker": {
             "line": {
              "color": "#E5ECF6",
              "width": 0.5
             },
             "pattern": {
              "fillmode": "overlay",
              "size": 10,
              "solidity": 0.2
             }
            },
            "type": "bar"
           }
          ],
          "barpolar": [
           {
            "marker": {
             "line": {
              "color": "#E5ECF6",
              "width": 0.5
             },
             "pattern": {
              "fillmode": "overlay",
              "size": 10,
              "solidity": 0.2
             }
            },
            "type": "barpolar"
           }
          ],
          "carpet": [
           {
            "aaxis": {
             "endlinecolor": "#2a3f5f",
             "gridcolor": "white",
             "linecolor": "white",
             "minorgridcolor": "white",
             "startlinecolor": "#2a3f5f"
            },
            "baxis": {
             "endlinecolor": "#2a3f5f",
             "gridcolor": "white",
             "linecolor": "white",
             "minorgridcolor": "white",
             "startlinecolor": "#2a3f5f"
            },
            "type": "carpet"
           }
          ],
          "choropleth": [
           {
            "colorbar": {
             "outlinewidth": 0,
             "ticks": ""
            },
            "type": "choropleth"
           }
          ],
          "contour": [
           {
            "colorbar": {
             "outlinewidth": 0,
             "ticks": ""
            },
            "colorscale": [
             [
              0,
              "#0d0887"
             ],
             [
              0.1111111111111111,
              "#46039f"
             ],
             [
              0.2222222222222222,
              "#7201a8"
             ],
             [
              0.3333333333333333,
              "#9c179e"
             ],
             [
              0.4444444444444444,
              "#bd3786"
             ],
             [
              0.5555555555555556,
              "#d8576b"
             ],
             [
              0.6666666666666666,
              "#ed7953"
             ],
             [
              0.7777777777777778,
              "#fb9f3a"
             ],
             [
              0.8888888888888888,
              "#fdca26"
             ],
             [
              1,
              "#f0f921"
             ]
            ],
            "type": "contour"
           }
          ],
          "contourcarpet": [
           {
            "colorbar": {
             "outlinewidth": 0,
             "ticks": ""
            },
            "type": "contourcarpet"
           }
          ],
          "heatmap": [
           {
            "colorbar": {
             "outlinewidth": 0,
             "ticks": ""
            },
            "colorscale": [
             [
              0,
              "#0d0887"
             ],
             [
              0.1111111111111111,
              "#46039f"
             ],
             [
              0.2222222222222222,
              "#7201a8"
             ],
             [
              0.3333333333333333,
              "#9c179e"
             ],
             [
              0.4444444444444444,
              "#bd3786"
             ],
             [
              0.5555555555555556,
              "#d8576b"
             ],
             [
              0.6666666666666666,
              "#ed7953"
             ],
             [
              0.7777777777777778,
              "#fb9f3a"
             ],
             [
              0.8888888888888888,
              "#fdca26"
             ],
             [
              1,
              "#f0f921"
             ]
            ],
            "type": "heatmap"
           }
          ],
          "heatmapgl": [
           {
            "colorbar": {
             "outlinewidth": 0,
             "ticks": ""
            },
            "colorscale": [
             [
              0,
              "#0d0887"
             ],
             [
              0.1111111111111111,
              "#46039f"
             ],
             [
              0.2222222222222222,
              "#7201a8"
             ],
             [
              0.3333333333333333,
              "#9c179e"
             ],
             [
              0.4444444444444444,
              "#bd3786"
             ],
             [
              0.5555555555555556,
              "#d8576b"
             ],
             [
              0.6666666666666666,
              "#ed7953"
             ],
             [
              0.7777777777777778,
              "#fb9f3a"
             ],
             [
              0.8888888888888888,
              "#fdca26"
             ],
             [
              1,
              "#f0f921"
             ]
            ],
            "type": "heatmapgl"
           }
          ],
          "histogram": [
           {
            "marker": {
             "pattern": {
              "fillmode": "overlay",
              "size": 10,
              "solidity": 0.2
             }
            },
            "type": "histogram"
           }
          ],
          "histogram2d": [
           {
            "colorbar": {
             "outlinewidth": 0,
             "ticks": ""
            },
            "colorscale": [
             [
              0,
              "#0d0887"
             ],
             [
              0.1111111111111111,
              "#46039f"
             ],
             [
              0.2222222222222222,
              "#7201a8"
             ],
             [
              0.3333333333333333,
              "#9c179e"
             ],
             [
              0.4444444444444444,
              "#bd3786"
             ],
             [
              0.5555555555555556,
              "#d8576b"
             ],
             [
              0.6666666666666666,
              "#ed7953"
             ],
             [
              0.7777777777777778,
              "#fb9f3a"
             ],
             [
              0.8888888888888888,
              "#fdca26"
             ],
             [
              1,
              "#f0f921"
             ]
            ],
            "type": "histogram2d"
           }
          ],
          "histogram2dcontour": [
           {
            "colorbar": {
             "outlinewidth": 0,
             "ticks": ""
            },
            "colorscale": [
             [
              0,
              "#0d0887"
             ],
             [
              0.1111111111111111,
              "#46039f"
             ],
             [
              0.2222222222222222,
              "#7201a8"
             ],
             [
              0.3333333333333333,
              "#9c179e"
             ],
             [
              0.4444444444444444,
              "#bd3786"
             ],
             [
              0.5555555555555556,
              "#d8576b"
             ],
             [
              0.6666666666666666,
              "#ed7953"
             ],
             [
              0.7777777777777778,
              "#fb9f3a"
             ],
             [
              0.8888888888888888,
              "#fdca26"
             ],
             [
              1,
              "#f0f921"
             ]
            ],
            "type": "histogram2dcontour"
           }
          ],
          "mesh3d": [
           {
            "colorbar": {
             "outlinewidth": 0,
             "ticks": ""
            },
            "type": "mesh3d"
           }
          ],
          "parcoords": [
           {
            "line": {
             "colorbar": {
              "outlinewidth": 0,
              "ticks": ""
             }
            },
            "type": "parcoords"
           }
          ],
          "pie": [
           {
            "automargin": true,
            "type": "pie"
           }
          ],
          "scatter": [
           {
            "fillpattern": {
             "fillmode": "overlay",
             "size": 10,
             "solidity": 0.2
            },
            "type": "scatter"
           }
          ],
          "scatter3d": [
           {
            "line": {
             "colorbar": {
              "outlinewidth": 0,
              "ticks": ""
             }
            },
            "marker": {
             "colorbar": {
              "outlinewidth": 0,
              "ticks": ""
             }
            },
            "type": "scatter3d"
           }
          ],
          "scattercarpet": [
           {
            "marker": {
             "colorbar": {
              "outlinewidth": 0,
              "ticks": ""
             }
            },
            "type": "scattercarpet"
           }
          ],
          "scattergeo": [
           {
            "marker": {
             "colorbar": {
              "outlinewidth": 0,
              "ticks": ""
             }
            },
            "type": "scattergeo"
           }
          ],
          "scattergl": [
           {
            "marker": {
             "colorbar": {
              "outlinewidth": 0,
              "ticks": ""
             }
            },
            "type": "scattergl"
           }
          ],
          "scattermapbox": [
           {
            "marker": {
             "colorbar": {
              "outlinewidth": 0,
              "ticks": ""
             }
            },
            "type": "scattermapbox"
           }
          ],
          "scatterpolar": [
           {
            "marker": {
             "colorbar": {
              "outlinewidth": 0,
              "ticks": ""
             }
            },
            "type": "scatterpolar"
           }
          ],
          "scatterpolargl": [
           {
            "marker": {
             "colorbar": {
              "outlinewidth": 0,
              "ticks": ""
             }
            },
            "type": "scatterpolargl"
           }
          ],
          "scatterternary": [
           {
            "marker": {
             "colorbar": {
              "outlinewidth": 0,
              "ticks": ""
             }
            },
            "type": "scatterternary"
           }
          ],
          "surface": [
           {
            "colorbar": {
             "outlinewidth": 0,
             "ticks": ""
            },
            "colorscale": [
             [
              0,
              "#0d0887"
             ],
             [
              0.1111111111111111,
              "#46039f"
             ],
             [
              0.2222222222222222,
              "#7201a8"
             ],
             [
              0.3333333333333333,
              "#9c179e"
             ],
             [
              0.4444444444444444,
              "#bd3786"
             ],
             [
              0.5555555555555556,
              "#d8576b"
             ],
             [
              0.6666666666666666,
              "#ed7953"
             ],
             [
              0.7777777777777778,
              "#fb9f3a"
             ],
             [
              0.8888888888888888,
              "#fdca26"
             ],
             [
              1,
              "#f0f921"
             ]
            ],
            "type": "surface"
           }
          ],
          "table": [
           {
            "cells": {
             "fill": {
              "color": "#EBF0F8"
             },
             "line": {
              "color": "white"
             }
            },
            "header": {
             "fill": {
              "color": "#C8D4E3"
             },
             "line": {
              "color": "white"
             }
            },
            "type": "table"
           }
          ]
         },
         "layout": {
          "annotationdefaults": {
           "arrowcolor": "#2a3f5f",
           "arrowhead": 0,
           "arrowwidth": 1
          },
          "autotypenumbers": "strict",
          "coloraxis": {
           "colorbar": {
            "outlinewidth": 0,
            "ticks": ""
           }
          },
          "colorscale": {
           "diverging": [
            [
             0,
             "#8e0152"
            ],
            [
             0.1,
             "#c51b7d"
            ],
            [
             0.2,
             "#de77ae"
            ],
            [
             0.3,
             "#f1b6da"
            ],
            [
             0.4,
             "#fde0ef"
            ],
            [
             0.5,
             "#f7f7f7"
            ],
            [
             0.6,
             "#e6f5d0"
            ],
            [
             0.7,
             "#b8e186"
            ],
            [
             0.8,
             "#7fbc41"
            ],
            [
             0.9,
             "#4d9221"
            ],
            [
             1,
             "#276419"
            ]
           ],
           "sequential": [
            [
             0,
             "#0d0887"
            ],
            [
             0.1111111111111111,
             "#46039f"
            ],
            [
             0.2222222222222222,
             "#7201a8"
            ],
            [
             0.3333333333333333,
             "#9c179e"
            ],
            [
             0.4444444444444444,
             "#bd3786"
            ],
            [
             0.5555555555555556,
             "#d8576b"
            ],
            [
             0.6666666666666666,
             "#ed7953"
            ],
            [
             0.7777777777777778,
             "#fb9f3a"
            ],
            [
             0.8888888888888888,
             "#fdca26"
            ],
            [
             1,
             "#f0f921"
            ]
           ],
           "sequentialminus": [
            [
             0,
             "#0d0887"
            ],
            [
             0.1111111111111111,
             "#46039f"
            ],
            [
             0.2222222222222222,
             "#7201a8"
            ],
            [
             0.3333333333333333,
             "#9c179e"
            ],
            [
             0.4444444444444444,
             "#bd3786"
            ],
            [
             0.5555555555555556,
             "#d8576b"
            ],
            [
             0.6666666666666666,
             "#ed7953"
            ],
            [
             0.7777777777777778,
             "#fb9f3a"
            ],
            [
             0.8888888888888888,
             "#fdca26"
            ],
            [
             1,
             "#f0f921"
            ]
           ]
          },
          "colorway": [
           "#636efa",
           "#EF553B",
           "#00cc96",
           "#ab63fa",
           "#FFA15A",
           "#19d3f3",
           "#FF6692",
           "#B6E880",
           "#FF97FF",
           "#FECB52"
          ],
          "font": {
           "color": "#2a3f5f"
          },
          "geo": {
           "bgcolor": "white",
           "lakecolor": "white",
           "landcolor": "#E5ECF6",
           "showlakes": true,
           "showland": true,
           "subunitcolor": "white"
          },
          "hoverlabel": {
           "align": "left"
          },
          "hovermode": "closest",
          "mapbox": {
           "style": "light"
          },
          "paper_bgcolor": "white",
          "plot_bgcolor": "#E5ECF6",
          "polar": {
           "angularaxis": {
            "gridcolor": "white",
            "linecolor": "white",
            "ticks": ""
           },
           "bgcolor": "#E5ECF6",
           "radialaxis": {
            "gridcolor": "white",
            "linecolor": "white",
            "ticks": ""
           }
          },
          "scene": {
           "xaxis": {
            "backgroundcolor": "#E5ECF6",
            "gridcolor": "white",
            "gridwidth": 2,
            "linecolor": "white",
            "showbackground": true,
            "ticks": "",
            "zerolinecolor": "white"
           },
           "yaxis": {
            "backgroundcolor": "#E5ECF6",
            "gridcolor": "white",
            "gridwidth": 2,
            "linecolor": "white",
            "showbackground": true,
            "ticks": "",
            "zerolinecolor": "white"
           },
           "zaxis": {
            "backgroundcolor": "#E5ECF6",
            "gridcolor": "white",
            "gridwidth": 2,
            "linecolor": "white",
            "showbackground": true,
            "ticks": "",
            "zerolinecolor": "white"
           }
          },
          "shapedefaults": {
           "line": {
            "color": "#2a3f5f"
           }
          },
          "ternary": {
           "aaxis": {
            "gridcolor": "white",
            "linecolor": "white",
            "ticks": ""
           },
           "baxis": {
            "gridcolor": "white",
            "linecolor": "white",
            "ticks": ""
           },
           "bgcolor": "#E5ECF6",
           "caxis": {
            "gridcolor": "white",
            "linecolor": "white",
            "ticks": ""
           }
          },
          "title": {
           "x": 0.05
          },
          "xaxis": {
           "automargin": true,
           "gridcolor": "white",
           "linecolor": "white",
           "ticks": "",
           "title": {
            "standoff": 15
           },
           "zerolinecolor": "white",
           "zerolinewidth": 2
          },
          "yaxis": {
           "automargin": true,
           "gridcolor": "white",
           "linecolor": "white",
           "ticks": "",
           "title": {
            "standoff": 15
           },
           "zerolinecolor": "white",
           "zerolinewidth": 2
          }
         }
        },
        "title": {
         "text": "First Sem SGPA Distribution | 103 students"
        },
        "xaxis": {
         "anchor": "y2",
         "domain": [
          0,
          1
         ],
         "title": {
          "text": "SGPA Values"
         },
         "zeroline": false
        },
        "yaxis": {
         "anchor": "free",
         "domain": [
          0.35,
          1
         ],
         "position": 0,
         "title": {
          "text": "Number of people in the range"
         }
        },
        "yaxis2": {
         "anchor": "x",
         "domain": [
          0,
          0.25
         ],
         "dtick": 1,
         "showticklabels": false
        }
       }
      }
     },
     "metadata": {},
     "output_type": "display_data"
    }
   ],
   "source": [
    "\"\"\"Syntax:\n",
    "fig = ff.create_distplot(hist_data, group_labels)\n",
    "fig.show()\n",
    "\"\"\"\n",
    "\n",
    "first_sem_total_values = sum(\n",
    "    first_sem_sgpa_plot_data[key] for key in first_sem_sgpa_plot_data\n",
    ")\n",
    "\n",
    "first_sem_sgpa_dist_plot = ff.create_distplot(\n",
    "    [first_sem_sgpa_hist_data],\n",
    "    group_labels=[\"SGPA Distribution\"],\n",
    "    curve_type=\"normal\",\n",
    ")\n",
    "\n",
    "first_sem_sgpa_dist_plot.update_layout(\n",
    "    title_text=f\"First Sem SGPA Distribution | {first_sem_total_values} students\",\n",
    "    xaxis_title=\"SGPA Values\",\n",
    "    yaxis_title=\"Number of people in the range\",\n",
    ")\n",
    "\n",
    "first_sem_sgpa_dist_plot.show()"
   ]
  },
  {
   "cell_type": "markdown",
   "metadata": {},
   "source": [
    "### Average First Semester SGPA\n",
    "\n",
    "- From the above curves, we can see that the average SGPA for the first semester lies somewhere around 8\n",
    "- Since we have taken the input in the form of ranges, we will use the midpoint of the range to perform the calculations\n",
    "- This may be off from the true value, but it will give us a good rough estimate for the same\n"
   ]
  },
  {
   "cell_type": "code",
   "execution_count": 62,
   "metadata": {},
   "outputs": [
    {
     "data": {
      "text/plain": [
       "defaultdict(int,\n",
       "            {9.75: 7,\n",
       "             9.25: 14,\n",
       "             8.75: 18,\n",
       "             8.25: 17,\n",
       "             7.75: 21,\n",
       "             7.25: 12,\n",
       "             6.75: 8,\n",
       "             6.25: 3,\n",
       "             5.75: 2,\n",
       "             4.75: 1})"
      ]
     },
     "execution_count": 62,
     "metadata": {},
     "output_type": "execute_result"
    }
   ],
   "source": [
    "first_sem_sgpa_count"
   ]
  },
  {
   "cell_type": "code",
   "execution_count": 63,
   "metadata": {},
   "outputs": [
    {
     "name": "stdout",
     "output_type": "stream",
     "text": [
      "8.099514563106796\n"
     ]
    }
   ],
   "source": [
    "total = 0\n",
    "student_count = 0\n",
    "weighted_mean_first_sem_sgpa = 0\n",
    "\n",
    "for sgpa, n in first_sem_sgpa_count.items():\n",
    "    total += sgpa * n\n",
    "    student_count += n\n",
    "\n",
    "weighted_mean_first_sem_sgpa = total / student_count\n",
    "print(weighted_mean_first_sem_sgpa)"
   ]
  },
  {
   "cell_type": "markdown",
   "metadata": {},
   "source": [
    "From the above calculations, we can see that the average SGPA for the first semester is approximately $8.01$ (rounded off to 2 decimal places)\n"
   ]
  },
  {
   "cell_type": "markdown",
   "metadata": {},
   "source": [
    "---\n"
   ]
  },
  {
   "cell_type": "markdown",
   "metadata": {},
   "source": [
    "### Saving Plots\n"
   ]
  },
  {
   "cell_type": "code",
   "execution_count": 64,
   "metadata": {},
   "outputs": [],
   "source": [
    "\"\"\"Syntax:\n",
    "plt.write_html(\"plots/plt_name.html\")\n",
    "\"\"\"\n",
    "\n",
    "score_interval_bitsat_390.write_html(\"plots/score_interval_bitsat_390.html\")\n",
    "score_interval_bitsat_450.write_html(\"plots/score_interval_bitsat_450.html\")\n",
    "\n",
    "score_interval_cgpa_390.write_html(\"plots/score_interval_cgpa_390.html\")\n",
    "score_interval_cgpa_450.write_html(\"plots/score_interval_cgpa_450.html\")\n",
    "\n",
    "score_interval_dropped_390.write_html(\"plots/score_interval_dropped_390.html\")\n",
    "score_interval_dropped_450.write_html(\"plots/score_interval_dropped_450.html\")\n",
    "\n",
    "bitsat_current_cgpa_plot.write_html(\"plots/bitsat_current_cgpa_plot.html\")\n",
    "\n",
    "first_sem_sgpa_plot.write_html(\"plots/first_sem_sgpa_plot.html\")\n",
    "first_sem_sgpa_dist_plot.write_html(\"plots/first_sem_sgpa_dist_plot.html\")"
   ]
  }
 ],
 "metadata": {
  "kernelspec": {
   "display_name": "Python 3",
   "language": "python",
   "name": "python3"
  },
  "language_info": {
   "codemirror_mode": {
    "name": "ipython",
    "version": 3
   },
   "file_extension": ".py",
   "mimetype": "text/x-python",
   "name": "python",
   "nbconvert_exporter": "python",
   "pygments_lexer": "ipython3",
   "version": "3.9.0"
  }
 },
 "nbformat": 4,
 "nbformat_minor": 2
}
